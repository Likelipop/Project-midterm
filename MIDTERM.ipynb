{
  "cells": [
    {
      "cell_type": "markdown",
      "source": [
        "#0. Library, load data"
      ],
      "metadata": {
        "id": "LYNj2ddKunW9"
      }
    },
    {
      "cell_type": "code",
      "source": [
        "!pip install optuna"
      ],
      "metadata": {
        "colab": {
          "base_uri": "https://localhost:8080/"
        },
        "id": "c9T30kSiYAOP",
        "outputId": "e31b8ee8-7a66-4de0-9fab-9bd394343811"
      },
      "execution_count": 411,
      "outputs": [
        {
          "output_type": "stream",
          "name": "stdout",
          "text": [
            "Requirement already satisfied: optuna in /usr/local/lib/python3.10/dist-packages (4.1.0)\n",
            "Requirement already satisfied: alembic>=1.5.0 in /usr/local/lib/python3.10/dist-packages (from optuna) (1.14.0)\n",
            "Requirement already satisfied: colorlog in /usr/local/lib/python3.10/dist-packages (from optuna) (6.9.0)\n",
            "Requirement already satisfied: numpy in /usr/local/lib/python3.10/dist-packages (from optuna) (1.26.4)\n",
            "Requirement already satisfied: packaging>=20.0 in /usr/local/lib/python3.10/dist-packages (from optuna) (24.2)\n",
            "Requirement already satisfied: sqlalchemy>=1.4.2 in /usr/local/lib/python3.10/dist-packages (from optuna) (2.0.36)\n",
            "Requirement already satisfied: tqdm in /usr/local/lib/python3.10/dist-packages (from optuna) (4.66.6)\n",
            "Requirement already satisfied: PyYAML in /usr/local/lib/python3.10/dist-packages (from optuna) (6.0.2)\n",
            "Requirement already satisfied: Mako in /usr/local/lib/python3.10/dist-packages (from alembic>=1.5.0->optuna) (1.3.6)\n",
            "Requirement already satisfied: typing-extensions>=4 in /usr/local/lib/python3.10/dist-packages (from alembic>=1.5.0->optuna) (4.12.2)\n",
            "Requirement already satisfied: greenlet!=0.4.17 in /usr/local/lib/python3.10/dist-packages (from sqlalchemy>=1.4.2->optuna) (3.1.1)\n",
            "Requirement already satisfied: MarkupSafe>=0.9.2 in /usr/local/lib/python3.10/dist-packages (from Mako->alembic>=1.5.0->optuna) (3.0.2)\n"
          ]
        }
      ]
    },
    {
      "cell_type": "code",
      "execution_count": 412,
      "metadata": {
        "id": "FELJ_9JYN4Jy"
      },
      "outputs": [],
      "source": [
        "import numpy as np\n",
        "import pandas as pd\n",
        "import matplotlib.pyplot as plt\n",
        "import matplotlib\n",
        "import shap\n",
        "import seaborn as sns\n",
        "import re\n",
        "from sklearn.preprocessing import LabelEncoder, OneHotEncoder\n",
        "from sklearn.preprocessing import StandardScaler\n",
        "from sklearn.experimental import enable_iterative_imputer\n",
        "from sklearn.impute import IterativeImputer\n",
        "from sklearn.ensemble import RandomForestClassifier\n",
        "from sklearn.model_selection import train_test_split,GridSearchCV,cross_val_score\n",
        "from sklearn.metrics import accuracy_score, classification_report, confusion_matrix, roc_auc_score,recall_score,make_scorer\n",
        "from sklearn.tree import DecisionTreeClassifier\n",
        "from sklearn.linear_model import LogisticRegression\n",
        "import optuna\n",
        "import warnings\n",
        "import torch\n",
        "import torch.nn as nn\n",
        "import torch.optim as optim\n",
        "import os\n",
        "from torch.utils.data import DataLoader, TensorDataset\n",
        "import kagglehub\n",
        "\n",
        "warnings.filterwarnings('ignore')\n",
        "\n",
        "# loan_df = pd.read_csv('loan.csv')\n",
        "# dict_df = pd.read_excel('Data_Dictionary.xlsx')"
      ]
    },
    {
      "cell_type": "code",
      "source": [
        "# Download latest version\n",
        "path = kagglehub.dataset_download(\"abhishek14398/loan-dataset\")\n",
        "\n",
        "print(\"Path to dataset files:\", path)"
      ],
      "metadata": {
        "colab": {
          "base_uri": "https://localhost:8080/"
        },
        "id": "xEAqLpnwXlCt",
        "outputId": "d456bcd8-6dac-4e64-9d70-e5f0e4f333eb"
      },
      "execution_count": 413,
      "outputs": [
        {
          "output_type": "stream",
          "name": "stdout",
          "text": [
            "Path to dataset files: /root/.cache/kagglehub/datasets/abhishek14398/loan-dataset/versions/1\n"
          ]
        }
      ]
    },
    {
      "cell_type": "code",
      "source": [
        "!ls $path"
      ],
      "metadata": {
        "colab": {
          "base_uri": "https://localhost:8080/"
        },
        "id": "b5Et6Q-8X8Qm",
        "outputId": "0dc38014-c77b-4d76-e40a-5e1dd06fa762"
      },
      "execution_count": 414,
      "outputs": [
        {
          "output_type": "stream",
          "name": "stdout",
          "text": [
            "Data_Dictionary.xlsx  loan.csv\n"
          ]
        }
      ]
    },
    {
      "cell_type": "code",
      "source": [
        "mainpath = path\n",
        "data_dictionary_path =os.path.join(mainpath, 'Data_Dictionary.xlsx')\n",
        "loan_path = os.path.join(mainpath, 'loan.csv')\n",
        "loan_df = pd.read_csv(loan_path)\n",
        "dict_df = pd.read_excel(data_dictionary_path)"
      ],
      "metadata": {
        "id": "uEvkxij8YRs6"
      },
      "execution_count": 415,
      "outputs": []
    },
    {
      "cell_type": "markdown",
      "source": [
        "#1. Data Understanding and Cleaning"
      ],
      "metadata": {
        "id": "ZkaiI2CnYv8D"
      }
    },
    {
      "cell_type": "code",
      "execution_count": 416,
      "metadata": {
        "colab": {
          "base_uri": "https://localhost:8080/"
        },
        "id": "rY0UBOaXOdke",
        "outputId": "03c69da9-45e3-49df-df1e-af4964a88035"
      },
      "outputs": [
        {
          "output_type": "execute_result",
          "data": {
            "text/plain": [
              "(39717, 111)"
            ]
          },
          "metadata": {},
          "execution_count": 416
        }
      ],
      "source": [
        "loan_df.shape"
      ]
    },
    {
      "cell_type": "code",
      "execution_count": 417,
      "metadata": {
        "id": "uzg6O2yoULEu",
        "outputId": "8f0d6798-9518-4a31-8663-ec619baf9e6f",
        "colab": {
          "base_uri": "https://localhost:8080/",
          "height": 458
        }
      },
      "outputs": [
        {
          "output_type": "execute_result",
          "data": {
            "text/plain": [
              "id                              int64\n",
              "member_id                       int64\n",
              "loan_amnt                       int64\n",
              "funded_amnt                     int64\n",
              "funded_amnt_inv               float64\n",
              "                               ...   \n",
              "tax_liens                     float64\n",
              "tot_hi_cred_lim               float64\n",
              "total_bal_ex_mort             float64\n",
              "total_bc_limit                float64\n",
              "total_il_high_credit_limit    float64\n",
              "Length: 111, dtype: object"
            ],
            "text/html": [
              "<div>\n",
              "<style scoped>\n",
              "    .dataframe tbody tr th:only-of-type {\n",
              "        vertical-align: middle;\n",
              "    }\n",
              "\n",
              "    .dataframe tbody tr th {\n",
              "        vertical-align: top;\n",
              "    }\n",
              "\n",
              "    .dataframe thead th {\n",
              "        text-align: right;\n",
              "    }\n",
              "</style>\n",
              "<table border=\"1\" class=\"dataframe\">\n",
              "  <thead>\n",
              "    <tr style=\"text-align: right;\">\n",
              "      <th></th>\n",
              "      <th>0</th>\n",
              "    </tr>\n",
              "  </thead>\n",
              "  <tbody>\n",
              "    <tr>\n",
              "      <th>id</th>\n",
              "      <td>int64</td>\n",
              "    </tr>\n",
              "    <tr>\n",
              "      <th>member_id</th>\n",
              "      <td>int64</td>\n",
              "    </tr>\n",
              "    <tr>\n",
              "      <th>loan_amnt</th>\n",
              "      <td>int64</td>\n",
              "    </tr>\n",
              "    <tr>\n",
              "      <th>funded_amnt</th>\n",
              "      <td>int64</td>\n",
              "    </tr>\n",
              "    <tr>\n",
              "      <th>funded_amnt_inv</th>\n",
              "      <td>float64</td>\n",
              "    </tr>\n",
              "    <tr>\n",
              "      <th>...</th>\n",
              "      <td>...</td>\n",
              "    </tr>\n",
              "    <tr>\n",
              "      <th>tax_liens</th>\n",
              "      <td>float64</td>\n",
              "    </tr>\n",
              "    <tr>\n",
              "      <th>tot_hi_cred_lim</th>\n",
              "      <td>float64</td>\n",
              "    </tr>\n",
              "    <tr>\n",
              "      <th>total_bal_ex_mort</th>\n",
              "      <td>float64</td>\n",
              "    </tr>\n",
              "    <tr>\n",
              "      <th>total_bc_limit</th>\n",
              "      <td>float64</td>\n",
              "    </tr>\n",
              "    <tr>\n",
              "      <th>total_il_high_credit_limit</th>\n",
              "      <td>float64</td>\n",
              "    </tr>\n",
              "  </tbody>\n",
              "</table>\n",
              "<p>111 rows × 1 columns</p>\n",
              "</div><br><label><b>dtype:</b> object</label>"
            ]
          },
          "metadata": {},
          "execution_count": 417
        }
      ],
      "source": [
        "loan_df.dtypes"
      ]
    },
    {
      "cell_type": "code",
      "execution_count": 418,
      "metadata": {
        "id": "qAyeRai9ULEv",
        "outputId": "37614864-f6de-4cdf-a908-44e69b20a4a7",
        "colab": {
          "base_uri": "https://localhost:8080/"
        }
      },
      "outputs": [
        {
          "output_type": "stream",
          "name": "stdout",
          "text": [
            "39717\n",
            "duplicate_rows : Empty DataFrame\n",
            "Columns: [id, member_id, loan_amnt, funded_amnt, funded_amnt_inv, term, int_rate, installment, grade, sub_grade, emp_title, emp_length, home_ownership, annual_inc, verification_status, issue_d, loan_status, pymnt_plan, url, desc, purpose, title, zip_code, addr_state, dti, delinq_2yrs, earliest_cr_line, inq_last_6mths, mths_since_last_delinq, mths_since_last_record, open_acc, pub_rec, revol_bal, revol_util, total_acc, initial_list_status, out_prncp, out_prncp_inv, total_pymnt, total_pymnt_inv, total_rec_prncp, total_rec_int, total_rec_late_fee, recoveries, collection_recovery_fee, last_pymnt_d, last_pymnt_amnt, next_pymnt_d, last_credit_pull_d, collections_12_mths_ex_med, mths_since_last_major_derog, policy_code, application_type, annual_inc_joint, dti_joint, verification_status_joint, acc_now_delinq, tot_coll_amt, tot_cur_bal, open_acc_6m, open_il_6m, open_il_12m, open_il_24m, mths_since_rcnt_il, total_bal_il, il_util, open_rv_12m, open_rv_24m, max_bal_bc, all_util, total_rev_hi_lim, inq_fi, total_cu_tl, inq_last_12m, acc_open_past_24mths, avg_cur_bal, bc_open_to_buy, bc_util, chargeoff_within_12_mths, delinq_amnt, mo_sin_old_il_acct, mo_sin_old_rev_tl_op, mo_sin_rcnt_rev_tl_op, mo_sin_rcnt_tl, mort_acc, mths_since_recent_bc, mths_since_recent_bc_dlq, mths_since_recent_inq, mths_since_recent_revol_delinq, num_accts_ever_120_pd, num_actv_bc_tl, num_actv_rev_tl, num_bc_sats, num_bc_tl, num_il_tl, num_op_rev_tl, num_rev_accts, num_rev_tl_bal_gt_0, num_sats, num_tl_120dpd_2m, ...]\n",
            "Index: []\n",
            "\n",
            "[0 rows x 111 columns]\n"
          ]
        }
      ],
      "source": [
        "# Checking for Duplicate rows in the dataset.\n",
        "print(loan_df.duplicated(subset=None,keep='first').count())\n",
        "\n",
        "# The column used for checking is id column\n",
        "duplicate_rows=loan_df[loan_df.duplicated(['id'])]\n",
        "print(\"duplicate_rows :\", duplicate_rows)"
      ]
    },
    {
      "cell_type": "code",
      "execution_count": 419,
      "metadata": {
        "id": "e_L7beZ0ULEw",
        "outputId": "71e53aff-c8a4-40bc-e59e-62ba591862b5",
        "colab": {
          "base_uri": "https://localhost:8080/"
        }
      },
      "outputs": [
        {
          "output_type": "execute_result",
          "data": {
            "text/plain": [
              "0"
            ]
          },
          "metadata": {},
          "execution_count": 419
        }
      ],
      "source": [
        "# Check duplicated data\n",
        "loan_df.duplicated().sum()"
      ]
    },
    {
      "cell_type": "code",
      "execution_count": 420,
      "metadata": {
        "id": "118At4ZGULEw"
      },
      "outputs": [],
      "source": [
        "# Delete completely empty columns\n",
        "loan_df = loan_df.dropna(axis=1, how='all')"
      ]
    },
    {
      "cell_type": "code",
      "execution_count": 421,
      "metadata": {
        "id": "DfKGnW6sULEw",
        "outputId": "7b8ed9e6-8553-4d62-94c1-53b4d0a022e1",
        "colab": {
          "base_uri": "https://localhost:8080/"
        }
      },
      "outputs": [
        {
          "output_type": "stream",
          "name": "stdout",
          "text": [
            "Number of rows having all values as null:\n",
            "0\n",
            "Number of columns having all values as null:\n",
            "0\n"
          ]
        }
      ],
      "source": [
        "# Finding number of rows through sum function which have missing values\n",
        "print('Number of rows having all values as null:')\n",
        "print(loan_df.isnull().all(axis=1).sum())\n",
        "\n",
        "# Finding the number of columns through sum function which have missing values\n",
        "\n",
        "print('Number of columns having all values as null:')\n",
        "print(loan_df.isnull().all(axis=0).sum())"
      ]
    },
    {
      "cell_type": "code",
      "execution_count": 422,
      "metadata": {
        "colab": {
          "base_uri": "https://localhost:8080/"
        },
        "id": "g3B0cSBIfXPU",
        "outputId": "f9d975e0-4af7-4221-e675-2cd9c27a0ec3"
      },
      "outputs": [
        {
          "output_type": "execute_result",
          "data": {
            "text/plain": [
              "0"
            ]
          },
          "metadata": {},
          "execution_count": 422
        }
      ],
      "source": [
        "# Inconsistencies data\n",
        "numeric = loan_df.select_dtypes(include=np.number)\n",
        "(numeric.values < 0).sum()"
      ]
    },
    {
      "cell_type": "code",
      "execution_count": 423,
      "metadata": {
        "id": "Mt8RJzr8ULEy"
      },
      "outputs": [],
      "source": [
        "# Loại bỏ ký hiệu % trong cột 'int_rate' và 'revol_util' để thêm vào trong phân tích\n",
        "loan_df['int_rate'] = loan_df['int_rate'].str.rstrip('%').astype(float)\n",
        "loan_df['revol_util'] = loan_df['revol_util'].str.rstrip('%').astype(float)"
      ]
    },
    {
      "cell_type": "code",
      "execution_count": 424,
      "metadata": {
        "id": "4_durQAaULEz"
      },
      "outputs": [],
      "source": [
        "loan_df['emp_length']=loan_df.emp_length.str.extract('(\\d+)')\n",
        "# Chuyển đổi các cột dữ liệu số thành kiểu numeric\n",
        "columns1=['loan_amnt','funded_amnt','int_rate','funded_amnt_inv','installment','annual_inc','dti','emp_length','total_pymnt']\n",
        "loan_df[columns1]=loan_df[columns1].apply(pd.to_numeric)"
      ]
    },
    {
      "cell_type": "code",
      "execution_count": 425,
      "metadata": {
        "id": "FHkelgJTULE0"
      },
      "outputs": [],
      "source": [
        "# Loại bỏ giá trị 'Current' trong cột 'loan_status' do vẫn còn trong thời hạn mượn nợ\n",
        "loan_df = loan_df[loan_df.loan_status != \"Current\"]"
      ]
    },
    {
      "cell_type": "code",
      "execution_count": 426,
      "metadata": {
        "id": "UbpXAHGZULE0",
        "outputId": "f153eb33-8189-4cd9-a39e-89cf43a4843f",
        "colab": {
          "base_uri": "https://localhost:8080/",
          "height": 178
        }
      },
      "outputs": [
        {
          "output_type": "execute_result",
          "data": {
            "text/plain": [
              "loan_status\n",
              "Fully Paid     32950\n",
              "Charged Off     5627\n",
              "Name: count, dtype: int64"
            ],
            "text/html": [
              "<div>\n",
              "<style scoped>\n",
              "    .dataframe tbody tr th:only-of-type {\n",
              "        vertical-align: middle;\n",
              "    }\n",
              "\n",
              "    .dataframe tbody tr th {\n",
              "        vertical-align: top;\n",
              "    }\n",
              "\n",
              "    .dataframe thead th {\n",
              "        text-align: right;\n",
              "    }\n",
              "</style>\n",
              "<table border=\"1\" class=\"dataframe\">\n",
              "  <thead>\n",
              "    <tr style=\"text-align: right;\">\n",
              "      <th></th>\n",
              "      <th>count</th>\n",
              "    </tr>\n",
              "    <tr>\n",
              "      <th>loan_status</th>\n",
              "      <th></th>\n",
              "    </tr>\n",
              "  </thead>\n",
              "  <tbody>\n",
              "    <tr>\n",
              "      <th>Fully Paid</th>\n",
              "      <td>32950</td>\n",
              "    </tr>\n",
              "    <tr>\n",
              "      <th>Charged Off</th>\n",
              "      <td>5627</td>\n",
              "    </tr>\n",
              "  </tbody>\n",
              "</table>\n",
              "</div><br><label><b>dtype:</b> int64</label>"
            ]
          },
          "metadata": {},
          "execution_count": 426
        }
      ],
      "source": [
        "loan_df.loan_status.value_counts()"
      ]
    },
    {
      "cell_type": "code",
      "execution_count": 427,
      "metadata": {
        "id": "QZmyNyY6ULE1"
      },
      "outputs": [],
      "source": [
        "# Điền giá trị 0 cho các dòng Null trong cột 'pub_rec_bankruptcies'\n",
        "loan_df['pub_rec_bankruptcies'].fillna(0, inplace = True)"
      ]
    },
    {
      "cell_type": "code",
      "execution_count": 428,
      "metadata": {
        "id": "hAIajzajULE1",
        "outputId": "4c473163-1ea8-494e-9036-073c957f29d4",
        "colab": {
          "base_uri": "https://localhost:8080/"
        }
      },
      "outputs": [
        {
          "output_type": "execute_result",
          "data": {
            "text/plain": [
              "0"
            ]
          },
          "metadata": {},
          "execution_count": 428
        }
      ],
      "source": [
        "loan_df['pub_rec_bankruptcies'].isnull().sum()"
      ]
    },
    {
      "cell_type": "code",
      "execution_count": 429,
      "metadata": {
        "colab": {
          "base_uri": "https://localhost:8080/"
        },
        "id": "4iQozR6pGD4W",
        "outputId": "6f960dce-4b92-4e1e-aa68-f43f8502519d"
      },
      "outputs": [
        {
          "output_type": "stream",
          "name": "stdout",
          "text": [
            "Các cột đã bị xóa: ['desc', 'mths_since_last_delinq', 'mths_since_last_record', 'next_pymnt_d']\n"
          ]
        }
      ],
      "source": [
        "# Tính tỷ lệ giá trị thiếu cho mỗi cột\n",
        "missing_values = loan_df.isnull().mean() * 100\n",
        "\n",
        "# Xác định các cột có tỷ lệ giá trị thiếu lớn hơn 10%\n",
        "cols_to_drop = missing_values[missing_values > 10].index\n",
        "\n",
        "# Xóa các cột này khỏi DataFrame\n",
        "loan_df = loan_df.drop(columns=cols_to_drop)\n",
        "\n",
        "# Hiển thị các cột đã bị xóa\n",
        "print(f\"Các cột đã bị xóa: {cols_to_drop.tolist()}\")"
      ]
    },
    {
      "cell_type": "code",
      "execution_count": 430,
      "metadata": {
        "id": "0v98Wy-vYNw7"
      },
      "outputs": [],
      "source": [
        "# Impute missing values using IterativeImputer\n",
        "imputer = IterativeImputer(random_state=100, max_iter=10)\n",
        "# fit on the dataset\n",
        "df2 = loan_df.select_dtypes(exclude= 'object')\n",
        "imputer.fit(df2)\n",
        "df_imputed = imputer.transform(df2)\n",
        "df_imputed[:10]\n",
        "df_imputed = pd.DataFrame(df_imputed, columns=df2.columns)\n",
        "df = loan_df.drop(columns=df2.columns)\n",
        "loan_df = pd.concat([df_imputed, df], axis=1)"
      ]
    },
    {
      "cell_type": "code",
      "execution_count": 431,
      "metadata": {
        "id": "83gSBi4SULE3"
      },
      "outputs": [],
      "source": [
        "# Boxplot outliers\n",
        "numeric = pd.melt(numeric, var_name='Column', value_name='Value')\n",
        "sns.boxplot(data=numeric, x='Column', y='Value')\n",
        "plt.title(\"Boxplot for Numerical Column before Outlier Treatment\")\n",
        "plt.xticks(rotation=90)\n",
        "plt.show()"
      ]
    },
    {
      "cell_type": "code",
      "execution_count": 432,
      "metadata": {
        "id": "dgPBgTkoULE3",
        "outputId": "d62a81c2-6d00-4aa7-f080-8eb4c8a6d61c",
        "colab": {
          "base_uri": "https://localhost:8080/",
          "height": 349
        }
      },
      "outputs": [
        {
          "output_type": "execute_result",
          "data": {
            "text/plain": [
              "                 id     member_id     loan_amnt   funded_amnt  \\\n",
              "count  3.857700e+04  3.857700e+04  38577.000000  38577.000000   \n",
              "mean   6.763787e+05  8.422843e+05  11047.025430  10784.058506   \n",
              "std    2.092639e+05  2.644519e+05   7348.441646   7090.306027   \n",
              "min    5.473400e+04  7.069900e+04    500.000000    500.000000   \n",
              "25%    5.120330e+05  6.611310e+05   5300.000000   5200.000000   \n",
              "50%    6.564230e+05  8.392920e+05   9600.000000   9550.000000   \n",
              "75%    8.291460e+05  1.037336e+06  15000.000000  15000.000000   \n",
              "max    1.077501e+06  1.314167e+06  35000.000000  35000.000000   \n",
              "\n",
              "       funded_amnt_inv      int_rate   installment    emp_length  \\\n",
              "count     38577.000000  38577.000000  38577.000000  38577.000000   \n",
              "mean      10222.481123     11.932219    322.466318      5.063208   \n",
              "std        7022.720644      3.691327    208.639215      3.359042   \n",
              "min           0.000000      5.420000     15.690000      1.000000   \n",
              "25%        5000.000000      8.940000    165.740000      2.000000   \n",
              "50%        8733.440000     11.710000    277.860000      4.000000   \n",
              "75%       14000.000000     14.380000    425.550000      9.000000   \n",
              "max       35000.000000     24.400000   1305.190000     10.000000   \n",
              "\n",
              "         annual_inc           dti  ...    recoveries  collection_recovery_fee  \\\n",
              "count  3.857700e+04  38577.000000  ...  38577.000000             38577.000000   \n",
              "mean   6.877797e+04     13.272727  ...     98.035545                12.772728   \n",
              "std    6.421868e+04      6.673044  ...    698.650182               150.836853   \n",
              "min    4.000000e+03      0.000000  ...      0.000000                 0.000000   \n",
              "25%    4.000000e+04      8.130000  ...      0.000000                 0.000000   \n",
              "50%    5.886800e+04     13.370000  ...      0.000000                 0.000000   \n",
              "75%    8.200000e+04     18.560000  ...      0.000000                 0.000000   \n",
              "max    6.000000e+06     29.990000  ...  29623.350000              7002.190000   \n",
              "\n",
              "       last_pymnt_amnt  collections_12_mths_ex_med  policy_code  \\\n",
              "count     38577.000000                     38577.0      38577.0   \n",
              "mean       2746.243218                         0.0          1.0   \n",
              "std        4494.648131                         0.0          0.0   \n",
              "min           0.000000                         0.0          1.0   \n",
              "25%         217.420000                         0.0          1.0   \n",
              "50%         568.260000                         0.0          1.0   \n",
              "75%        3447.250000                         0.0          1.0   \n",
              "max       36115.200000                         0.0          1.0   \n",
              "\n",
              "       acc_now_delinq  chargeoff_within_12_mths  delinq_amnt  \\\n",
              "count         38577.0                   38577.0      38577.0   \n",
              "mean              0.0                       0.0          0.0   \n",
              "std               0.0                       0.0          0.0   \n",
              "min               0.0                       0.0          0.0   \n",
              "25%               0.0                       0.0          0.0   \n",
              "50%               0.0                       0.0          0.0   \n",
              "75%               0.0                       0.0          0.0   \n",
              "max               0.0                       0.0          0.0   \n",
              "\n",
              "       pub_rec_bankruptcies  tax_liens  \n",
              "count          38577.000000    38577.0  \n",
              "mean               0.042694        0.0  \n",
              "std                0.202809        0.0  \n",
              "min                0.000000        0.0  \n",
              "25%                0.000000        0.0  \n",
              "50%                0.000000        0.0  \n",
              "75%                0.000000        0.0  \n",
              "max                2.000000        0.0  \n",
              "\n",
              "[8 rows x 34 columns]"
            ],
            "text/html": [
              "\n",
              "  <div id=\"df-781a061d-41cd-405f-aef0-3b602f8ad8fc\" class=\"colab-df-container\">\n",
              "    <div>\n",
              "<style scoped>\n",
              "    .dataframe tbody tr th:only-of-type {\n",
              "        vertical-align: middle;\n",
              "    }\n",
              "\n",
              "    .dataframe tbody tr th {\n",
              "        vertical-align: top;\n",
              "    }\n",
              "\n",
              "    .dataframe thead th {\n",
              "        text-align: right;\n",
              "    }\n",
              "</style>\n",
              "<table border=\"1\" class=\"dataframe\">\n",
              "  <thead>\n",
              "    <tr style=\"text-align: right;\">\n",
              "      <th></th>\n",
              "      <th>id</th>\n",
              "      <th>member_id</th>\n",
              "      <th>loan_amnt</th>\n",
              "      <th>funded_amnt</th>\n",
              "      <th>funded_amnt_inv</th>\n",
              "      <th>int_rate</th>\n",
              "      <th>installment</th>\n",
              "      <th>emp_length</th>\n",
              "      <th>annual_inc</th>\n",
              "      <th>dti</th>\n",
              "      <th>...</th>\n",
              "      <th>recoveries</th>\n",
              "      <th>collection_recovery_fee</th>\n",
              "      <th>last_pymnt_amnt</th>\n",
              "      <th>collections_12_mths_ex_med</th>\n",
              "      <th>policy_code</th>\n",
              "      <th>acc_now_delinq</th>\n",
              "      <th>chargeoff_within_12_mths</th>\n",
              "      <th>delinq_amnt</th>\n",
              "      <th>pub_rec_bankruptcies</th>\n",
              "      <th>tax_liens</th>\n",
              "    </tr>\n",
              "  </thead>\n",
              "  <tbody>\n",
              "    <tr>\n",
              "      <th>count</th>\n",
              "      <td>3.857700e+04</td>\n",
              "      <td>3.857700e+04</td>\n",
              "      <td>38577.000000</td>\n",
              "      <td>38577.000000</td>\n",
              "      <td>38577.000000</td>\n",
              "      <td>38577.000000</td>\n",
              "      <td>38577.000000</td>\n",
              "      <td>38577.000000</td>\n",
              "      <td>3.857700e+04</td>\n",
              "      <td>38577.000000</td>\n",
              "      <td>...</td>\n",
              "      <td>38577.000000</td>\n",
              "      <td>38577.000000</td>\n",
              "      <td>38577.000000</td>\n",
              "      <td>38577.0</td>\n",
              "      <td>38577.0</td>\n",
              "      <td>38577.0</td>\n",
              "      <td>38577.0</td>\n",
              "      <td>38577.0</td>\n",
              "      <td>38577.000000</td>\n",
              "      <td>38577.0</td>\n",
              "    </tr>\n",
              "    <tr>\n",
              "      <th>mean</th>\n",
              "      <td>6.763787e+05</td>\n",
              "      <td>8.422843e+05</td>\n",
              "      <td>11047.025430</td>\n",
              "      <td>10784.058506</td>\n",
              "      <td>10222.481123</td>\n",
              "      <td>11.932219</td>\n",
              "      <td>322.466318</td>\n",
              "      <td>5.063208</td>\n",
              "      <td>6.877797e+04</td>\n",
              "      <td>13.272727</td>\n",
              "      <td>...</td>\n",
              "      <td>98.035545</td>\n",
              "      <td>12.772728</td>\n",
              "      <td>2746.243218</td>\n",
              "      <td>0.0</td>\n",
              "      <td>1.0</td>\n",
              "      <td>0.0</td>\n",
              "      <td>0.0</td>\n",
              "      <td>0.0</td>\n",
              "      <td>0.042694</td>\n",
              "      <td>0.0</td>\n",
              "    </tr>\n",
              "    <tr>\n",
              "      <th>std</th>\n",
              "      <td>2.092639e+05</td>\n",
              "      <td>2.644519e+05</td>\n",
              "      <td>7348.441646</td>\n",
              "      <td>7090.306027</td>\n",
              "      <td>7022.720644</td>\n",
              "      <td>3.691327</td>\n",
              "      <td>208.639215</td>\n",
              "      <td>3.359042</td>\n",
              "      <td>6.421868e+04</td>\n",
              "      <td>6.673044</td>\n",
              "      <td>...</td>\n",
              "      <td>698.650182</td>\n",
              "      <td>150.836853</td>\n",
              "      <td>4494.648131</td>\n",
              "      <td>0.0</td>\n",
              "      <td>0.0</td>\n",
              "      <td>0.0</td>\n",
              "      <td>0.0</td>\n",
              "      <td>0.0</td>\n",
              "      <td>0.202809</td>\n",
              "      <td>0.0</td>\n",
              "    </tr>\n",
              "    <tr>\n",
              "      <th>min</th>\n",
              "      <td>5.473400e+04</td>\n",
              "      <td>7.069900e+04</td>\n",
              "      <td>500.000000</td>\n",
              "      <td>500.000000</td>\n",
              "      <td>0.000000</td>\n",
              "      <td>5.420000</td>\n",
              "      <td>15.690000</td>\n",
              "      <td>1.000000</td>\n",
              "      <td>4.000000e+03</td>\n",
              "      <td>0.000000</td>\n",
              "      <td>...</td>\n",
              "      <td>0.000000</td>\n",
              "      <td>0.000000</td>\n",
              "      <td>0.000000</td>\n",
              "      <td>0.0</td>\n",
              "      <td>1.0</td>\n",
              "      <td>0.0</td>\n",
              "      <td>0.0</td>\n",
              "      <td>0.0</td>\n",
              "      <td>0.000000</td>\n",
              "      <td>0.0</td>\n",
              "    </tr>\n",
              "    <tr>\n",
              "      <th>25%</th>\n",
              "      <td>5.120330e+05</td>\n",
              "      <td>6.611310e+05</td>\n",
              "      <td>5300.000000</td>\n",
              "      <td>5200.000000</td>\n",
              "      <td>5000.000000</td>\n",
              "      <td>8.940000</td>\n",
              "      <td>165.740000</td>\n",
              "      <td>2.000000</td>\n",
              "      <td>4.000000e+04</td>\n",
              "      <td>8.130000</td>\n",
              "      <td>...</td>\n",
              "      <td>0.000000</td>\n",
              "      <td>0.000000</td>\n",
              "      <td>217.420000</td>\n",
              "      <td>0.0</td>\n",
              "      <td>1.0</td>\n",
              "      <td>0.0</td>\n",
              "      <td>0.0</td>\n",
              "      <td>0.0</td>\n",
              "      <td>0.000000</td>\n",
              "      <td>0.0</td>\n",
              "    </tr>\n",
              "    <tr>\n",
              "      <th>50%</th>\n",
              "      <td>6.564230e+05</td>\n",
              "      <td>8.392920e+05</td>\n",
              "      <td>9600.000000</td>\n",
              "      <td>9550.000000</td>\n",
              "      <td>8733.440000</td>\n",
              "      <td>11.710000</td>\n",
              "      <td>277.860000</td>\n",
              "      <td>4.000000</td>\n",
              "      <td>5.886800e+04</td>\n",
              "      <td>13.370000</td>\n",
              "      <td>...</td>\n",
              "      <td>0.000000</td>\n",
              "      <td>0.000000</td>\n",
              "      <td>568.260000</td>\n",
              "      <td>0.0</td>\n",
              "      <td>1.0</td>\n",
              "      <td>0.0</td>\n",
              "      <td>0.0</td>\n",
              "      <td>0.0</td>\n",
              "      <td>0.000000</td>\n",
              "      <td>0.0</td>\n",
              "    </tr>\n",
              "    <tr>\n",
              "      <th>75%</th>\n",
              "      <td>8.291460e+05</td>\n",
              "      <td>1.037336e+06</td>\n",
              "      <td>15000.000000</td>\n",
              "      <td>15000.000000</td>\n",
              "      <td>14000.000000</td>\n",
              "      <td>14.380000</td>\n",
              "      <td>425.550000</td>\n",
              "      <td>9.000000</td>\n",
              "      <td>8.200000e+04</td>\n",
              "      <td>18.560000</td>\n",
              "      <td>...</td>\n",
              "      <td>0.000000</td>\n",
              "      <td>0.000000</td>\n",
              "      <td>3447.250000</td>\n",
              "      <td>0.0</td>\n",
              "      <td>1.0</td>\n",
              "      <td>0.0</td>\n",
              "      <td>0.0</td>\n",
              "      <td>0.0</td>\n",
              "      <td>0.000000</td>\n",
              "      <td>0.0</td>\n",
              "    </tr>\n",
              "    <tr>\n",
              "      <th>max</th>\n",
              "      <td>1.077501e+06</td>\n",
              "      <td>1.314167e+06</td>\n",
              "      <td>35000.000000</td>\n",
              "      <td>35000.000000</td>\n",
              "      <td>35000.000000</td>\n",
              "      <td>24.400000</td>\n",
              "      <td>1305.190000</td>\n",
              "      <td>10.000000</td>\n",
              "      <td>6.000000e+06</td>\n",
              "      <td>29.990000</td>\n",
              "      <td>...</td>\n",
              "      <td>29623.350000</td>\n",
              "      <td>7002.190000</td>\n",
              "      <td>36115.200000</td>\n",
              "      <td>0.0</td>\n",
              "      <td>1.0</td>\n",
              "      <td>0.0</td>\n",
              "      <td>0.0</td>\n",
              "      <td>0.0</td>\n",
              "      <td>2.000000</td>\n",
              "      <td>0.0</td>\n",
              "    </tr>\n",
              "  </tbody>\n",
              "</table>\n",
              "<p>8 rows × 34 columns</p>\n",
              "</div>\n",
              "    <div class=\"colab-df-buttons\">\n",
              "\n",
              "  <div class=\"colab-df-container\">\n",
              "    <button class=\"colab-df-convert\" onclick=\"convertToInteractive('df-781a061d-41cd-405f-aef0-3b602f8ad8fc')\"\n",
              "            title=\"Convert this dataframe to an interactive table.\"\n",
              "            style=\"display:none;\">\n",
              "\n",
              "  <svg xmlns=\"http://www.w3.org/2000/svg\" height=\"24px\" viewBox=\"0 -960 960 960\">\n",
              "    <path d=\"M120-120v-720h720v720H120Zm60-500h600v-160H180v160Zm220 220h160v-160H400v160Zm0 220h160v-160H400v160ZM180-400h160v-160H180v160Zm440 0h160v-160H620v160ZM180-180h160v-160H180v160Zm440 0h160v-160H620v160Z\"/>\n",
              "  </svg>\n",
              "    </button>\n",
              "\n",
              "  <style>\n",
              "    .colab-df-container {\n",
              "      display:flex;\n",
              "      gap: 12px;\n",
              "    }\n",
              "\n",
              "    .colab-df-convert {\n",
              "      background-color: #E8F0FE;\n",
              "      border: none;\n",
              "      border-radius: 50%;\n",
              "      cursor: pointer;\n",
              "      display: none;\n",
              "      fill: #1967D2;\n",
              "      height: 32px;\n",
              "      padding: 0 0 0 0;\n",
              "      width: 32px;\n",
              "    }\n",
              "\n",
              "    .colab-df-convert:hover {\n",
              "      background-color: #E2EBFA;\n",
              "      box-shadow: 0px 1px 2px rgba(60, 64, 67, 0.3), 0px 1px 3px 1px rgba(60, 64, 67, 0.15);\n",
              "      fill: #174EA6;\n",
              "    }\n",
              "\n",
              "    .colab-df-buttons div {\n",
              "      margin-bottom: 4px;\n",
              "    }\n",
              "\n",
              "    [theme=dark] .colab-df-convert {\n",
              "      background-color: #3B4455;\n",
              "      fill: #D2E3FC;\n",
              "    }\n",
              "\n",
              "    [theme=dark] .colab-df-convert:hover {\n",
              "      background-color: #434B5C;\n",
              "      box-shadow: 0px 1px 3px 1px rgba(0, 0, 0, 0.15);\n",
              "      filter: drop-shadow(0px 1px 2px rgba(0, 0, 0, 0.3));\n",
              "      fill: #FFFFFF;\n",
              "    }\n",
              "  </style>\n",
              "\n",
              "    <script>\n",
              "      const buttonEl =\n",
              "        document.querySelector('#df-781a061d-41cd-405f-aef0-3b602f8ad8fc button.colab-df-convert');\n",
              "      buttonEl.style.display =\n",
              "        google.colab.kernel.accessAllowed ? 'block' : 'none';\n",
              "\n",
              "      async function convertToInteractive(key) {\n",
              "        const element = document.querySelector('#df-781a061d-41cd-405f-aef0-3b602f8ad8fc');\n",
              "        const dataTable =\n",
              "          await google.colab.kernel.invokeFunction('convertToInteractive',\n",
              "                                                    [key], {});\n",
              "        if (!dataTable) return;\n",
              "\n",
              "        const docLinkHtml = 'Like what you see? Visit the ' +\n",
              "          '<a target=\"_blank\" href=https://colab.research.google.com/notebooks/data_table.ipynb>data table notebook</a>'\n",
              "          + ' to learn more about interactive tables.';\n",
              "        element.innerHTML = '';\n",
              "        dataTable['output_type'] = 'display_data';\n",
              "        await google.colab.output.renderOutput(dataTable, element);\n",
              "        const docLink = document.createElement('div');\n",
              "        docLink.innerHTML = docLinkHtml;\n",
              "        element.appendChild(docLink);\n",
              "      }\n",
              "    </script>\n",
              "  </div>\n",
              "\n",
              "\n",
              "<div id=\"df-a4ddb06d-b3a4-4431-adbc-f7234ed66053\">\n",
              "  <button class=\"colab-df-quickchart\" onclick=\"quickchart('df-a4ddb06d-b3a4-4431-adbc-f7234ed66053')\"\n",
              "            title=\"Suggest charts\"\n",
              "            style=\"display:none;\">\n",
              "\n",
              "<svg xmlns=\"http://www.w3.org/2000/svg\" height=\"24px\"viewBox=\"0 0 24 24\"\n",
              "     width=\"24px\">\n",
              "    <g>\n",
              "        <path d=\"M19 3H5c-1.1 0-2 .9-2 2v14c0 1.1.9 2 2 2h14c1.1 0 2-.9 2-2V5c0-1.1-.9-2-2-2zM9 17H7v-7h2v7zm4 0h-2V7h2v10zm4 0h-2v-4h2v4z\"/>\n",
              "    </g>\n",
              "</svg>\n",
              "  </button>\n",
              "\n",
              "<style>\n",
              "  .colab-df-quickchart {\n",
              "      --bg-color: #E8F0FE;\n",
              "      --fill-color: #1967D2;\n",
              "      --hover-bg-color: #E2EBFA;\n",
              "      --hover-fill-color: #174EA6;\n",
              "      --disabled-fill-color: #AAA;\n",
              "      --disabled-bg-color: #DDD;\n",
              "  }\n",
              "\n",
              "  [theme=dark] .colab-df-quickchart {\n",
              "      --bg-color: #3B4455;\n",
              "      --fill-color: #D2E3FC;\n",
              "      --hover-bg-color: #434B5C;\n",
              "      --hover-fill-color: #FFFFFF;\n",
              "      --disabled-bg-color: #3B4455;\n",
              "      --disabled-fill-color: #666;\n",
              "  }\n",
              "\n",
              "  .colab-df-quickchart {\n",
              "    background-color: var(--bg-color);\n",
              "    border: none;\n",
              "    border-radius: 50%;\n",
              "    cursor: pointer;\n",
              "    display: none;\n",
              "    fill: var(--fill-color);\n",
              "    height: 32px;\n",
              "    padding: 0;\n",
              "    width: 32px;\n",
              "  }\n",
              "\n",
              "  .colab-df-quickchart:hover {\n",
              "    background-color: var(--hover-bg-color);\n",
              "    box-shadow: 0 1px 2px rgba(60, 64, 67, 0.3), 0 1px 3px 1px rgba(60, 64, 67, 0.15);\n",
              "    fill: var(--button-hover-fill-color);\n",
              "  }\n",
              "\n",
              "  .colab-df-quickchart-complete:disabled,\n",
              "  .colab-df-quickchart-complete:disabled:hover {\n",
              "    background-color: var(--disabled-bg-color);\n",
              "    fill: var(--disabled-fill-color);\n",
              "    box-shadow: none;\n",
              "  }\n",
              "\n",
              "  .colab-df-spinner {\n",
              "    border: 2px solid var(--fill-color);\n",
              "    border-color: transparent;\n",
              "    border-bottom-color: var(--fill-color);\n",
              "    animation:\n",
              "      spin 1s steps(1) infinite;\n",
              "  }\n",
              "\n",
              "  @keyframes spin {\n",
              "    0% {\n",
              "      border-color: transparent;\n",
              "      border-bottom-color: var(--fill-color);\n",
              "      border-left-color: var(--fill-color);\n",
              "    }\n",
              "    20% {\n",
              "      border-color: transparent;\n",
              "      border-left-color: var(--fill-color);\n",
              "      border-top-color: var(--fill-color);\n",
              "    }\n",
              "    30% {\n",
              "      border-color: transparent;\n",
              "      border-left-color: var(--fill-color);\n",
              "      border-top-color: var(--fill-color);\n",
              "      border-right-color: var(--fill-color);\n",
              "    }\n",
              "    40% {\n",
              "      border-color: transparent;\n",
              "      border-right-color: var(--fill-color);\n",
              "      border-top-color: var(--fill-color);\n",
              "    }\n",
              "    60% {\n",
              "      border-color: transparent;\n",
              "      border-right-color: var(--fill-color);\n",
              "    }\n",
              "    80% {\n",
              "      border-color: transparent;\n",
              "      border-right-color: var(--fill-color);\n",
              "      border-bottom-color: var(--fill-color);\n",
              "    }\n",
              "    90% {\n",
              "      border-color: transparent;\n",
              "      border-bottom-color: var(--fill-color);\n",
              "    }\n",
              "  }\n",
              "</style>\n",
              "\n",
              "  <script>\n",
              "    async function quickchart(key) {\n",
              "      const quickchartButtonEl =\n",
              "        document.querySelector('#' + key + ' button');\n",
              "      quickchartButtonEl.disabled = true;  // To prevent multiple clicks.\n",
              "      quickchartButtonEl.classList.add('colab-df-spinner');\n",
              "      try {\n",
              "        const charts = await google.colab.kernel.invokeFunction(\n",
              "            'suggestCharts', [key], {});\n",
              "      } catch (error) {\n",
              "        console.error('Error during call to suggestCharts:', error);\n",
              "      }\n",
              "      quickchartButtonEl.classList.remove('colab-df-spinner');\n",
              "      quickchartButtonEl.classList.add('colab-df-quickchart-complete');\n",
              "    }\n",
              "    (() => {\n",
              "      let quickchartButtonEl =\n",
              "        document.querySelector('#df-a4ddb06d-b3a4-4431-adbc-f7234ed66053 button');\n",
              "      quickchartButtonEl.style.display =\n",
              "        google.colab.kernel.accessAllowed ? 'block' : 'none';\n",
              "    })();\n",
              "  </script>\n",
              "</div>\n",
              "\n",
              "    </div>\n",
              "  </div>\n"
            ],
            "application/vnd.google.colaboratory.intrinsic+json": {
              "type": "dataframe"
            }
          },
          "metadata": {},
          "execution_count": 432
        }
      ],
      "source": [
        "loan_df.describe()"
      ]
    },
    {
      "cell_type": "code",
      "execution_count": 433,
      "metadata": {
        "id": "eCYPZmfLi09L"
      },
      "outputs": [],
      "source": [
        "def remove_outliers(df, column):\n",
        "    Q1 = df[column].quantile(0.25)\n",
        "    Q3 = df[column].quantile(0.75)\n",
        "    IQR = Q3 - Q1\n",
        "\n",
        "    # Calculate bounds\n",
        "    lower_bound = Q1 - 1.5 * IQR\n",
        "    upper_bound = Q3 + 1.5 * IQR\n",
        "\n",
        "    # Remove rows where the value is outside the bounds\n",
        "    df_cleaned = df[(df[column] >= lower_bound) & (df[column] <= upper_bound)]\n",
        "\n",
        "    return df_cleaned"
      ]
    },
    {
      "cell_type": "code",
      "execution_count": 434,
      "metadata": {
        "id": "lFVLrnpfi4fX"
      },
      "outputs": [],
      "source": [
        "# Do cột 'annual_inc' có nhiều giá trị ngoại lai nên ta sẽ remove\n",
        "loan_df = remove_outliers(loan_df, 'annual_inc')"
      ]
    },
    {
      "cell_type": "markdown",
      "source": [
        "#2. Feature selection & visualization"
      ],
      "metadata": {
        "id": "oIeOhQxHZZQZ"
      }
    },
    {
      "cell_type": "code",
      "execution_count": 435,
      "metadata": {
        "id": "i04jCQxOjAmi"
      },
      "outputs": [],
      "source": [
        "numeric = pd.melt(loan_df.select_dtypes(exclude = 'object'), var_name = 'Column', value_name = 'Value')\n",
        "sns.boxplot(data=numeric, x='Column', y='Value') # Use the loan_df DataFrame that includes 'Column' and 'Value'\n",
        "plt.title(\"Boxplot for Numerical Column after Outlier Treatment\")\n",
        "plt.xticks(rotation=90) # Rotate x-axis labels for better readability if needed\n",
        "plt.show()"
      ]
    },
    {
      "cell_type": "code",
      "execution_count": 436,
      "metadata": {
        "id": "Nit5iOmyULE4",
        "outputId": "a8ecb43f-0ef5-4eaa-e828-2b11e095a8dd",
        "colab": {
          "base_uri": "https://localhost:8080/",
          "height": 349
        }
      },
      "outputs": [
        {
          "output_type": "execute_result",
          "data": {
            "text/plain": [
              "                 id     member_id     loan_amnt   funded_amnt  \\\n",
              "count  3.681500e+04  3.681500e+04  36815.000000  36815.000000   \n",
              "mean   6.760857e+05  8.419800e+05  10706.984925  10460.175200   \n",
              "std    2.091882e+05  2.643366e+05   7068.107909   6820.737715   \n",
              "min    5.473400e+04  7.472400e+04    500.000000    500.000000   \n",
              "25%    5.122775e+05  6.614220e+05   5000.000000   5000.000000   \n",
              "50%    6.556460e+05  8.378840e+05   9250.000000   9000.000000   \n",
              "75%    8.278755e+05  1.035967e+06  15000.000000  14400.000000   \n",
              "max    1.077501e+06  1.314167e+06  35000.000000  35000.000000   \n",
              "\n",
              "       funded_amnt_inv      int_rate   installment    emp_length  \\\n",
              "count     36815.000000  36815.000000  36815.000000  36815.000000   \n",
              "mean       9916.487115     11.889882    312.593015      5.026362   \n",
              "std        6750.340900      3.668709    199.806808      3.347519   \n",
              "min           0.000000      5.420000     15.690000      1.000000   \n",
              "25%        4988.984523      8.940000    163.305000      2.000000   \n",
              "50%        8400.000000     11.710000    271.140000      4.000000   \n",
              "75%       13687.858570     14.270000    409.700000      8.000000   \n",
              "max       35000.000000     24.400000   1305.190000     10.000000   \n",
              "\n",
              "          annual_inc           dti  ...    recoveries  \\\n",
              "count   36815.000000  36815.000000  ...  36815.000000   \n",
              "mean    61218.193490     13.437614  ...     95.148365   \n",
              "std     28224.583784      6.660651  ...    680.688516   \n",
              "min      4000.000000      0.000000  ...      0.000000   \n",
              "25%     40000.000000      8.340000  ...      0.000000   \n",
              "50%     56000.000000     13.570000  ...      0.000000   \n",
              "75%     78000.000000     18.700000  ...      0.000000   \n",
              "max    145000.000000     29.990000  ...  29623.350000   \n",
              "\n",
              "       collection_recovery_fee  last_pymnt_amnt  collections_12_mths_ex_med  \\\n",
              "count             36815.000000     36815.000000                     36815.0   \n",
              "mean                 12.176062      2634.677276                         0.0   \n",
              "std                 145.441890      4313.178379                         0.0   \n",
              "min                   0.000000         0.000000                         0.0   \n",
              "25%                   0.000000       212.730000                         0.0   \n",
              "50%                   0.000000       546.160000                         0.0   \n",
              "75%                   0.000000      3312.680000                         0.0   \n",
              "max                7002.190000     36115.200000                         0.0   \n",
              "\n",
              "       policy_code  acc_now_delinq  chargeoff_within_12_mths  delinq_amnt  \\\n",
              "count      36815.0         36815.0                   36815.0      36815.0   \n",
              "mean           1.0             0.0                       0.0          0.0   \n",
              "std            0.0             0.0                       0.0          0.0   \n",
              "min            1.0             0.0                       0.0          0.0   \n",
              "25%            1.0             0.0                       0.0          0.0   \n",
              "50%            1.0             0.0                       0.0          0.0   \n",
              "75%            1.0             0.0                       0.0          0.0   \n",
              "max            1.0             0.0                       0.0          0.0   \n",
              "\n",
              "       pub_rec_bankruptcies  tax_liens  \n",
              "count          36815.000000    36815.0  \n",
              "mean               0.043787        0.0  \n",
              "std                0.205285        0.0  \n",
              "min                0.000000        0.0  \n",
              "25%                0.000000        0.0  \n",
              "50%                0.000000        0.0  \n",
              "75%                0.000000        0.0  \n",
              "max                2.000000        0.0  \n",
              "\n",
              "[8 rows x 34 columns]"
            ],
            "text/html": [
              "\n",
              "  <div id=\"df-571b7ed4-c08f-4d58-b17f-d86b48bb167c\" class=\"colab-df-container\">\n",
              "    <div>\n",
              "<style scoped>\n",
              "    .dataframe tbody tr th:only-of-type {\n",
              "        vertical-align: middle;\n",
              "    }\n",
              "\n",
              "    .dataframe tbody tr th {\n",
              "        vertical-align: top;\n",
              "    }\n",
              "\n",
              "    .dataframe thead th {\n",
              "        text-align: right;\n",
              "    }\n",
              "</style>\n",
              "<table border=\"1\" class=\"dataframe\">\n",
              "  <thead>\n",
              "    <tr style=\"text-align: right;\">\n",
              "      <th></th>\n",
              "      <th>id</th>\n",
              "      <th>member_id</th>\n",
              "      <th>loan_amnt</th>\n",
              "      <th>funded_amnt</th>\n",
              "      <th>funded_amnt_inv</th>\n",
              "      <th>int_rate</th>\n",
              "      <th>installment</th>\n",
              "      <th>emp_length</th>\n",
              "      <th>annual_inc</th>\n",
              "      <th>dti</th>\n",
              "      <th>...</th>\n",
              "      <th>recoveries</th>\n",
              "      <th>collection_recovery_fee</th>\n",
              "      <th>last_pymnt_amnt</th>\n",
              "      <th>collections_12_mths_ex_med</th>\n",
              "      <th>policy_code</th>\n",
              "      <th>acc_now_delinq</th>\n",
              "      <th>chargeoff_within_12_mths</th>\n",
              "      <th>delinq_amnt</th>\n",
              "      <th>pub_rec_bankruptcies</th>\n",
              "      <th>tax_liens</th>\n",
              "    </tr>\n",
              "  </thead>\n",
              "  <tbody>\n",
              "    <tr>\n",
              "      <th>count</th>\n",
              "      <td>3.681500e+04</td>\n",
              "      <td>3.681500e+04</td>\n",
              "      <td>36815.000000</td>\n",
              "      <td>36815.000000</td>\n",
              "      <td>36815.000000</td>\n",
              "      <td>36815.000000</td>\n",
              "      <td>36815.000000</td>\n",
              "      <td>36815.000000</td>\n",
              "      <td>36815.000000</td>\n",
              "      <td>36815.000000</td>\n",
              "      <td>...</td>\n",
              "      <td>36815.000000</td>\n",
              "      <td>36815.000000</td>\n",
              "      <td>36815.000000</td>\n",
              "      <td>36815.0</td>\n",
              "      <td>36815.0</td>\n",
              "      <td>36815.0</td>\n",
              "      <td>36815.0</td>\n",
              "      <td>36815.0</td>\n",
              "      <td>36815.000000</td>\n",
              "      <td>36815.0</td>\n",
              "    </tr>\n",
              "    <tr>\n",
              "      <th>mean</th>\n",
              "      <td>6.760857e+05</td>\n",
              "      <td>8.419800e+05</td>\n",
              "      <td>10706.984925</td>\n",
              "      <td>10460.175200</td>\n",
              "      <td>9916.487115</td>\n",
              "      <td>11.889882</td>\n",
              "      <td>312.593015</td>\n",
              "      <td>5.026362</td>\n",
              "      <td>61218.193490</td>\n",
              "      <td>13.437614</td>\n",
              "      <td>...</td>\n",
              "      <td>95.148365</td>\n",
              "      <td>12.176062</td>\n",
              "      <td>2634.677276</td>\n",
              "      <td>0.0</td>\n",
              "      <td>1.0</td>\n",
              "      <td>0.0</td>\n",
              "      <td>0.0</td>\n",
              "      <td>0.0</td>\n",
              "      <td>0.043787</td>\n",
              "      <td>0.0</td>\n",
              "    </tr>\n",
              "    <tr>\n",
              "      <th>std</th>\n",
              "      <td>2.091882e+05</td>\n",
              "      <td>2.643366e+05</td>\n",
              "      <td>7068.107909</td>\n",
              "      <td>6820.737715</td>\n",
              "      <td>6750.340900</td>\n",
              "      <td>3.668709</td>\n",
              "      <td>199.806808</td>\n",
              "      <td>3.347519</td>\n",
              "      <td>28224.583784</td>\n",
              "      <td>6.660651</td>\n",
              "      <td>...</td>\n",
              "      <td>680.688516</td>\n",
              "      <td>145.441890</td>\n",
              "      <td>4313.178379</td>\n",
              "      <td>0.0</td>\n",
              "      <td>0.0</td>\n",
              "      <td>0.0</td>\n",
              "      <td>0.0</td>\n",
              "      <td>0.0</td>\n",
              "      <td>0.205285</td>\n",
              "      <td>0.0</td>\n",
              "    </tr>\n",
              "    <tr>\n",
              "      <th>min</th>\n",
              "      <td>5.473400e+04</td>\n",
              "      <td>7.472400e+04</td>\n",
              "      <td>500.000000</td>\n",
              "      <td>500.000000</td>\n",
              "      <td>0.000000</td>\n",
              "      <td>5.420000</td>\n",
              "      <td>15.690000</td>\n",
              "      <td>1.000000</td>\n",
              "      <td>4000.000000</td>\n",
              "      <td>0.000000</td>\n",
              "      <td>...</td>\n",
              "      <td>0.000000</td>\n",
              "      <td>0.000000</td>\n",
              "      <td>0.000000</td>\n",
              "      <td>0.0</td>\n",
              "      <td>1.0</td>\n",
              "      <td>0.0</td>\n",
              "      <td>0.0</td>\n",
              "      <td>0.0</td>\n",
              "      <td>0.000000</td>\n",
              "      <td>0.0</td>\n",
              "    </tr>\n",
              "    <tr>\n",
              "      <th>25%</th>\n",
              "      <td>5.122775e+05</td>\n",
              "      <td>6.614220e+05</td>\n",
              "      <td>5000.000000</td>\n",
              "      <td>5000.000000</td>\n",
              "      <td>4988.984523</td>\n",
              "      <td>8.940000</td>\n",
              "      <td>163.305000</td>\n",
              "      <td>2.000000</td>\n",
              "      <td>40000.000000</td>\n",
              "      <td>8.340000</td>\n",
              "      <td>...</td>\n",
              "      <td>0.000000</td>\n",
              "      <td>0.000000</td>\n",
              "      <td>212.730000</td>\n",
              "      <td>0.0</td>\n",
              "      <td>1.0</td>\n",
              "      <td>0.0</td>\n",
              "      <td>0.0</td>\n",
              "      <td>0.0</td>\n",
              "      <td>0.000000</td>\n",
              "      <td>0.0</td>\n",
              "    </tr>\n",
              "    <tr>\n",
              "      <th>50%</th>\n",
              "      <td>6.556460e+05</td>\n",
              "      <td>8.378840e+05</td>\n",
              "      <td>9250.000000</td>\n",
              "      <td>9000.000000</td>\n",
              "      <td>8400.000000</td>\n",
              "      <td>11.710000</td>\n",
              "      <td>271.140000</td>\n",
              "      <td>4.000000</td>\n",
              "      <td>56000.000000</td>\n",
              "      <td>13.570000</td>\n",
              "      <td>...</td>\n",
              "      <td>0.000000</td>\n",
              "      <td>0.000000</td>\n",
              "      <td>546.160000</td>\n",
              "      <td>0.0</td>\n",
              "      <td>1.0</td>\n",
              "      <td>0.0</td>\n",
              "      <td>0.0</td>\n",
              "      <td>0.0</td>\n",
              "      <td>0.000000</td>\n",
              "      <td>0.0</td>\n",
              "    </tr>\n",
              "    <tr>\n",
              "      <th>75%</th>\n",
              "      <td>8.278755e+05</td>\n",
              "      <td>1.035967e+06</td>\n",
              "      <td>15000.000000</td>\n",
              "      <td>14400.000000</td>\n",
              "      <td>13687.858570</td>\n",
              "      <td>14.270000</td>\n",
              "      <td>409.700000</td>\n",
              "      <td>8.000000</td>\n",
              "      <td>78000.000000</td>\n",
              "      <td>18.700000</td>\n",
              "      <td>...</td>\n",
              "      <td>0.000000</td>\n",
              "      <td>0.000000</td>\n",
              "      <td>3312.680000</td>\n",
              "      <td>0.0</td>\n",
              "      <td>1.0</td>\n",
              "      <td>0.0</td>\n",
              "      <td>0.0</td>\n",
              "      <td>0.0</td>\n",
              "      <td>0.000000</td>\n",
              "      <td>0.0</td>\n",
              "    </tr>\n",
              "    <tr>\n",
              "      <th>max</th>\n",
              "      <td>1.077501e+06</td>\n",
              "      <td>1.314167e+06</td>\n",
              "      <td>35000.000000</td>\n",
              "      <td>35000.000000</td>\n",
              "      <td>35000.000000</td>\n",
              "      <td>24.400000</td>\n",
              "      <td>1305.190000</td>\n",
              "      <td>10.000000</td>\n",
              "      <td>145000.000000</td>\n",
              "      <td>29.990000</td>\n",
              "      <td>...</td>\n",
              "      <td>29623.350000</td>\n",
              "      <td>7002.190000</td>\n",
              "      <td>36115.200000</td>\n",
              "      <td>0.0</td>\n",
              "      <td>1.0</td>\n",
              "      <td>0.0</td>\n",
              "      <td>0.0</td>\n",
              "      <td>0.0</td>\n",
              "      <td>2.000000</td>\n",
              "      <td>0.0</td>\n",
              "    </tr>\n",
              "  </tbody>\n",
              "</table>\n",
              "<p>8 rows × 34 columns</p>\n",
              "</div>\n",
              "    <div class=\"colab-df-buttons\">\n",
              "\n",
              "  <div class=\"colab-df-container\">\n",
              "    <button class=\"colab-df-convert\" onclick=\"convertToInteractive('df-571b7ed4-c08f-4d58-b17f-d86b48bb167c')\"\n",
              "            title=\"Convert this dataframe to an interactive table.\"\n",
              "            style=\"display:none;\">\n",
              "\n",
              "  <svg xmlns=\"http://www.w3.org/2000/svg\" height=\"24px\" viewBox=\"0 -960 960 960\">\n",
              "    <path d=\"M120-120v-720h720v720H120Zm60-500h600v-160H180v160Zm220 220h160v-160H400v160Zm0 220h160v-160H400v160ZM180-400h160v-160H180v160Zm440 0h160v-160H620v160ZM180-180h160v-160H180v160Zm440 0h160v-160H620v160Z\"/>\n",
              "  </svg>\n",
              "    </button>\n",
              "\n",
              "  <style>\n",
              "    .colab-df-container {\n",
              "      display:flex;\n",
              "      gap: 12px;\n",
              "    }\n",
              "\n",
              "    .colab-df-convert {\n",
              "      background-color: #E8F0FE;\n",
              "      border: none;\n",
              "      border-radius: 50%;\n",
              "      cursor: pointer;\n",
              "      display: none;\n",
              "      fill: #1967D2;\n",
              "      height: 32px;\n",
              "      padding: 0 0 0 0;\n",
              "      width: 32px;\n",
              "    }\n",
              "\n",
              "    .colab-df-convert:hover {\n",
              "      background-color: #E2EBFA;\n",
              "      box-shadow: 0px 1px 2px rgba(60, 64, 67, 0.3), 0px 1px 3px 1px rgba(60, 64, 67, 0.15);\n",
              "      fill: #174EA6;\n",
              "    }\n",
              "\n",
              "    .colab-df-buttons div {\n",
              "      margin-bottom: 4px;\n",
              "    }\n",
              "\n",
              "    [theme=dark] .colab-df-convert {\n",
              "      background-color: #3B4455;\n",
              "      fill: #D2E3FC;\n",
              "    }\n",
              "\n",
              "    [theme=dark] .colab-df-convert:hover {\n",
              "      background-color: #434B5C;\n",
              "      box-shadow: 0px 1px 3px 1px rgba(0, 0, 0, 0.15);\n",
              "      filter: drop-shadow(0px 1px 2px rgba(0, 0, 0, 0.3));\n",
              "      fill: #FFFFFF;\n",
              "    }\n",
              "  </style>\n",
              "\n",
              "    <script>\n",
              "      const buttonEl =\n",
              "        document.querySelector('#df-571b7ed4-c08f-4d58-b17f-d86b48bb167c button.colab-df-convert');\n",
              "      buttonEl.style.display =\n",
              "        google.colab.kernel.accessAllowed ? 'block' : 'none';\n",
              "\n",
              "      async function convertToInteractive(key) {\n",
              "        const element = document.querySelector('#df-571b7ed4-c08f-4d58-b17f-d86b48bb167c');\n",
              "        const dataTable =\n",
              "          await google.colab.kernel.invokeFunction('convertToInteractive',\n",
              "                                                    [key], {});\n",
              "        if (!dataTable) return;\n",
              "\n",
              "        const docLinkHtml = 'Like what you see? Visit the ' +\n",
              "          '<a target=\"_blank\" href=https://colab.research.google.com/notebooks/data_table.ipynb>data table notebook</a>'\n",
              "          + ' to learn more about interactive tables.';\n",
              "        element.innerHTML = '';\n",
              "        dataTable['output_type'] = 'display_data';\n",
              "        await google.colab.output.renderOutput(dataTable, element);\n",
              "        const docLink = document.createElement('div');\n",
              "        docLink.innerHTML = docLinkHtml;\n",
              "        element.appendChild(docLink);\n",
              "      }\n",
              "    </script>\n",
              "  </div>\n",
              "\n",
              "\n",
              "<div id=\"df-3f0dd53a-5537-4b67-9e58-8c599438666c\">\n",
              "  <button class=\"colab-df-quickchart\" onclick=\"quickchart('df-3f0dd53a-5537-4b67-9e58-8c599438666c')\"\n",
              "            title=\"Suggest charts\"\n",
              "            style=\"display:none;\">\n",
              "\n",
              "<svg xmlns=\"http://www.w3.org/2000/svg\" height=\"24px\"viewBox=\"0 0 24 24\"\n",
              "     width=\"24px\">\n",
              "    <g>\n",
              "        <path d=\"M19 3H5c-1.1 0-2 .9-2 2v14c0 1.1.9 2 2 2h14c1.1 0 2-.9 2-2V5c0-1.1-.9-2-2-2zM9 17H7v-7h2v7zm4 0h-2V7h2v10zm4 0h-2v-4h2v4z\"/>\n",
              "    </g>\n",
              "</svg>\n",
              "  </button>\n",
              "\n",
              "<style>\n",
              "  .colab-df-quickchart {\n",
              "      --bg-color: #E8F0FE;\n",
              "      --fill-color: #1967D2;\n",
              "      --hover-bg-color: #E2EBFA;\n",
              "      --hover-fill-color: #174EA6;\n",
              "      --disabled-fill-color: #AAA;\n",
              "      --disabled-bg-color: #DDD;\n",
              "  }\n",
              "\n",
              "  [theme=dark] .colab-df-quickchart {\n",
              "      --bg-color: #3B4455;\n",
              "      --fill-color: #D2E3FC;\n",
              "      --hover-bg-color: #434B5C;\n",
              "      --hover-fill-color: #FFFFFF;\n",
              "      --disabled-bg-color: #3B4455;\n",
              "      --disabled-fill-color: #666;\n",
              "  }\n",
              "\n",
              "  .colab-df-quickchart {\n",
              "    background-color: var(--bg-color);\n",
              "    border: none;\n",
              "    border-radius: 50%;\n",
              "    cursor: pointer;\n",
              "    display: none;\n",
              "    fill: var(--fill-color);\n",
              "    height: 32px;\n",
              "    padding: 0;\n",
              "    width: 32px;\n",
              "  }\n",
              "\n",
              "  .colab-df-quickchart:hover {\n",
              "    background-color: var(--hover-bg-color);\n",
              "    box-shadow: 0 1px 2px rgba(60, 64, 67, 0.3), 0 1px 3px 1px rgba(60, 64, 67, 0.15);\n",
              "    fill: var(--button-hover-fill-color);\n",
              "  }\n",
              "\n",
              "  .colab-df-quickchart-complete:disabled,\n",
              "  .colab-df-quickchart-complete:disabled:hover {\n",
              "    background-color: var(--disabled-bg-color);\n",
              "    fill: var(--disabled-fill-color);\n",
              "    box-shadow: none;\n",
              "  }\n",
              "\n",
              "  .colab-df-spinner {\n",
              "    border: 2px solid var(--fill-color);\n",
              "    border-color: transparent;\n",
              "    border-bottom-color: var(--fill-color);\n",
              "    animation:\n",
              "      spin 1s steps(1) infinite;\n",
              "  }\n",
              "\n",
              "  @keyframes spin {\n",
              "    0% {\n",
              "      border-color: transparent;\n",
              "      border-bottom-color: var(--fill-color);\n",
              "      border-left-color: var(--fill-color);\n",
              "    }\n",
              "    20% {\n",
              "      border-color: transparent;\n",
              "      border-left-color: var(--fill-color);\n",
              "      border-top-color: var(--fill-color);\n",
              "    }\n",
              "    30% {\n",
              "      border-color: transparent;\n",
              "      border-left-color: var(--fill-color);\n",
              "      border-top-color: var(--fill-color);\n",
              "      border-right-color: var(--fill-color);\n",
              "    }\n",
              "    40% {\n",
              "      border-color: transparent;\n",
              "      border-right-color: var(--fill-color);\n",
              "      border-top-color: var(--fill-color);\n",
              "    }\n",
              "    60% {\n",
              "      border-color: transparent;\n",
              "      border-right-color: var(--fill-color);\n",
              "    }\n",
              "    80% {\n",
              "      border-color: transparent;\n",
              "      border-right-color: var(--fill-color);\n",
              "      border-bottom-color: var(--fill-color);\n",
              "    }\n",
              "    90% {\n",
              "      border-color: transparent;\n",
              "      border-bottom-color: var(--fill-color);\n",
              "    }\n",
              "  }\n",
              "</style>\n",
              "\n",
              "  <script>\n",
              "    async function quickchart(key) {\n",
              "      const quickchartButtonEl =\n",
              "        document.querySelector('#' + key + ' button');\n",
              "      quickchartButtonEl.disabled = true;  // To prevent multiple clicks.\n",
              "      quickchartButtonEl.classList.add('colab-df-spinner');\n",
              "      try {\n",
              "        const charts = await google.colab.kernel.invokeFunction(\n",
              "            'suggestCharts', [key], {});\n",
              "      } catch (error) {\n",
              "        console.error('Error during call to suggestCharts:', error);\n",
              "      }\n",
              "      quickchartButtonEl.classList.remove('colab-df-spinner');\n",
              "      quickchartButtonEl.classList.add('colab-df-quickchart-complete');\n",
              "    }\n",
              "    (() => {\n",
              "      let quickchartButtonEl =\n",
              "        document.querySelector('#df-3f0dd53a-5537-4b67-9e58-8c599438666c button');\n",
              "      quickchartButtonEl.style.display =\n",
              "        google.colab.kernel.accessAllowed ? 'block' : 'none';\n",
              "    })();\n",
              "  </script>\n",
              "</div>\n",
              "\n",
              "    </div>\n",
              "  </div>\n"
            ],
            "application/vnd.google.colaboratory.intrinsic+json": {
              "type": "dataframe"
            }
          },
          "metadata": {},
          "execution_count": 436
        }
      ],
      "source": [
        "loan_df.describe()"
      ]
    },
    {
      "cell_type": "code",
      "execution_count": 437,
      "metadata": {
        "id": "Lm5D7-cwULE5",
        "outputId": "13c8bbc2-bed2-4090-a504-b5cf37374dc6",
        "colab": {
          "base_uri": "https://localhost:8080/",
          "height": 554
        }
      },
      "outputs": [
        {
          "output_type": "execute_result",
          "data": {
            "text/plain": [
              "purpose\n",
              "debt_consolidation    45.476029\n",
              "credit_card           12.614423\n",
              "other                  9.542306\n",
              "home_improvement       7.266060\n",
              "major_purchase         5.508624\n",
              "small_business         4.400380\n",
              "car                    3.805514\n",
              "wedding                2.319707\n",
              "medical                1.727557\n",
              "moving                 1.469510\n",
              "vacation               0.947983\n",
              "house                  0.947983\n",
              "educational            0.752411\n",
              "renewable_energy       0.258047\n",
              "Name: count, dtype: float64"
            ],
            "text/html": [
              "<div>\n",
              "<style scoped>\n",
              "    .dataframe tbody tr th:only-of-type {\n",
              "        vertical-align: middle;\n",
              "    }\n",
              "\n",
              "    .dataframe tbody tr th {\n",
              "        vertical-align: top;\n",
              "    }\n",
              "\n",
              "    .dataframe thead th {\n",
              "        text-align: right;\n",
              "    }\n",
              "</style>\n",
              "<table border=\"1\" class=\"dataframe\">\n",
              "  <thead>\n",
              "    <tr style=\"text-align: right;\">\n",
              "      <th></th>\n",
              "      <th>count</th>\n",
              "    </tr>\n",
              "    <tr>\n",
              "      <th>purpose</th>\n",
              "      <th></th>\n",
              "    </tr>\n",
              "  </thead>\n",
              "  <tbody>\n",
              "    <tr>\n",
              "      <th>debt_consolidation</th>\n",
              "      <td>45.476029</td>\n",
              "    </tr>\n",
              "    <tr>\n",
              "      <th>credit_card</th>\n",
              "      <td>12.614423</td>\n",
              "    </tr>\n",
              "    <tr>\n",
              "      <th>other</th>\n",
              "      <td>9.542306</td>\n",
              "    </tr>\n",
              "    <tr>\n",
              "      <th>home_improvement</th>\n",
              "      <td>7.266060</td>\n",
              "    </tr>\n",
              "    <tr>\n",
              "      <th>major_purchase</th>\n",
              "      <td>5.508624</td>\n",
              "    </tr>\n",
              "    <tr>\n",
              "      <th>small_business</th>\n",
              "      <td>4.400380</td>\n",
              "    </tr>\n",
              "    <tr>\n",
              "      <th>car</th>\n",
              "      <td>3.805514</td>\n",
              "    </tr>\n",
              "    <tr>\n",
              "      <th>wedding</th>\n",
              "      <td>2.319707</td>\n",
              "    </tr>\n",
              "    <tr>\n",
              "      <th>medical</th>\n",
              "      <td>1.727557</td>\n",
              "    </tr>\n",
              "    <tr>\n",
              "      <th>moving</th>\n",
              "      <td>1.469510</td>\n",
              "    </tr>\n",
              "    <tr>\n",
              "      <th>vacation</th>\n",
              "      <td>0.947983</td>\n",
              "    </tr>\n",
              "    <tr>\n",
              "      <th>house</th>\n",
              "      <td>0.947983</td>\n",
              "    </tr>\n",
              "    <tr>\n",
              "      <th>educational</th>\n",
              "      <td>0.752411</td>\n",
              "    </tr>\n",
              "    <tr>\n",
              "      <th>renewable_energy</th>\n",
              "      <td>0.258047</td>\n",
              "    </tr>\n",
              "  </tbody>\n",
              "</table>\n",
              "</div><br><label><b>dtype:</b> float64</label>"
            ]
          },
          "metadata": {},
          "execution_count": 437
        }
      ],
      "source": [
        "# Tính phần trăm dựa vào mục đích vay\n",
        "(loan_df.purpose.value_counts()*100)/len(loan_df)"
      ]
    },
    {
      "cell_type": "code",
      "execution_count": 438,
      "metadata": {
        "id": "ceHVTjjIULE5",
        "outputId": "2ced45cc-5dd1-4556-9afc-97695ed3e4c1",
        "colab": {
          "base_uri": "https://localhost:8080/",
          "height": 1000
        }
      },
      "outputs": [
        {
          "output_type": "stream",
          "name": "stdout",
          "text": [
            "(36815, 48)\n"
          ]
        },
        {
          "output_type": "execute_result",
          "data": {
            "text/plain": [
              "id                               0\n",
              "member_id                        0\n",
              "loan_amnt                        0\n",
              "funded_amnt                      0\n",
              "funded_amnt_inv                  0\n",
              "int_rate                         0\n",
              "emp_length                       0\n",
              "annual_inc                       0\n",
              "dti                              0\n",
              "delinq_2yrs                      0\n",
              "inq_last_6mths                   0\n",
              "open_acc                         0\n",
              "pub_rec                          0\n",
              "revol_bal                        0\n",
              "revol_util                       0\n",
              "total_acc                        0\n",
              "out_prncp                        0\n",
              "out_prncp_inv                    0\n",
              "total_pymnt                      0\n",
              "total_pymnt_inv                  0\n",
              "total_rec_prncp                  0\n",
              "total_rec_int                    0\n",
              "total_rec_late_fee               0\n",
              "recoveries                       0\n",
              "collection_recovery_fee          0\n",
              "last_pymnt_amnt                  0\n",
              "collections_12_mths_ex_med       0\n",
              "acc_now_delinq                   0\n",
              "chargeoff_within_12_mths         0\n",
              "delinq_amnt                      0\n",
              "pub_rec_bankruptcies             0\n",
              "tax_liens                        0\n",
              "term                          1091\n",
              "grade                         1091\n",
              "sub_grade                     1091\n",
              "emp_title                     3302\n",
              "home_ownership                1091\n",
              "verification_status           1091\n",
              "issue_d                       1091\n",
              "loan_status                   1091\n",
              "url                           1091\n",
              "purpose                       1091\n",
              "title                         1102\n",
              "zip_code                      1091\n",
              "addr_state                    1091\n",
              "earliest_cr_line              1091\n",
              "last_pymnt_d                  1161\n",
              "last_credit_pull_d            1092\n",
              "dtype: int64"
            ],
            "text/html": [
              "<div>\n",
              "<style scoped>\n",
              "    .dataframe tbody tr th:only-of-type {\n",
              "        vertical-align: middle;\n",
              "    }\n",
              "\n",
              "    .dataframe tbody tr th {\n",
              "        vertical-align: top;\n",
              "    }\n",
              "\n",
              "    .dataframe thead th {\n",
              "        text-align: right;\n",
              "    }\n",
              "</style>\n",
              "<table border=\"1\" class=\"dataframe\">\n",
              "  <thead>\n",
              "    <tr style=\"text-align: right;\">\n",
              "      <th></th>\n",
              "      <th>0</th>\n",
              "    </tr>\n",
              "  </thead>\n",
              "  <tbody>\n",
              "    <tr>\n",
              "      <th>id</th>\n",
              "      <td>0</td>\n",
              "    </tr>\n",
              "    <tr>\n",
              "      <th>member_id</th>\n",
              "      <td>0</td>\n",
              "    </tr>\n",
              "    <tr>\n",
              "      <th>loan_amnt</th>\n",
              "      <td>0</td>\n",
              "    </tr>\n",
              "    <tr>\n",
              "      <th>funded_amnt</th>\n",
              "      <td>0</td>\n",
              "    </tr>\n",
              "    <tr>\n",
              "      <th>funded_amnt_inv</th>\n",
              "      <td>0</td>\n",
              "    </tr>\n",
              "    <tr>\n",
              "      <th>int_rate</th>\n",
              "      <td>0</td>\n",
              "    </tr>\n",
              "    <tr>\n",
              "      <th>emp_length</th>\n",
              "      <td>0</td>\n",
              "    </tr>\n",
              "    <tr>\n",
              "      <th>annual_inc</th>\n",
              "      <td>0</td>\n",
              "    </tr>\n",
              "    <tr>\n",
              "      <th>dti</th>\n",
              "      <td>0</td>\n",
              "    </tr>\n",
              "    <tr>\n",
              "      <th>delinq_2yrs</th>\n",
              "      <td>0</td>\n",
              "    </tr>\n",
              "    <tr>\n",
              "      <th>inq_last_6mths</th>\n",
              "      <td>0</td>\n",
              "    </tr>\n",
              "    <tr>\n",
              "      <th>open_acc</th>\n",
              "      <td>0</td>\n",
              "    </tr>\n",
              "    <tr>\n",
              "      <th>pub_rec</th>\n",
              "      <td>0</td>\n",
              "    </tr>\n",
              "    <tr>\n",
              "      <th>revol_bal</th>\n",
              "      <td>0</td>\n",
              "    </tr>\n",
              "    <tr>\n",
              "      <th>revol_util</th>\n",
              "      <td>0</td>\n",
              "    </tr>\n",
              "    <tr>\n",
              "      <th>total_acc</th>\n",
              "      <td>0</td>\n",
              "    </tr>\n",
              "    <tr>\n",
              "      <th>out_prncp</th>\n",
              "      <td>0</td>\n",
              "    </tr>\n",
              "    <tr>\n",
              "      <th>out_prncp_inv</th>\n",
              "      <td>0</td>\n",
              "    </tr>\n",
              "    <tr>\n",
              "      <th>total_pymnt</th>\n",
              "      <td>0</td>\n",
              "    </tr>\n",
              "    <tr>\n",
              "      <th>total_pymnt_inv</th>\n",
              "      <td>0</td>\n",
              "    </tr>\n",
              "    <tr>\n",
              "      <th>total_rec_prncp</th>\n",
              "      <td>0</td>\n",
              "    </tr>\n",
              "    <tr>\n",
              "      <th>total_rec_int</th>\n",
              "      <td>0</td>\n",
              "    </tr>\n",
              "    <tr>\n",
              "      <th>total_rec_late_fee</th>\n",
              "      <td>0</td>\n",
              "    </tr>\n",
              "    <tr>\n",
              "      <th>recoveries</th>\n",
              "      <td>0</td>\n",
              "    </tr>\n",
              "    <tr>\n",
              "      <th>collection_recovery_fee</th>\n",
              "      <td>0</td>\n",
              "    </tr>\n",
              "    <tr>\n",
              "      <th>last_pymnt_amnt</th>\n",
              "      <td>0</td>\n",
              "    </tr>\n",
              "    <tr>\n",
              "      <th>collections_12_mths_ex_med</th>\n",
              "      <td>0</td>\n",
              "    </tr>\n",
              "    <tr>\n",
              "      <th>acc_now_delinq</th>\n",
              "      <td>0</td>\n",
              "    </tr>\n",
              "    <tr>\n",
              "      <th>chargeoff_within_12_mths</th>\n",
              "      <td>0</td>\n",
              "    </tr>\n",
              "    <tr>\n",
              "      <th>delinq_amnt</th>\n",
              "      <td>0</td>\n",
              "    </tr>\n",
              "    <tr>\n",
              "      <th>pub_rec_bankruptcies</th>\n",
              "      <td>0</td>\n",
              "    </tr>\n",
              "    <tr>\n",
              "      <th>tax_liens</th>\n",
              "      <td>0</td>\n",
              "    </tr>\n",
              "    <tr>\n",
              "      <th>term</th>\n",
              "      <td>1091</td>\n",
              "    </tr>\n",
              "    <tr>\n",
              "      <th>grade</th>\n",
              "      <td>1091</td>\n",
              "    </tr>\n",
              "    <tr>\n",
              "      <th>sub_grade</th>\n",
              "      <td>1091</td>\n",
              "    </tr>\n",
              "    <tr>\n",
              "      <th>emp_title</th>\n",
              "      <td>3302</td>\n",
              "    </tr>\n",
              "    <tr>\n",
              "      <th>home_ownership</th>\n",
              "      <td>1091</td>\n",
              "    </tr>\n",
              "    <tr>\n",
              "      <th>verification_status</th>\n",
              "      <td>1091</td>\n",
              "    </tr>\n",
              "    <tr>\n",
              "      <th>issue_d</th>\n",
              "      <td>1091</td>\n",
              "    </tr>\n",
              "    <tr>\n",
              "      <th>loan_status</th>\n",
              "      <td>1091</td>\n",
              "    </tr>\n",
              "    <tr>\n",
              "      <th>url</th>\n",
              "      <td>1091</td>\n",
              "    </tr>\n",
              "    <tr>\n",
              "      <th>purpose</th>\n",
              "      <td>1091</td>\n",
              "    </tr>\n",
              "    <tr>\n",
              "      <th>title</th>\n",
              "      <td>1102</td>\n",
              "    </tr>\n",
              "    <tr>\n",
              "      <th>zip_code</th>\n",
              "      <td>1091</td>\n",
              "    </tr>\n",
              "    <tr>\n",
              "      <th>addr_state</th>\n",
              "      <td>1091</td>\n",
              "    </tr>\n",
              "    <tr>\n",
              "      <th>earliest_cr_line</th>\n",
              "      <td>1091</td>\n",
              "    </tr>\n",
              "    <tr>\n",
              "      <th>last_pymnt_d</th>\n",
              "      <td>1161</td>\n",
              "    </tr>\n",
              "    <tr>\n",
              "      <th>last_credit_pull_d</th>\n",
              "      <td>1092</td>\n",
              "    </tr>\n",
              "  </tbody>\n",
              "</table>\n",
              "</div><br><label><b>dtype:</b> int64</label>"
            ]
          },
          "metadata": {},
          "execution_count": 438
        }
      ],
      "source": [
        "# Do Feature Selection\n",
        "unnecessary_column = [\"application_type\",\"policy_code\",\"initial_list_status\",\"installment\",\"pymnt_plan\"]\n",
        "loan_df.drop(labels = unnecessary_column,axis = 1,inplace = True)\n",
        "print(loan_df.shape)\n",
        "loan_df.isnull().sum()"
      ]
    },
    {
      "cell_type": "code",
      "execution_count": 439,
      "metadata": {
        "id": "4ClpJOQsULE6"
      },
      "outputs": [],
      "source": [
        "# Bỏ các cột addr_state, grade, url vì các dữ liệu không ảnh hưởng đến việc dự đoán\n",
        "columns_to_drop = ['addr_state', 'grade', 'url']\n",
        "loan_df = loan_df.drop(columns=[col for col in columns_to_drop if col in loan_df.columns])"
      ]
    },
    {
      "cell_type": "code",
      "execution_count": 440,
      "metadata": {
        "id": "usPpA1JPULE6"
      },
      "outputs": [],
      "source": [
        "numerical_features = loan_df.select_dtypes(exclude = 'object').columns\n",
        "# Plot distributions\n",
        "num_features = len(numerical_features)\n",
        "num_cols = 5\n",
        "num_rows = (num_features // num_cols) + (num_features % num_cols > 0)\n",
        "\n",
        "plt.figure(figsize=(20, 15))\n",
        "for i, feature in enumerate(numerical_features):\n",
        "    plt.subplot(num_rows, num_cols, i + 1)\n",
        "    sns.histplot(loan_df[feature], kde=True)\n",
        "    plt.title(f'Distribution of {feature}')\n",
        "plt.tight_layout()\n",
        "plt.show()"
      ]
    },
    {
      "cell_type": "code",
      "execution_count": 441,
      "metadata": {
        "id": "Hmc84hjhULE6"
      },
      "outputs": [],
      "source": [
        "# Bỏ các cột out_prncp, out_prncp_inv, chargeoff_within_12_mths, delinq_amnt, tax_liens vì các giá trị không đổi\n",
        "columns_to_drop = ['out_prncp', 'out_prncp_inv', 'chargeoff_within_12_mths', 'delinq_amnt', 'tax_liens']\n",
        "loan_df = loan_df.drop(columns=[col for col in columns_to_drop if col in loan_df.columns])"
      ]
    },
    {
      "cell_type": "code",
      "execution_count": 442,
      "metadata": {
        "id": "taHMTQwCULE7",
        "outputId": "91382f93-9e60-40e9-8b73-0f1806e474d7",
        "colab": {
          "base_uri": "https://localhost:8080/"
        }
      },
      "outputs": [
        {
          "output_type": "execute_result",
          "data": {
            "text/plain": [
              "(36815, 40)"
            ]
          },
          "metadata": {},
          "execution_count": 442
        }
      ],
      "source": [
        "loan_df.shape"
      ]
    },
    {
      "cell_type": "code",
      "execution_count": 443,
      "metadata": {
        "id": "MImW_YSbULE7"
      },
      "outputs": [],
      "source": [
        "# Label Encoding for binary categorical columns\n",
        "label_encoder = LabelEncoder()\n",
        "binary_cols = loan_df.select_dtypes(include=['object']).columns.intersection(['term', 'sub_grade', 'home_ownership',\n",
        "                                                                             'verification_status', 'issue_d',\n",
        "                                                                             'purpose', 'title', 'zip_code',\n",
        "                                                                             'earliest_cr_line',\n",
        "                                                                             'last_pymnt_d', 'last_credit_pull_d', 'emp_title'])\n",
        "for col in binary_cols:\n",
        "    loan_df[col] = label_encoder.fit_transform(loan_df[col])\n",
        "\n",
        "for col in binary_cols:\n",
        "    freq_encoding = loan_df[col].value_counts().to_dict()\n",
        "    loan_df[col] = loan_df[col].map(freq_encoding)"
      ]
    },
    {
      "cell_type": "markdown",
      "metadata": {
        "id": "J222ND3RULE7"
      },
      "source": [
        "- Thay giá trị 'Fully Paid' = 1, 'Charged Off' = 0 do nếu 1 người trả nợ thì có thể tiếp tục cho mượn và ngược lại.\n",
        "- Nên lấy loan_status làm cột target cho model."
      ]
    },
    {
      "cell_type": "code",
      "execution_count": 444,
      "metadata": {
        "id": "74lW7rB3ULE8"
      },
      "outputs": [],
      "source": [
        "loan_df['loan_status'] = loan_df['loan_status'].map({'Fully Paid': 1, 'Charged Off': 0})"
      ]
    },
    {
      "cell_type": "code",
      "execution_count": 445,
      "metadata": {
        "id": "z717_kq1ULE9"
      },
      "outputs": [],
      "source": [
        "# Điền các giá trị trống bằng giá trị median\n",
        "loan_df = loan_df.fillna(loan_df.median())"
      ]
    },
    {
      "cell_type": "code",
      "execution_count": 446,
      "metadata": {
        "id": "tiRBxFHGULE9"
      },
      "outputs": [],
      "source": [
        "# Assuming 'loan_status' is the column indicating loan acceptance/rejection\n",
        "# Encode 'loan_status' if it's categorical\n",
        "loan_df['loan_status'] = loan_df['loan_status'].apply(lambda x: 1 if x == 1.0 else 0)\n",
        "\n",
        "# Calculate the correlation matrix\n",
        "correlation_matrix = loan_df.corr()\n",
        "\n",
        "# Plot the heatmap\n",
        "plt.figure(figsize=(12, 8))\n",
        "sns.heatmap(correlation_matrix, annot=True, cmap='coolwarm', fmt='.1f')\n",
        "plt.title('Correlation Matrix')\n",
        "plt.show()"
      ]
    },
    {
      "cell_type": "markdown",
      "metadata": {
        "id": "NVQObvgBULE9"
      },
      "source": [
        "- Từ hình ta thấy được sự tương quan giữa các feature với nhau, các feature có sự tương quan lớn nên có loại bỏ được 1 trong 2."
      ]
    },
    {
      "cell_type": "code",
      "execution_count": 447,
      "metadata": {
        "id": "7l8y3jCXULE-"
      },
      "outputs": [],
      "source": [
        "# Loại bỏ các cột có độ tương quan cao\n",
        "columns_to_drop = ['member_id', 'funded_amnt_inv', 'total_pymnt_inv', 'issue_d']\n",
        "loan_df = loan_df.drop(columns=[col for col in columns_to_drop if col in loan_df.columns])"
      ]
    },
    {
      "cell_type": "code",
      "execution_count": 448,
      "metadata": {
        "id": "xlZmOlrjULE-",
        "outputId": "a66a7e0d-609b-48ee-f703-1c06ed1fd565",
        "colab": {
          "base_uri": "https://localhost:8080/"
        }
      },
      "outputs": [
        {
          "output_type": "stream",
          "name": "stdout",
          "text": [
            "Class Distribution of Loan Status:\n",
            "loan_status\n",
            "1    31627\n",
            "0     5188\n",
            "Name: count, dtype: int64\n"
          ]
        }
      ],
      "source": [
        "# Count different values for loan_status\n",
        "loan_status_counts = loan_df['loan_status'].value_counts()\n",
        "\n",
        "# Print the counts\n",
        "print(\"Class Distribution of Loan Status:\")\n",
        "print(loan_status_counts)\n",
        "\n",
        "# Plot the class distribution\n",
        "plt.figure(figsize=(8, 6))\n",
        "loan_status_counts.plot(kind='bar')\n",
        "plt.title('Class Distribution of Loan Status')\n",
        "plt.xlabel('Loan Status')\n",
        "plt.ylabel('Count')\n",
        "plt.xticks(rotation=0)\n",
        "plt.show()"
      ]
    },
    {
      "cell_type": "code",
      "execution_count": 449,
      "metadata": {
        "id": "gNC6fJXbULE-"
      },
      "outputs": [],
      "source": [
        "numerical_features = loan_df.drop(columns=['id', 'collections_12_mths_ex_med', 'acc_now_delinq']).select_dtypes(include=np.number).columns\n",
        "\n",
        "# Plot distributions\n",
        "num_features = len(numerical_features)\n",
        "num_cols = 5\n",
        "num_rows = (num_features // num_cols) + (num_features % num_cols > 0)\n",
        "\n",
        "plt.figure(figsize=(20, 15))\n",
        "for i, feature in enumerate(numerical_features):\n",
        "    plt.subplot(num_rows, num_cols, i + 1)\n",
        "    sns.histplot(loan_df[feature], kde=True)\n",
        "    plt.title(f'Distribution of {feature}')\n",
        "plt.tight_layout()\n",
        "plt.show()"
      ]
    },
    {
      "cell_type": "code",
      "execution_count": 450,
      "metadata": {
        "id": "NIg6BHJTULE-",
        "outputId": "54f432d8-8597-436d-a821-358655bb7305",
        "colab": {
          "base_uri": "https://localhost:8080/"
        }
      },
      "outputs": [
        {
          "output_type": "execute_result",
          "data": {
            "text/plain": [
              "(36815, 36)"
            ]
          },
          "metadata": {},
          "execution_count": 450
        }
      ],
      "source": [
        "loan_df.shape"
      ]
    },
    {
      "cell_type": "markdown",
      "metadata": {
        "id": "JmG3mI4RULE_"
      },
      "source": [
        "1. **Class Distribution**:\n",
        "   - Analyze the balance of accepted vs. rejected loans được thực hiện bằng cách đếm số lần xuất hiện của Fully paid và Charged off.\n",
        "   - Vẽ biểu đồ cột để trực quan hóa loan_status.\n",
        "\n",
        "2. **Feature Distributions**:\n",
        "   - Vẽ các biểu đồ cột thể hiện sự phân bố dữ liệu của từng feature. Từ đó, tập trung vào các feature có mật độ phân bố trải đều, ổn định như: dti, annual_inc, total_pymnt, total_acc...\n",
        "\n",
        "3. **Correlation Analysis**:\n",
        "   - Vẽ biểu đồ nhiệt để thể hiện sự tương quan của features qua correlation matrix, loại bỏ các feature có độ tương quan lớn.\n",
        "\n",
        "4. **Missing Values**:\n",
        "   - Dựa vào phần trăm các giá trị bị thiếu để lựa chọn feature phù hợp cho mô hình.\n",
        "   - Giữ lại các feature có phần trăm thiếu sót dưới 10% do các feature có ít sự liên kết với nhau.\n",
        "   - Điền các giá trị thiếu bằng 2 cách:\n",
        "      - Đối với numeric_features: sử dụng mô hình MICE để dự đoán.\n",
        "      - Đối với categorical variables: encoding dữ liệu sau đó điền giá trị bị thiếu bằng median."
      ]
    },
    {
      "cell_type": "code",
      "execution_count": 451,
      "metadata": {
        "id": "daXcfdijULFF"
      },
      "outputs": [],
      "source": [
        "# create the scaler\n",
        "ss = StandardScaler()\n",
        "\n",
        "# fit and transform the data\n",
        "loan_df_scaled = ss.fit_transform(loan_df.select_dtypes(exclude= 'object'))"
      ]
    },
    {
      "cell_type": "code",
      "execution_count": 452,
      "metadata": {
        "id": "939phn8SULFF"
      },
      "outputs": [],
      "source": [
        "# Assuming loan_df is your DataFrame and 'loan_status' is the target variable\n",
        "\n",
        "# 1. Prepare the data\n",
        "X = loan_df.drop(columns=['loan_status','id', 'collections_12_mths_ex_med','acc_now_delinq'])  # Features\n",
        "y = loan_df['loan_status']  # Target\n",
        "\n",
        "# Split the data into training and testing sets\n",
        "X_train, X_test, y_train, y_test = train_test_split(X, y, test_size=0.3, random_state=42)\n",
        "X_train, X_val, y_train, y_val = train_test_split(X_train, y_train, test_size=0.2, random_state=42)"
      ]
    },
    {
      "cell_type": "markdown",
      "metadata": {
        "id": "n315j4YZULFG"
      },
      "source": [
        "#II Model Development"
      ]
    },
    {
      "cell_type": "markdown",
      "metadata": {
        "id": "7ZYCGBljULFG"
      },
      "source": [
        "Decision Tree"
      ]
    },
    {
      "cell_type": "code",
      "execution_count": 453,
      "metadata": {
        "id": "4qgCs53MULFG",
        "outputId": "df8eb2d2-2545-4381-acdf-d02e3893a8aa",
        "colab": {
          "base_uri": "https://localhost:8080/"
        }
      },
      "outputs": [
        {
          "output_type": "stream",
          "name": "stdout",
          "text": [
            "Confusion Matrix:\n",
            "[[ 245  475]\n",
            " [ 500 3934]]\n",
            "\n",
            "Classification Report:\n",
            "              precision    recall  f1-score   support\n",
            "\n",
            "           0       0.33      0.34      0.33       720\n",
            "           1       0.89      0.89      0.89      4434\n",
            "\n",
            "    accuracy                           0.81      5154\n",
            "   macro avg       0.61      0.61      0.61      5154\n",
            "weighted avg       0.81      0.81      0.81      5154\n",
            "\n",
            "\n",
            "Accuracy Score:\n",
            "0.810826542491269\n",
            "ROC AUC Score:\n",
            "0.6137563900165388\n"
          ]
        }
      ],
      "source": [
        "# Create the Decision Tree model with class weight to minimize false positives\n",
        "dt_model = DecisionTreeClassifier(class_weight='balanced', random_state=42)\n",
        "\n",
        "# Train the model\n",
        "dt_model.fit(X_train, y_train)\n",
        "\n",
        "y_val_pred = dt_model.predict(X_val)\n",
        "\n",
        "# Evaluate the model\n",
        "print(\"Confusion Matrix:\")\n",
        "print(confusion_matrix(y_val, y_val_pred))\n",
        "print(\"\\nClassification Report:\")\n",
        "print(classification_report(y_val, y_val_pred))\n",
        "print(\"\\nAccuracy Score:\")\n",
        "print(accuracy_score(y_val, y_val_pred))\n",
        "print(\"ROC AUC Score:\")\n",
        "print(roc_auc_score(y_val, y_val_pred))"
      ]
    },
    {
      "cell_type": "code",
      "execution_count": 454,
      "metadata": {
        "id": "8t0sW1FcULFI",
        "outputId": "8d9d8013-3440-4c3b-acc2-79e008d93440",
        "colab": {
          "base_uri": "https://localhost:8080/"
        }
      },
      "outputs": [
        {
          "output_type": "stream",
          "name": "stdout",
          "text": [
            "Confusion Matrix:\n",
            "[[ 512 1051]\n",
            " [1091 8391]]\n",
            "\n",
            "Classification Report:\n",
            "              precision    recall  f1-score   support\n",
            "\n",
            "           0       0.32      0.33      0.32      1563\n",
            "           1       0.89      0.88      0.89      9482\n",
            "\n",
            "    accuracy                           0.81     11045\n",
            "   macro avg       0.60      0.61      0.61     11045\n",
            "weighted avg       0.81      0.81      0.81     11045\n",
            "\n",
            "\n",
            "Accuracy Score:\n",
            "0.8060660932548664\n",
            "ROC AUC Score:\n",
            "0.6062575310218384\n"
          ]
        }
      ],
      "source": [
        "# Predict on the validation set\n",
        "y_test_pred = dt_model.predict(X_test)\n",
        "\n",
        "# Evaluate the model\n",
        "print(\"Confusion Matrix:\")\n",
        "print(confusion_matrix(y_test, y_test_pred))\n",
        "print(\"\\nClassification Report:\")\n",
        "print(classification_report(y_test, y_test_pred))\n",
        "print(\"\\nAccuracy Score:\")\n",
        "print(accuracy_score(y_test, y_test_pred))\n",
        "print(\"ROC AUC Score:\")\n",
        "print(roc_auc_score(y_test, y_test_pred))"
      ]
    },
    {
      "cell_type": "markdown",
      "metadata": {
        "id": "oSlYSfDqULFI"
      },
      "source": [
        "HyperTunning"
      ]
    },
    {
      "cell_type": "code",
      "execution_count": 455,
      "metadata": {
        "id": "peCQwBxyULFJ"
      },
      "outputs": [],
      "source": [
        "# Hàm mục tiêu\n",
        "def objective(trial):\n",
        "    # Tham số để tối ưu hóa\n",
        "    max_depth = trial.suggest_int('max_depth', 3, 20)\n",
        "    min_samples_split = trial.suggest_int('min_samples_split', 2, 20)\n",
        "    min_samples_leaf = trial.suggest_int('min_samples_leaf', 1, 10)\n",
        "    criterion = trial.suggest_categorical('criterion', ['gini', 'entropy'])\n",
        "\n",
        "    # Mô hình Decision Tree\n",
        "    dt_model = DecisionTreeClassifier(\n",
        "        max_depth=max_depth,\n",
        "        min_samples_split=min_samples_split,\n",
        "        min_samples_leaf=min_samples_leaf,\n",
        "        criterion=criterion,\n",
        "        random_state=42,\n",
        "        class_weight='balanced'\n",
        "    )\n",
        "\n",
        "    # Tính Recall của lớp 0 với Cross-Validation\n",
        "    recall_scores = cross_val_score(\n",
        "        dt_model, X_train, y_train,\n",
        "        cv=5, scoring=make_scorer(recall_score, pos_label=0)\n",
        "    )\n",
        "\n",
        "    # Trả về Recall trung bình\n",
        "    return recall_scores.mean()"
      ]
    },
    {
      "cell_type": "code",
      "execution_count": 456,
      "metadata": {
        "id": "hHe73MTzULFK",
        "outputId": "7a0f3c59-6d8e-4a11-9220-e2d8d94dca86",
        "colab": {
          "base_uri": "https://localhost:8080/"
        }
      },
      "outputs": [
        {
          "output_type": "stream",
          "name": "stderr",
          "text": [
            "[I 2024-11-29 16:12:42,579] A new study created in memory with name: no-name-fc35ae18-5274-4efb-a057-bf638d8dfaca\n",
            "[I 2024-11-29 16:12:44,647] Trial 0 finished with value: 0.559380378657487 and parameters: {'max_depth': 14, 'min_samples_split': 11, 'min_samples_leaf': 2, 'criterion': 'gini'}. Best is trial 0 with value: 0.559380378657487.\n",
            "[I 2024-11-29 16:12:46,141] Trial 1 finished with value: 0.6371772805507745 and parameters: {'max_depth': 9, 'min_samples_split': 4, 'min_samples_leaf': 2, 'criterion': 'gini'}. Best is trial 1 with value: 0.6371772805507745.\n",
            "[I 2024-11-29 16:12:48,854] Trial 2 finished with value: 0.5676419965576591 and parameters: {'max_depth': 14, 'min_samples_split': 4, 'min_samples_leaf': 4, 'criterion': 'gini'}. Best is trial 1 with value: 0.6371772805507745.\n",
            "[I 2024-11-29 16:12:51,353] Trial 3 finished with value: 0.5975903614457831 and parameters: {'max_depth': 12, 'min_samples_split': 4, 'min_samples_leaf': 8, 'criterion': 'entropy'}. Best is trial 1 with value: 0.6371772805507745.\n",
            "[I 2024-11-29 16:12:53,639] Trial 4 finished with value: 0.5462994836488813 and parameters: {'max_depth': 13, 'min_samples_split': 6, 'min_samples_leaf': 1, 'criterion': 'entropy'}. Best is trial 1 with value: 0.6371772805507745.\n",
            "[I 2024-11-29 16:12:55,393] Trial 5 finished with value: 0.629948364888124 and parameters: {'max_depth': 11, 'min_samples_split': 2, 'min_samples_leaf': 7, 'criterion': 'gini'}. Best is trial 1 with value: 0.6371772805507745.\n",
            "[I 2024-11-29 16:12:57,499] Trial 6 finished with value: 0.5700516351118761 and parameters: {'max_depth': 14, 'min_samples_split': 19, 'min_samples_leaf': 1, 'criterion': 'gini'}. Best is trial 1 with value: 0.6371772805507745.\n",
            "[I 2024-11-29 16:13:00,065] Trial 7 finished with value: 0.5504302925989674 and parameters: {'max_depth': 18, 'min_samples_split': 15, 'min_samples_leaf': 6, 'criterion': 'entropy'}. Best is trial 1 with value: 0.6371772805507745.\n",
            "[I 2024-11-29 16:13:03,010] Trial 8 finished with value: 0.5418244406196213 and parameters: {'max_depth': 18, 'min_samples_split': 16, 'min_samples_leaf': 4, 'criterion': 'gini'}. Best is trial 1 with value: 0.6371772805507745.\n",
            "[I 2024-11-29 16:13:04,256] Trial 9 finished with value: 0.5903614457831325 and parameters: {'max_depth': 5, 'min_samples_split': 14, 'min_samples_leaf': 10, 'criterion': 'entropy'}. Best is trial 1 with value: 0.6371772805507745.\n",
            "[I 2024-11-29 16:13:05,147] Trial 10 finished with value: 0.6103270223752152 and parameters: {'max_depth': 5, 'min_samples_split': 9, 'min_samples_leaf': 3, 'criterion': 'gini'}. Best is trial 1 with value: 0.6371772805507745.\n",
            "[I 2024-11-29 16:13:06,507] Trial 11 finished with value: 0.6540447504302926 and parameters: {'max_depth': 8, 'min_samples_split': 2, 'min_samples_leaf': 7, 'criterion': 'gini'}. Best is trial 11 with value: 0.6540447504302926.\n",
            "[I 2024-11-29 16:13:07,850] Trial 12 finished with value: 0.6561101549053356 and parameters: {'max_depth': 8, 'min_samples_split': 7, 'min_samples_leaf': 9, 'criterion': 'gini'}. Best is trial 12 with value: 0.6561101549053356.\n",
            "[I 2024-11-29 16:13:09,198] Trial 13 finished with value: 0.6561101549053356 and parameters: {'max_depth': 8, 'min_samples_split': 8, 'min_samples_leaf': 9, 'criterion': 'gini'}. Best is trial 12 with value: 0.6561101549053356.\n",
            "[I 2024-11-29 16:13:10,551] Trial 14 finished with value: 0.6602409638554217 and parameters: {'max_depth': 8, 'min_samples_split': 8, 'min_samples_leaf': 10, 'criterion': 'gini'}. Best is trial 14 with value: 0.6602409638554217.\n",
            "[I 2024-11-29 16:13:11,306] Trial 15 finished with value: 0.6206540447504303 and parameters: {'max_depth': 4, 'min_samples_split': 11, 'min_samples_leaf': 10, 'criterion': 'gini'}. Best is trial 14 with value: 0.6602409638554217.\n",
            "[I 2024-11-29 16:13:12,522] Trial 16 finished with value: 0.6347676419965577 and parameters: {'max_depth': 7, 'min_samples_split': 8, 'min_samples_leaf': 9, 'criterion': 'gini'}. Best is trial 14 with value: 0.6602409638554217.\n",
            "[I 2024-11-29 16:13:14,269] Trial 17 finished with value: 0.6450946643717729 and parameters: {'max_depth': 10, 'min_samples_split': 6, 'min_samples_leaf': 8, 'criterion': 'gini'}. Best is trial 14 with value: 0.6602409638554217.\n",
            "[I 2024-11-29 16:13:15,969] Trial 18 finished with value: 0.6395869191049914 and parameters: {'max_depth': 6, 'min_samples_split': 13, 'min_samples_leaf': 10, 'criterion': 'entropy'}. Best is trial 14 with value: 0.6602409638554217.\n",
            "[I 2024-11-29 16:13:16,818] Trial 19 finished with value: 0.48846815834767643 and parameters: {'max_depth': 3, 'min_samples_split': 9, 'min_samples_leaf': 6, 'criterion': 'gini'}. Best is trial 14 with value: 0.6602409638554217.\n",
            "[I 2024-11-29 16:13:19,155] Trial 20 finished with value: 0.5545611015490534 and parameters: {'max_depth': 20, 'min_samples_split': 6, 'min_samples_leaf': 9, 'criterion': 'gini'}. Best is trial 14 with value: 0.6602409638554217.\n",
            "[I 2024-11-29 16:13:20,513] Trial 21 finished with value: 0.6561101549053356 and parameters: {'max_depth': 8, 'min_samples_split': 8, 'min_samples_leaf': 9, 'criterion': 'gini'}. Best is trial 14 with value: 0.6602409638554217.\n",
            "[I 2024-11-29 16:13:22,185] Trial 22 finished with value: 0.6450946643717729 and parameters: {'max_depth': 10, 'min_samples_split': 11, 'min_samples_leaf': 8, 'criterion': 'gini'}. Best is trial 14 with value: 0.6602409638554217.\n",
            "[I 2024-11-29 16:13:23,385] Trial 23 finished with value: 0.6347676419965577 and parameters: {'max_depth': 7, 'min_samples_split': 7, 'min_samples_leaf': 9, 'criterion': 'gini'}. Best is trial 14 with value: 0.6602409638554217.\n",
            "[I 2024-11-29 16:13:24,897] Trial 24 finished with value: 0.6409638554216868 and parameters: {'max_depth': 9, 'min_samples_split': 9, 'min_samples_leaf': 7, 'criterion': 'gini'}. Best is trial 14 with value: 0.6602409638554217.\n",
            "[I 2024-11-29 16:13:25,965] Trial 25 finished with value: 0.6158347676419965 and parameters: {'max_depth': 6, 'min_samples_split': 13, 'min_samples_leaf': 10, 'criterion': 'gini'}. Best is trial 14 with value: 0.6602409638554217.\n",
            "[I 2024-11-29 16:13:27,887] Trial 26 finished with value: 0.6058519793459552 and parameters: {'max_depth': 10, 'min_samples_split': 5, 'min_samples_leaf': 8, 'criterion': 'entropy'}. Best is trial 14 with value: 0.6602409638554217.\n",
            "[I 2024-11-29 16:13:29,773] Trial 27 finished with value: 0.6537005163511187 and parameters: {'max_depth': 8, 'min_samples_split': 10, 'min_samples_leaf': 5, 'criterion': 'gini'}. Best is trial 14 with value: 0.6602409638554217.\n",
            "[I 2024-11-29 16:13:32,104] Trial 28 finished with value: 0.6182444061962133 and parameters: {'max_depth': 12, 'min_samples_split': 7, 'min_samples_leaf': 9, 'criterion': 'gini'}. Best is trial 14 with value: 0.6602409638554217.\n",
            "[I 2024-11-29 16:13:34,152] Trial 29 finished with value: 0.5931153184165232 and parameters: {'max_depth': 16, 'min_samples_split': 12, 'min_samples_leaf': 10, 'criterion': 'gini'}. Best is trial 14 with value: 0.6602409638554217.\n",
            "[I 2024-11-29 16:13:35,197] Trial 30 finished with value: 0.617211703958692 and parameters: {'max_depth': 6, 'min_samples_split': 10, 'min_samples_leaf': 7, 'criterion': 'gini'}. Best is trial 14 with value: 0.6602409638554217.\n",
            "[I 2024-11-29 16:13:36,559] Trial 31 finished with value: 0.6561101549053356 and parameters: {'max_depth': 8, 'min_samples_split': 8, 'min_samples_leaf': 9, 'criterion': 'gini'}. Best is trial 14 with value: 0.6602409638554217.\n",
            "[I 2024-11-29 16:13:38,045] Trial 32 finished with value: 0.6450946643717728 and parameters: {'max_depth': 9, 'min_samples_split': 8, 'min_samples_leaf': 9, 'criterion': 'gini'}. Best is trial 14 with value: 0.6602409638554217.\n",
            "[I 2024-11-29 16:13:39,807] Trial 33 finished with value: 0.6209982788296041 and parameters: {'max_depth': 11, 'min_samples_split': 7, 'min_samples_leaf': 8, 'criterion': 'gini'}. Best is trial 14 with value: 0.6602409638554217.\n",
            "[I 2024-11-29 16:13:41,014] Trial 34 finished with value: 0.6388984509466437 and parameters: {'max_depth': 7, 'min_samples_split': 5, 'min_samples_leaf': 10, 'criterion': 'gini'}. Best is trial 14 with value: 0.6602409638554217.\n",
            "[I 2024-11-29 16:13:42,918] Trial 35 finished with value: 0.6416523235800344 and parameters: {'max_depth': 9, 'min_samples_split': 3, 'min_samples_leaf': 8, 'criterion': 'gini'}. Best is trial 14 with value: 0.6602409638554217.\n",
            "[I 2024-11-29 16:13:44,095] Trial 36 finished with value: 0.646815834767642 and parameters: {'max_depth': 4, 'min_samples_split': 5, 'min_samples_leaf': 9, 'criterion': 'entropy'}. Best is trial 14 with value: 0.6602409638554217.\n",
            "[I 2024-11-29 16:13:45,785] Trial 37 finished with value: 0.6602409638554217 and parameters: {'max_depth': 8, 'min_samples_split': 10, 'min_samples_leaf': 10, 'criterion': 'gini'}. Best is trial 14 with value: 0.6602409638554217.\n",
            "[I 2024-11-29 16:13:47,683] Trial 38 finished with value: 0.6079173838209984 and parameters: {'max_depth': 13, 'min_samples_split': 10, 'min_samples_leaf': 10, 'criterion': 'gini'}. Best is trial 14 with value: 0.6602409638554217.\n",
            "[I 2024-11-29 16:13:49,678] Trial 39 finished with value: 0.6072289156626506 and parameters: {'max_depth': 11, 'min_samples_split': 19, 'min_samples_leaf': 10, 'criterion': 'entropy'}. Best is trial 14 with value: 0.6602409638554217.\n",
            "[I 2024-11-29 16:13:50,878] Trial 40 finished with value: 0.6289156626506024 and parameters: {'max_depth': 7, 'min_samples_split': 12, 'min_samples_leaf': 5, 'criterion': 'gini'}. Best is trial 14 with value: 0.6602409638554217.\n",
            "[I 2024-11-29 16:13:52,243] Trial 41 finished with value: 0.6561101549053356 and parameters: {'max_depth': 8, 'min_samples_split': 8, 'min_samples_leaf': 9, 'criterion': 'gini'}. Best is trial 14 with value: 0.6602409638554217.\n",
            "[I 2024-11-29 16:13:53,745] Trial 42 finished with value: 0.6450946643717728 and parameters: {'max_depth': 9, 'min_samples_split': 9, 'min_samples_leaf': 9, 'criterion': 'gini'}. Best is trial 14 with value: 0.6602409638554217.\n",
            "[I 2024-11-29 16:13:54,640] Trial 43 finished with value: 0.6103270223752151 and parameters: {'max_depth': 5, 'min_samples_split': 7, 'min_samples_leaf': 10, 'criterion': 'gini'}. Best is trial 14 with value: 0.6602409638554217.\n",
            "[I 2024-11-29 16:13:56,769] Trial 44 finished with value: 0.6323580034423408 and parameters: {'max_depth': 10, 'min_samples_split': 6, 'min_samples_leaf': 2, 'criterion': 'gini'}. Best is trial 14 with value: 0.6602409638554217.\n",
            "[I 2024-11-29 16:13:58,687] Trial 45 finished with value: 0.6543889845094665 and parameters: {'max_depth': 8, 'min_samples_split': 10, 'min_samples_leaf': 8, 'criterion': 'gini'}. Best is trial 14 with value: 0.6602409638554217.\n",
            "[I 2024-11-29 16:13:59,816] Trial 46 finished with value: 0.617211703958692 and parameters: {'max_depth': 6, 'min_samples_split': 12, 'min_samples_leaf': 7, 'criterion': 'gini'}. Best is trial 14 with value: 0.6602409638554217.\n",
            "[I 2024-11-29 16:14:01,174] Trial 47 finished with value: 0.6240963855421687 and parameters: {'max_depth': 7, 'min_samples_split': 4, 'min_samples_leaf': 10, 'criterion': 'entropy'}. Best is trial 14 with value: 0.6602409638554217.\n",
            "[I 2024-11-29 16:14:01,917] Trial 48 finished with value: 0.619277108433735 and parameters: {'max_depth': 4, 'min_samples_split': 8, 'min_samples_leaf': 9, 'criterion': 'gini'}. Best is trial 14 with value: 0.6602409638554217.\n",
            "[I 2024-11-29 16:14:03,827] Trial 49 finished with value: 0.5886402753872634 and parameters: {'max_depth': 13, 'min_samples_split': 16, 'min_samples_leaf': 8, 'criterion': 'gini'}. Best is trial 14 with value: 0.6602409638554217.\n"
          ]
        },
        {
          "output_type": "stream",
          "name": "stdout",
          "text": [
            "Best parameters: {'max_depth': 8, 'min_samples_split': 8, 'min_samples_leaf': 10, 'criterion': 'gini'}\n",
            "Best recall for class 0: 0.6602409638554217\n"
          ]
        }
      ],
      "source": [
        "study = optuna.create_study(direction='maximize')  # Tối đa hóa Recall lớp 0\n",
        "study.optimize(objective, n_trials=50)  # Thử nghiệm 50 lần\n",
        "\n",
        "# Kết quả tốt nhất\n",
        "print(\"Best parameters:\", study.best_params)\n",
        "print(\"Best recall for class 0:\", study.best_value)"
      ]
    },
    {
      "cell_type": "code",
      "execution_count": 457,
      "metadata": {
        "id": "wY3MczMsULFK",
        "outputId": "ffd3c86e-c639-497c-9e41-aa62f7ffb114",
        "colab": {
          "base_uri": "https://localhost:8080/",
          "height": 115
        }
      },
      "outputs": [
        {
          "output_type": "execute_result",
          "data": {
            "text/plain": [
              "DecisionTreeClassifier(class_weight='balanced', max_depth=8,\n",
              "                       min_samples_leaf=10, min_samples_split=8,\n",
              "                       random_state=42)"
            ],
            "text/html": [
              "<style>#sk-container-id-6 {\n",
              "  /* Definition of color scheme common for light and dark mode */\n",
              "  --sklearn-color-text: black;\n",
              "  --sklearn-color-line: gray;\n",
              "  /* Definition of color scheme for unfitted estimators */\n",
              "  --sklearn-color-unfitted-level-0: #fff5e6;\n",
              "  --sklearn-color-unfitted-level-1: #f6e4d2;\n",
              "  --sklearn-color-unfitted-level-2: #ffe0b3;\n",
              "  --sklearn-color-unfitted-level-3: chocolate;\n",
              "  /* Definition of color scheme for fitted estimators */\n",
              "  --sklearn-color-fitted-level-0: #f0f8ff;\n",
              "  --sklearn-color-fitted-level-1: #d4ebff;\n",
              "  --sklearn-color-fitted-level-2: #b3dbfd;\n",
              "  --sklearn-color-fitted-level-3: cornflowerblue;\n",
              "\n",
              "  /* Specific color for light theme */\n",
              "  --sklearn-color-text-on-default-background: var(--sg-text-color, var(--theme-code-foreground, var(--jp-content-font-color1, black)));\n",
              "  --sklearn-color-background: var(--sg-background-color, var(--theme-background, var(--jp-layout-color0, white)));\n",
              "  --sklearn-color-border-box: var(--sg-text-color, var(--theme-code-foreground, var(--jp-content-font-color1, black)));\n",
              "  --sklearn-color-icon: #696969;\n",
              "\n",
              "  @media (prefers-color-scheme: dark) {\n",
              "    /* Redefinition of color scheme for dark theme */\n",
              "    --sklearn-color-text-on-default-background: var(--sg-text-color, var(--theme-code-foreground, var(--jp-content-font-color1, white)));\n",
              "    --sklearn-color-background: var(--sg-background-color, var(--theme-background, var(--jp-layout-color0, #111)));\n",
              "    --sklearn-color-border-box: var(--sg-text-color, var(--theme-code-foreground, var(--jp-content-font-color1, white)));\n",
              "    --sklearn-color-icon: #878787;\n",
              "  }\n",
              "}\n",
              "\n",
              "#sk-container-id-6 {\n",
              "  color: var(--sklearn-color-text);\n",
              "}\n",
              "\n",
              "#sk-container-id-6 pre {\n",
              "  padding: 0;\n",
              "}\n",
              "\n",
              "#sk-container-id-6 input.sk-hidden--visually {\n",
              "  border: 0;\n",
              "  clip: rect(1px 1px 1px 1px);\n",
              "  clip: rect(1px, 1px, 1px, 1px);\n",
              "  height: 1px;\n",
              "  margin: -1px;\n",
              "  overflow: hidden;\n",
              "  padding: 0;\n",
              "  position: absolute;\n",
              "  width: 1px;\n",
              "}\n",
              "\n",
              "#sk-container-id-6 div.sk-dashed-wrapped {\n",
              "  border: 1px dashed var(--sklearn-color-line);\n",
              "  margin: 0 0.4em 0.5em 0.4em;\n",
              "  box-sizing: border-box;\n",
              "  padding-bottom: 0.4em;\n",
              "  background-color: var(--sklearn-color-background);\n",
              "}\n",
              "\n",
              "#sk-container-id-6 div.sk-container {\n",
              "  /* jupyter's `normalize.less` sets `[hidden] { display: none; }`\n",
              "     but bootstrap.min.css set `[hidden] { display: none !important; }`\n",
              "     so we also need the `!important` here to be able to override the\n",
              "     default hidden behavior on the sphinx rendered scikit-learn.org.\n",
              "     See: https://github.com/scikit-learn/scikit-learn/issues/21755 */\n",
              "  display: inline-block !important;\n",
              "  position: relative;\n",
              "}\n",
              "\n",
              "#sk-container-id-6 div.sk-text-repr-fallback {\n",
              "  display: none;\n",
              "}\n",
              "\n",
              "div.sk-parallel-item,\n",
              "div.sk-serial,\n",
              "div.sk-item {\n",
              "  /* draw centered vertical line to link estimators */\n",
              "  background-image: linear-gradient(var(--sklearn-color-text-on-default-background), var(--sklearn-color-text-on-default-background));\n",
              "  background-size: 2px 100%;\n",
              "  background-repeat: no-repeat;\n",
              "  background-position: center center;\n",
              "}\n",
              "\n",
              "/* Parallel-specific style estimator block */\n",
              "\n",
              "#sk-container-id-6 div.sk-parallel-item::after {\n",
              "  content: \"\";\n",
              "  width: 100%;\n",
              "  border-bottom: 2px solid var(--sklearn-color-text-on-default-background);\n",
              "  flex-grow: 1;\n",
              "}\n",
              "\n",
              "#sk-container-id-6 div.sk-parallel {\n",
              "  display: flex;\n",
              "  align-items: stretch;\n",
              "  justify-content: center;\n",
              "  background-color: var(--sklearn-color-background);\n",
              "  position: relative;\n",
              "}\n",
              "\n",
              "#sk-container-id-6 div.sk-parallel-item {\n",
              "  display: flex;\n",
              "  flex-direction: column;\n",
              "}\n",
              "\n",
              "#sk-container-id-6 div.sk-parallel-item:first-child::after {\n",
              "  align-self: flex-end;\n",
              "  width: 50%;\n",
              "}\n",
              "\n",
              "#sk-container-id-6 div.sk-parallel-item:last-child::after {\n",
              "  align-self: flex-start;\n",
              "  width: 50%;\n",
              "}\n",
              "\n",
              "#sk-container-id-6 div.sk-parallel-item:only-child::after {\n",
              "  width: 0;\n",
              "}\n",
              "\n",
              "/* Serial-specific style estimator block */\n",
              "\n",
              "#sk-container-id-6 div.sk-serial {\n",
              "  display: flex;\n",
              "  flex-direction: column;\n",
              "  align-items: center;\n",
              "  background-color: var(--sklearn-color-background);\n",
              "  padding-right: 1em;\n",
              "  padding-left: 1em;\n",
              "}\n",
              "\n",
              "\n",
              "/* Toggleable style: style used for estimator/Pipeline/ColumnTransformer box that is\n",
              "clickable and can be expanded/collapsed.\n",
              "- Pipeline and ColumnTransformer use this feature and define the default style\n",
              "- Estimators will overwrite some part of the style using the `sk-estimator` class\n",
              "*/\n",
              "\n",
              "/* Pipeline and ColumnTransformer style (default) */\n",
              "\n",
              "#sk-container-id-6 div.sk-toggleable {\n",
              "  /* Default theme specific background. It is overwritten whether we have a\n",
              "  specific estimator or a Pipeline/ColumnTransformer */\n",
              "  background-color: var(--sklearn-color-background);\n",
              "}\n",
              "\n",
              "/* Toggleable label */\n",
              "#sk-container-id-6 label.sk-toggleable__label {\n",
              "  cursor: pointer;\n",
              "  display: block;\n",
              "  width: 100%;\n",
              "  margin-bottom: 0;\n",
              "  padding: 0.5em;\n",
              "  box-sizing: border-box;\n",
              "  text-align: center;\n",
              "}\n",
              "\n",
              "#sk-container-id-6 label.sk-toggleable__label-arrow:before {\n",
              "  /* Arrow on the left of the label */\n",
              "  content: \"▸\";\n",
              "  float: left;\n",
              "  margin-right: 0.25em;\n",
              "  color: var(--sklearn-color-icon);\n",
              "}\n",
              "\n",
              "#sk-container-id-6 label.sk-toggleable__label-arrow:hover:before {\n",
              "  color: var(--sklearn-color-text);\n",
              "}\n",
              "\n",
              "/* Toggleable content - dropdown */\n",
              "\n",
              "#sk-container-id-6 div.sk-toggleable__content {\n",
              "  max-height: 0;\n",
              "  max-width: 0;\n",
              "  overflow: hidden;\n",
              "  text-align: left;\n",
              "  /* unfitted */\n",
              "  background-color: var(--sklearn-color-unfitted-level-0);\n",
              "}\n",
              "\n",
              "#sk-container-id-6 div.sk-toggleable__content.fitted {\n",
              "  /* fitted */\n",
              "  background-color: var(--sklearn-color-fitted-level-0);\n",
              "}\n",
              "\n",
              "#sk-container-id-6 div.sk-toggleable__content pre {\n",
              "  margin: 0.2em;\n",
              "  border-radius: 0.25em;\n",
              "  color: var(--sklearn-color-text);\n",
              "  /* unfitted */\n",
              "  background-color: var(--sklearn-color-unfitted-level-0);\n",
              "}\n",
              "\n",
              "#sk-container-id-6 div.sk-toggleable__content.fitted pre {\n",
              "  /* unfitted */\n",
              "  background-color: var(--sklearn-color-fitted-level-0);\n",
              "}\n",
              "\n",
              "#sk-container-id-6 input.sk-toggleable__control:checked~div.sk-toggleable__content {\n",
              "  /* Expand drop-down */\n",
              "  max-height: 200px;\n",
              "  max-width: 100%;\n",
              "  overflow: auto;\n",
              "}\n",
              "\n",
              "#sk-container-id-6 input.sk-toggleable__control:checked~label.sk-toggleable__label-arrow:before {\n",
              "  content: \"▾\";\n",
              "}\n",
              "\n",
              "/* Pipeline/ColumnTransformer-specific style */\n",
              "\n",
              "#sk-container-id-6 div.sk-label input.sk-toggleable__control:checked~label.sk-toggleable__label {\n",
              "  color: var(--sklearn-color-text);\n",
              "  background-color: var(--sklearn-color-unfitted-level-2);\n",
              "}\n",
              "\n",
              "#sk-container-id-6 div.sk-label.fitted input.sk-toggleable__control:checked~label.sk-toggleable__label {\n",
              "  background-color: var(--sklearn-color-fitted-level-2);\n",
              "}\n",
              "\n",
              "/* Estimator-specific style */\n",
              "\n",
              "/* Colorize estimator box */\n",
              "#sk-container-id-6 div.sk-estimator input.sk-toggleable__control:checked~label.sk-toggleable__label {\n",
              "  /* unfitted */\n",
              "  background-color: var(--sklearn-color-unfitted-level-2);\n",
              "}\n",
              "\n",
              "#sk-container-id-6 div.sk-estimator.fitted input.sk-toggleable__control:checked~label.sk-toggleable__label {\n",
              "  /* fitted */\n",
              "  background-color: var(--sklearn-color-fitted-level-2);\n",
              "}\n",
              "\n",
              "#sk-container-id-6 div.sk-label label.sk-toggleable__label,\n",
              "#sk-container-id-6 div.sk-label label {\n",
              "  /* The background is the default theme color */\n",
              "  color: var(--sklearn-color-text-on-default-background);\n",
              "}\n",
              "\n",
              "/* On hover, darken the color of the background */\n",
              "#sk-container-id-6 div.sk-label:hover label.sk-toggleable__label {\n",
              "  color: var(--sklearn-color-text);\n",
              "  background-color: var(--sklearn-color-unfitted-level-2);\n",
              "}\n",
              "\n",
              "/* Label box, darken color on hover, fitted */\n",
              "#sk-container-id-6 div.sk-label.fitted:hover label.sk-toggleable__label.fitted {\n",
              "  color: var(--sklearn-color-text);\n",
              "  background-color: var(--sklearn-color-fitted-level-2);\n",
              "}\n",
              "\n",
              "/* Estimator label */\n",
              "\n",
              "#sk-container-id-6 div.sk-label label {\n",
              "  font-family: monospace;\n",
              "  font-weight: bold;\n",
              "  display: inline-block;\n",
              "  line-height: 1.2em;\n",
              "}\n",
              "\n",
              "#sk-container-id-6 div.sk-label-container {\n",
              "  text-align: center;\n",
              "}\n",
              "\n",
              "/* Estimator-specific */\n",
              "#sk-container-id-6 div.sk-estimator {\n",
              "  font-family: monospace;\n",
              "  border: 1px dotted var(--sklearn-color-border-box);\n",
              "  border-radius: 0.25em;\n",
              "  box-sizing: border-box;\n",
              "  margin-bottom: 0.5em;\n",
              "  /* unfitted */\n",
              "  background-color: var(--sklearn-color-unfitted-level-0);\n",
              "}\n",
              "\n",
              "#sk-container-id-6 div.sk-estimator.fitted {\n",
              "  /* fitted */\n",
              "  background-color: var(--sklearn-color-fitted-level-0);\n",
              "}\n",
              "\n",
              "/* on hover */\n",
              "#sk-container-id-6 div.sk-estimator:hover {\n",
              "  /* unfitted */\n",
              "  background-color: var(--sklearn-color-unfitted-level-2);\n",
              "}\n",
              "\n",
              "#sk-container-id-6 div.sk-estimator.fitted:hover {\n",
              "  /* fitted */\n",
              "  background-color: var(--sklearn-color-fitted-level-2);\n",
              "}\n",
              "\n",
              "/* Specification for estimator info (e.g. \"i\" and \"?\") */\n",
              "\n",
              "/* Common style for \"i\" and \"?\" */\n",
              "\n",
              ".sk-estimator-doc-link,\n",
              "a:link.sk-estimator-doc-link,\n",
              "a:visited.sk-estimator-doc-link {\n",
              "  float: right;\n",
              "  font-size: smaller;\n",
              "  line-height: 1em;\n",
              "  font-family: monospace;\n",
              "  background-color: var(--sklearn-color-background);\n",
              "  border-radius: 1em;\n",
              "  height: 1em;\n",
              "  width: 1em;\n",
              "  text-decoration: none !important;\n",
              "  margin-left: 1ex;\n",
              "  /* unfitted */\n",
              "  border: var(--sklearn-color-unfitted-level-1) 1pt solid;\n",
              "  color: var(--sklearn-color-unfitted-level-1);\n",
              "}\n",
              "\n",
              ".sk-estimator-doc-link.fitted,\n",
              "a:link.sk-estimator-doc-link.fitted,\n",
              "a:visited.sk-estimator-doc-link.fitted {\n",
              "  /* fitted */\n",
              "  border: var(--sklearn-color-fitted-level-1) 1pt solid;\n",
              "  color: var(--sklearn-color-fitted-level-1);\n",
              "}\n",
              "\n",
              "/* On hover */\n",
              "div.sk-estimator:hover .sk-estimator-doc-link:hover,\n",
              ".sk-estimator-doc-link:hover,\n",
              "div.sk-label-container:hover .sk-estimator-doc-link:hover,\n",
              ".sk-estimator-doc-link:hover {\n",
              "  /* unfitted */\n",
              "  background-color: var(--sklearn-color-unfitted-level-3);\n",
              "  color: var(--sklearn-color-background);\n",
              "  text-decoration: none;\n",
              "}\n",
              "\n",
              "div.sk-estimator.fitted:hover .sk-estimator-doc-link.fitted:hover,\n",
              ".sk-estimator-doc-link.fitted:hover,\n",
              "div.sk-label-container:hover .sk-estimator-doc-link.fitted:hover,\n",
              ".sk-estimator-doc-link.fitted:hover {\n",
              "  /* fitted */\n",
              "  background-color: var(--sklearn-color-fitted-level-3);\n",
              "  color: var(--sklearn-color-background);\n",
              "  text-decoration: none;\n",
              "}\n",
              "\n",
              "/* Span, style for the box shown on hovering the info icon */\n",
              ".sk-estimator-doc-link span {\n",
              "  display: none;\n",
              "  z-index: 9999;\n",
              "  position: relative;\n",
              "  font-weight: normal;\n",
              "  right: .2ex;\n",
              "  padding: .5ex;\n",
              "  margin: .5ex;\n",
              "  width: min-content;\n",
              "  min-width: 20ex;\n",
              "  max-width: 50ex;\n",
              "  color: var(--sklearn-color-text);\n",
              "  box-shadow: 2pt 2pt 4pt #999;\n",
              "  /* unfitted */\n",
              "  background: var(--sklearn-color-unfitted-level-0);\n",
              "  border: .5pt solid var(--sklearn-color-unfitted-level-3);\n",
              "}\n",
              "\n",
              ".sk-estimator-doc-link.fitted span {\n",
              "  /* fitted */\n",
              "  background: var(--sklearn-color-fitted-level-0);\n",
              "  border: var(--sklearn-color-fitted-level-3);\n",
              "}\n",
              "\n",
              ".sk-estimator-doc-link:hover span {\n",
              "  display: block;\n",
              "}\n",
              "\n",
              "/* \"?\"-specific style due to the `<a>` HTML tag */\n",
              "\n",
              "#sk-container-id-6 a.estimator_doc_link {\n",
              "  float: right;\n",
              "  font-size: 1rem;\n",
              "  line-height: 1em;\n",
              "  font-family: monospace;\n",
              "  background-color: var(--sklearn-color-background);\n",
              "  border-radius: 1rem;\n",
              "  height: 1rem;\n",
              "  width: 1rem;\n",
              "  text-decoration: none;\n",
              "  /* unfitted */\n",
              "  color: var(--sklearn-color-unfitted-level-1);\n",
              "  border: var(--sklearn-color-unfitted-level-1) 1pt solid;\n",
              "}\n",
              "\n",
              "#sk-container-id-6 a.estimator_doc_link.fitted {\n",
              "  /* fitted */\n",
              "  border: var(--sklearn-color-fitted-level-1) 1pt solid;\n",
              "  color: var(--sklearn-color-fitted-level-1);\n",
              "}\n",
              "\n",
              "/* On hover */\n",
              "#sk-container-id-6 a.estimator_doc_link:hover {\n",
              "  /* unfitted */\n",
              "  background-color: var(--sklearn-color-unfitted-level-3);\n",
              "  color: var(--sklearn-color-background);\n",
              "  text-decoration: none;\n",
              "}\n",
              "\n",
              "#sk-container-id-6 a.estimator_doc_link.fitted:hover {\n",
              "  /* fitted */\n",
              "  background-color: var(--sklearn-color-fitted-level-3);\n",
              "}\n",
              "</style><div id=\"sk-container-id-6\" class=\"sk-top-container\"><div class=\"sk-text-repr-fallback\"><pre>DecisionTreeClassifier(class_weight=&#x27;balanced&#x27;, max_depth=8,\n",
              "                       min_samples_leaf=10, min_samples_split=8,\n",
              "                       random_state=42)</pre><b>In a Jupyter environment, please rerun this cell to show the HTML representation or trust the notebook. <br />On GitHub, the HTML representation is unable to render, please try loading this page with nbviewer.org.</b></div><div class=\"sk-container\" hidden><div class=\"sk-item\"><div class=\"sk-estimator fitted sk-toggleable\"><input class=\"sk-toggleable__control sk-hidden--visually\" id=\"sk-estimator-id-6\" type=\"checkbox\" checked><label for=\"sk-estimator-id-6\" class=\"sk-toggleable__label fitted sk-toggleable__label-arrow fitted\">&nbsp;&nbsp;DecisionTreeClassifier<a class=\"sk-estimator-doc-link fitted\" rel=\"noreferrer\" target=\"_blank\" href=\"https://scikit-learn.org/1.5/modules/generated/sklearn.tree.DecisionTreeClassifier.html\">?<span>Documentation for DecisionTreeClassifier</span></a><span class=\"sk-estimator-doc-link fitted\">i<span>Fitted</span></span></label><div class=\"sk-toggleable__content fitted\"><pre>DecisionTreeClassifier(class_weight=&#x27;balanced&#x27;, max_depth=8,\n",
              "                       min_samples_leaf=10, min_samples_split=8,\n",
              "                       random_state=42)</pre></div> </div></div></div></div>"
            ]
          },
          "metadata": {},
          "execution_count": 457
        }
      ],
      "source": [
        "best_params = study.best_params\n",
        "dt_model = DecisionTreeClassifier(\n",
        "    max_depth=best_params['max_depth'],\n",
        "    min_samples_split=best_params['min_samples_split'],\n",
        "    min_samples_leaf=best_params['min_samples_leaf'],\n",
        "    criterion=best_params['criterion'],\n",
        "    class_weight='balanced',\n",
        "    random_state=42\n",
        ")\n",
        "\n",
        "dt_model.fit(X_train, y_train)"
      ]
    },
    {
      "cell_type": "code",
      "execution_count": 458,
      "metadata": {
        "id": "WsPw_LGlULFL",
        "outputId": "021ed30d-e647-4f88-b497-882d7945daff",
        "colab": {
          "base_uri": "https://localhost:8080/"
        }
      },
      "outputs": [
        {
          "output_type": "stream",
          "name": "stdout",
          "text": [
            "Train Set:\n",
            "Confusion Matrix:\n",
            "[[ 2166   739]\n",
            " [ 4335 13376]]\n",
            "\n",
            "Classification Report:\n",
            "              precision    recall  f1-score   support\n",
            "\n",
            "           0       0.33      0.75      0.46      2905\n",
            "           1       0.95      0.76      0.84     17711\n",
            "\n",
            "    accuracy                           0.75     20616\n",
            "   macro avg       0.64      0.75      0.65     20616\n",
            "weighted avg       0.86      0.75      0.79     20616\n",
            "\n"
          ]
        }
      ],
      "source": [
        "y_train_pred = dt_model.predict(X_train)\n",
        "print(\"Train Set:\")\n",
        "print(\"Confusion Matrix:\")\n",
        "print(confusion_matrix(y_train, y_train_pred))\n",
        "print(\"\\nClassification Report:\")\n",
        "print(classification_report(y_train, y_train_pred))"
      ]
    },
    {
      "cell_type": "code",
      "execution_count": 459,
      "metadata": {
        "id": "pRoJkKxIULFL",
        "outputId": "753d5802-a92d-4a42-8a64-dbf3db677322",
        "colab": {
          "base_uri": "https://localhost:8080/"
        }
      },
      "outputs": [
        {
          "output_type": "stream",
          "name": "stdout",
          "text": [
            "\n",
            "Classification Report:\n",
            "              precision    recall  f1-score   support\n",
            "\n",
            "           0       0.28      0.64      0.39       720\n",
            "           1       0.93      0.74      0.82      4434\n",
            "\n",
            "    accuracy                           0.72      5154\n",
            "   macro avg       0.61      0.69      0.61      5154\n",
            "weighted avg       0.84      0.72      0.76      5154\n",
            "\n",
            "\n",
            "Accuracy Score:\n",
            "0.7246798603026775\n",
            "ROC AUC Score:\n",
            "0.6887498120583371\n",
            "\n",
            "Classification Report:\n",
            "              precision    recall  f1-score   support\n",
            "\n",
            "           0       0.29      0.65      0.40      1563\n",
            "           1       0.93      0.74      0.82      9482\n",
            "\n",
            "    accuracy                           0.72     11045\n",
            "   macro avg       0.61      0.69      0.61     11045\n",
            "weighted avg       0.84      0.72      0.76     11045\n",
            "\n",
            "\n",
            "Accuracy Score:\n",
            "0.7248528746038931\n",
            "ROC AUC Score:\n",
            "0.6936091186951794\n"
          ]
        }
      ],
      "source": [
        "# Predict on the validation set\n",
        "y_val_pred=dt_model.predict(X_val)\n",
        "print(\"\\nClassification Report:\")\n",
        "print(classification_report(y_val, y_val_pred))\n",
        "print(\"\\nAccuracy Score:\")\n",
        "print(accuracy_score(y_val, y_val_pred))\n",
        "print(\"ROC AUC Score:\")\n",
        "print(roc_auc_score(y_val, y_val_pred))\n",
        "# Predict on the test set\n",
        "y_test_pred = dt_model.predict(X_test)\n",
        "print(\"\\nClassification Report:\")\n",
        "print(classification_report(y_test, y_test_pred))\n",
        "print(\"\\nAccuracy Score:\")\n",
        "print(accuracy_score(y_test, y_test_pred))\n",
        "print(\"ROC AUC Score:\")\n",
        "print(roc_auc_score(y_test, y_test_pred))\n"
      ]
    },
    {
      "cell_type": "markdown",
      "metadata": {
        "id": "pPOO1a7kULFM"
      },
      "source": [
        "Feature Selection"
      ]
    },
    {
      "cell_type": "code",
      "execution_count": 460,
      "metadata": {
        "id": "jv8IAEXtULFM",
        "outputId": "b09106d1-6757-4c65-9ea8-d98558a09b9d",
        "colab": {
          "base_uri": "https://localhost:8080/"
        }
      },
      "outputs": [
        {
          "output_type": "stream",
          "name": "stdout",
          "text": [
            "Feature Importances:\n",
            "               Feature  Importance\n",
            "30        last_pymnt_d    0.339652\n",
            "31  last_credit_pull_d    0.242848\n",
            "22           sub_grade    0.143824\n",
            "21                term    0.123114\n",
            "19     last_pymnt_amnt    0.017597\n",
            "28            zip_code    0.017541\n",
            "2             int_rate    0.014219\n",
            "5                  dti    0.012111\n",
            "29    earliest_cr_line    0.011309\n",
            "23           emp_title    0.010401\n",
            "11          revol_util    0.008786\n",
            "24      home_ownership    0.007826\n",
            "1          funded_amnt    0.005974\n",
            "12           total_acc    0.005922\n",
            "4           annual_inc    0.005896\n",
            "10           revol_bal    0.005594\n",
            "26             purpose    0.004202\n",
            "13         total_pymnt    0.004200\n",
            "14     total_rec_prncp    0.003822\n",
            "8             open_acc    0.003652\n"
          ]
        }
      ],
      "source": [
        "# Lấy trọng số của từng feature\n",
        "feature_importances = pd.DataFrame({\n",
        "    'Feature': X_train.columns,\n",
        "    'Importance': dt_model.feature_importances_\n",
        "}).sort_values(by='Importance', ascending=False)\n",
        "# Hiển thị các đặc trưng quan trọng\n",
        "print(\"Feature Importances:\")\n",
        "print(feature_importances.head(20))\n"
      ]
    },
    {
      "cell_type": "code",
      "execution_count": 461,
      "metadata": {
        "id": "pZ2LSHJPULFN",
        "outputId": "c61fc08b-12e1-4735-a295-4bc57edb7533",
        "colab": {
          "base_uri": "https://localhost:8080/",
          "height": 175
        }
      },
      "outputs": [
        {
          "output_type": "execute_result",
          "data": {
            "text/plain": [
              "               Feature  Importance\n",
              "30        last_pymnt_d    0.339652\n",
              "31  last_credit_pull_d    0.242848\n",
              "22           sub_grade    0.143824\n",
              "21                term    0.123114"
            ],
            "text/html": [
              "\n",
              "  <div id=\"df-b3d91ced-51bd-4806-bdbc-f624b4ec6a86\" class=\"colab-df-container\">\n",
              "    <div>\n",
              "<style scoped>\n",
              "    .dataframe tbody tr th:only-of-type {\n",
              "        vertical-align: middle;\n",
              "    }\n",
              "\n",
              "    .dataframe tbody tr th {\n",
              "        vertical-align: top;\n",
              "    }\n",
              "\n",
              "    .dataframe thead th {\n",
              "        text-align: right;\n",
              "    }\n",
              "</style>\n",
              "<table border=\"1\" class=\"dataframe\">\n",
              "  <thead>\n",
              "    <tr style=\"text-align: right;\">\n",
              "      <th></th>\n",
              "      <th>Feature</th>\n",
              "      <th>Importance</th>\n",
              "    </tr>\n",
              "  </thead>\n",
              "  <tbody>\n",
              "    <tr>\n",
              "      <th>30</th>\n",
              "      <td>last_pymnt_d</td>\n",
              "      <td>0.339652</td>\n",
              "    </tr>\n",
              "    <tr>\n",
              "      <th>31</th>\n",
              "      <td>last_credit_pull_d</td>\n",
              "      <td>0.242848</td>\n",
              "    </tr>\n",
              "    <tr>\n",
              "      <th>22</th>\n",
              "      <td>sub_grade</td>\n",
              "      <td>0.143824</td>\n",
              "    </tr>\n",
              "    <tr>\n",
              "      <th>21</th>\n",
              "      <td>term</td>\n",
              "      <td>0.123114</td>\n",
              "    </tr>\n",
              "  </tbody>\n",
              "</table>\n",
              "</div>\n",
              "    <div class=\"colab-df-buttons\">\n",
              "\n",
              "  <div class=\"colab-df-container\">\n",
              "    <button class=\"colab-df-convert\" onclick=\"convertToInteractive('df-b3d91ced-51bd-4806-bdbc-f624b4ec6a86')\"\n",
              "            title=\"Convert this dataframe to an interactive table.\"\n",
              "            style=\"display:none;\">\n",
              "\n",
              "  <svg xmlns=\"http://www.w3.org/2000/svg\" height=\"24px\" viewBox=\"0 -960 960 960\">\n",
              "    <path d=\"M120-120v-720h720v720H120Zm60-500h600v-160H180v160Zm220 220h160v-160H400v160Zm0 220h160v-160H400v160ZM180-400h160v-160H180v160Zm440 0h160v-160H620v160ZM180-180h160v-160H180v160Zm440 0h160v-160H620v160Z\"/>\n",
              "  </svg>\n",
              "    </button>\n",
              "\n",
              "  <style>\n",
              "    .colab-df-container {\n",
              "      display:flex;\n",
              "      gap: 12px;\n",
              "    }\n",
              "\n",
              "    .colab-df-convert {\n",
              "      background-color: #E8F0FE;\n",
              "      border: none;\n",
              "      border-radius: 50%;\n",
              "      cursor: pointer;\n",
              "      display: none;\n",
              "      fill: #1967D2;\n",
              "      height: 32px;\n",
              "      padding: 0 0 0 0;\n",
              "      width: 32px;\n",
              "    }\n",
              "\n",
              "    .colab-df-convert:hover {\n",
              "      background-color: #E2EBFA;\n",
              "      box-shadow: 0px 1px 2px rgba(60, 64, 67, 0.3), 0px 1px 3px 1px rgba(60, 64, 67, 0.15);\n",
              "      fill: #174EA6;\n",
              "    }\n",
              "\n",
              "    .colab-df-buttons div {\n",
              "      margin-bottom: 4px;\n",
              "    }\n",
              "\n",
              "    [theme=dark] .colab-df-convert {\n",
              "      background-color: #3B4455;\n",
              "      fill: #D2E3FC;\n",
              "    }\n",
              "\n",
              "    [theme=dark] .colab-df-convert:hover {\n",
              "      background-color: #434B5C;\n",
              "      box-shadow: 0px 1px 3px 1px rgba(0, 0, 0, 0.15);\n",
              "      filter: drop-shadow(0px 1px 2px rgba(0, 0, 0, 0.3));\n",
              "      fill: #FFFFFF;\n",
              "    }\n",
              "  </style>\n",
              "\n",
              "    <script>\n",
              "      const buttonEl =\n",
              "        document.querySelector('#df-b3d91ced-51bd-4806-bdbc-f624b4ec6a86 button.colab-df-convert');\n",
              "      buttonEl.style.display =\n",
              "        google.colab.kernel.accessAllowed ? 'block' : 'none';\n",
              "\n",
              "      async function convertToInteractive(key) {\n",
              "        const element = document.querySelector('#df-b3d91ced-51bd-4806-bdbc-f624b4ec6a86');\n",
              "        const dataTable =\n",
              "          await google.colab.kernel.invokeFunction('convertToInteractive',\n",
              "                                                    [key], {});\n",
              "        if (!dataTable) return;\n",
              "\n",
              "        const docLinkHtml = 'Like what you see? Visit the ' +\n",
              "          '<a target=\"_blank\" href=https://colab.research.google.com/notebooks/data_table.ipynb>data table notebook</a>'\n",
              "          + ' to learn more about interactive tables.';\n",
              "        element.innerHTML = '';\n",
              "        dataTable['output_type'] = 'display_data';\n",
              "        await google.colab.output.renderOutput(dataTable, element);\n",
              "        const docLink = document.createElement('div');\n",
              "        docLink.innerHTML = docLinkHtml;\n",
              "        element.appendChild(docLink);\n",
              "      }\n",
              "    </script>\n",
              "  </div>\n",
              "\n",
              "\n",
              "<div id=\"df-a1196696-53cc-4506-b96c-9740d87e3542\">\n",
              "  <button class=\"colab-df-quickchart\" onclick=\"quickchart('df-a1196696-53cc-4506-b96c-9740d87e3542')\"\n",
              "            title=\"Suggest charts\"\n",
              "            style=\"display:none;\">\n",
              "\n",
              "<svg xmlns=\"http://www.w3.org/2000/svg\" height=\"24px\"viewBox=\"0 0 24 24\"\n",
              "     width=\"24px\">\n",
              "    <g>\n",
              "        <path d=\"M19 3H5c-1.1 0-2 .9-2 2v14c0 1.1.9 2 2 2h14c1.1 0 2-.9 2-2V5c0-1.1-.9-2-2-2zM9 17H7v-7h2v7zm4 0h-2V7h2v10zm4 0h-2v-4h2v4z\"/>\n",
              "    </g>\n",
              "</svg>\n",
              "  </button>\n",
              "\n",
              "<style>\n",
              "  .colab-df-quickchart {\n",
              "      --bg-color: #E8F0FE;\n",
              "      --fill-color: #1967D2;\n",
              "      --hover-bg-color: #E2EBFA;\n",
              "      --hover-fill-color: #174EA6;\n",
              "      --disabled-fill-color: #AAA;\n",
              "      --disabled-bg-color: #DDD;\n",
              "  }\n",
              "\n",
              "  [theme=dark] .colab-df-quickchart {\n",
              "      --bg-color: #3B4455;\n",
              "      --fill-color: #D2E3FC;\n",
              "      --hover-bg-color: #434B5C;\n",
              "      --hover-fill-color: #FFFFFF;\n",
              "      --disabled-bg-color: #3B4455;\n",
              "      --disabled-fill-color: #666;\n",
              "  }\n",
              "\n",
              "  .colab-df-quickchart {\n",
              "    background-color: var(--bg-color);\n",
              "    border: none;\n",
              "    border-radius: 50%;\n",
              "    cursor: pointer;\n",
              "    display: none;\n",
              "    fill: var(--fill-color);\n",
              "    height: 32px;\n",
              "    padding: 0;\n",
              "    width: 32px;\n",
              "  }\n",
              "\n",
              "  .colab-df-quickchart:hover {\n",
              "    background-color: var(--hover-bg-color);\n",
              "    box-shadow: 0 1px 2px rgba(60, 64, 67, 0.3), 0 1px 3px 1px rgba(60, 64, 67, 0.15);\n",
              "    fill: var(--button-hover-fill-color);\n",
              "  }\n",
              "\n",
              "  .colab-df-quickchart-complete:disabled,\n",
              "  .colab-df-quickchart-complete:disabled:hover {\n",
              "    background-color: var(--disabled-bg-color);\n",
              "    fill: var(--disabled-fill-color);\n",
              "    box-shadow: none;\n",
              "  }\n",
              "\n",
              "  .colab-df-spinner {\n",
              "    border: 2px solid var(--fill-color);\n",
              "    border-color: transparent;\n",
              "    border-bottom-color: var(--fill-color);\n",
              "    animation:\n",
              "      spin 1s steps(1) infinite;\n",
              "  }\n",
              "\n",
              "  @keyframes spin {\n",
              "    0% {\n",
              "      border-color: transparent;\n",
              "      border-bottom-color: var(--fill-color);\n",
              "      border-left-color: var(--fill-color);\n",
              "    }\n",
              "    20% {\n",
              "      border-color: transparent;\n",
              "      border-left-color: var(--fill-color);\n",
              "      border-top-color: var(--fill-color);\n",
              "    }\n",
              "    30% {\n",
              "      border-color: transparent;\n",
              "      border-left-color: var(--fill-color);\n",
              "      border-top-color: var(--fill-color);\n",
              "      border-right-color: var(--fill-color);\n",
              "    }\n",
              "    40% {\n",
              "      border-color: transparent;\n",
              "      border-right-color: var(--fill-color);\n",
              "      border-top-color: var(--fill-color);\n",
              "    }\n",
              "    60% {\n",
              "      border-color: transparent;\n",
              "      border-right-color: var(--fill-color);\n",
              "    }\n",
              "    80% {\n",
              "      border-color: transparent;\n",
              "      border-right-color: var(--fill-color);\n",
              "      border-bottom-color: var(--fill-color);\n",
              "    }\n",
              "    90% {\n",
              "      border-color: transparent;\n",
              "      border-bottom-color: var(--fill-color);\n",
              "    }\n",
              "  }\n",
              "</style>\n",
              "\n",
              "  <script>\n",
              "    async function quickchart(key) {\n",
              "      const quickchartButtonEl =\n",
              "        document.querySelector('#' + key + ' button');\n",
              "      quickchartButtonEl.disabled = true;  // To prevent multiple clicks.\n",
              "      quickchartButtonEl.classList.add('colab-df-spinner');\n",
              "      try {\n",
              "        const charts = await google.colab.kernel.invokeFunction(\n",
              "            'suggestCharts', [key], {});\n",
              "      } catch (error) {\n",
              "        console.error('Error during call to suggestCharts:', error);\n",
              "      }\n",
              "      quickchartButtonEl.classList.remove('colab-df-spinner');\n",
              "      quickchartButtonEl.classList.add('colab-df-quickchart-complete');\n",
              "    }\n",
              "    (() => {\n",
              "      let quickchartButtonEl =\n",
              "        document.querySelector('#df-a1196696-53cc-4506-b96c-9740d87e3542 button');\n",
              "      quickchartButtonEl.style.display =\n",
              "        google.colab.kernel.accessAllowed ? 'block' : 'none';\n",
              "    })();\n",
              "  </script>\n",
              "</div>\n",
              "\n",
              "  <div id=\"id_ebbde977-446c-4c04-92da-36ebad7cb785\">\n",
              "    <style>\n",
              "      .colab-df-generate {\n",
              "        background-color: #E8F0FE;\n",
              "        border: none;\n",
              "        border-radius: 50%;\n",
              "        cursor: pointer;\n",
              "        display: none;\n",
              "        fill: #1967D2;\n",
              "        height: 32px;\n",
              "        padding: 0 0 0 0;\n",
              "        width: 32px;\n",
              "      }\n",
              "\n",
              "      .colab-df-generate:hover {\n",
              "        background-color: #E2EBFA;\n",
              "        box-shadow: 0px 1px 2px rgba(60, 64, 67, 0.3), 0px 1px 3px 1px rgba(60, 64, 67, 0.15);\n",
              "        fill: #174EA6;\n",
              "      }\n",
              "\n",
              "      [theme=dark] .colab-df-generate {\n",
              "        background-color: #3B4455;\n",
              "        fill: #D2E3FC;\n",
              "      }\n",
              "\n",
              "      [theme=dark] .colab-df-generate:hover {\n",
              "        background-color: #434B5C;\n",
              "        box-shadow: 0px 1px 3px 1px rgba(0, 0, 0, 0.15);\n",
              "        filter: drop-shadow(0px 1px 2px rgba(0, 0, 0, 0.3));\n",
              "        fill: #FFFFFF;\n",
              "      }\n",
              "    </style>\n",
              "    <button class=\"colab-df-generate\" onclick=\"generateWithVariable('selected_features')\"\n",
              "            title=\"Generate code using this dataframe.\"\n",
              "            style=\"display:none;\">\n",
              "\n",
              "  <svg xmlns=\"http://www.w3.org/2000/svg\" height=\"24px\"viewBox=\"0 0 24 24\"\n",
              "       width=\"24px\">\n",
              "    <path d=\"M7,19H8.4L18.45,9,17,7.55,7,17.6ZM5,21V16.75L18.45,3.32a2,2,0,0,1,2.83,0l1.4,1.43a1.91,1.91,0,0,1,.58,1.4,1.91,1.91,0,0,1-.58,1.4L9.25,21ZM18.45,9,17,7.55Zm-12,3A5.31,5.31,0,0,0,4.9,8.1,5.31,5.31,0,0,0,1,6.5,5.31,5.31,0,0,0,4.9,4.9,5.31,5.31,0,0,0,6.5,1,5.31,5.31,0,0,0,8.1,4.9,5.31,5.31,0,0,0,12,6.5,5.46,5.46,0,0,0,6.5,12Z\"/>\n",
              "  </svg>\n",
              "    </button>\n",
              "    <script>\n",
              "      (() => {\n",
              "      const buttonEl =\n",
              "        document.querySelector('#id_ebbde977-446c-4c04-92da-36ebad7cb785 button.colab-df-generate');\n",
              "      buttonEl.style.display =\n",
              "        google.colab.kernel.accessAllowed ? 'block' : 'none';\n",
              "\n",
              "      buttonEl.onclick = () => {\n",
              "        google.colab.notebook.generateWithVariable('selected_features');\n",
              "      }\n",
              "      })();\n",
              "    </script>\n",
              "  </div>\n",
              "\n",
              "    </div>\n",
              "  </div>\n"
            ],
            "application/vnd.google.colaboratory.intrinsic+json": {
              "type": "dataframe",
              "variable_name": "selected_features",
              "summary": "{\n  \"name\": \"selected_features\",\n  \"rows\": 4,\n  \"fields\": [\n    {\n      \"column\": \"Feature\",\n      \"properties\": {\n        \"dtype\": \"string\",\n        \"num_unique_values\": 4,\n        \"samples\": [\n          \"last_credit_pull_d\",\n          \"term\",\n          \"last_pymnt_d\"\n        ],\n        \"semantic_type\": \"\",\n        \"description\": \"\"\n      }\n    },\n    {\n      \"column\": \"Importance\",\n      \"properties\": {\n        \"dtype\": \"number\",\n        \"std\": 0.09965732748240053,\n        \"min\": 0.12311379893270528,\n        \"max\": 0.3396517565772119,\n        \"num_unique_values\": 4,\n        \"samples\": [\n          0.2428475023543726,\n          0.12311379893270528,\n          0.3396517565772119\n        ],\n        \"semantic_type\": \"\",\n        \"description\": \"\"\n      }\n    }\n  ]\n}"
            }
          },
          "metadata": {},
          "execution_count": 461
        }
      ],
      "source": [
        "threshold =0.03\n",
        "selected_features = feature_importances[feature_importances['Importance'] > threshold]\n",
        "selected_features"
      ]
    },
    {
      "cell_type": "code",
      "source": [
        "X_val_selected_dict = {}"
      ],
      "metadata": {
        "id": "rYmtEB41kq04"
      },
      "execution_count": 465,
      "outputs": []
    },
    {
      "cell_type": "code",
      "execution_count": 463,
      "metadata": {
        "id": "9v8Nl0XMULFN",
        "outputId": "8af9e7d0-1046-4e3b-ca3d-ccb1f5da2f60",
        "colab": {
          "base_uri": "https://localhost:8080/"
        }
      },
      "outputs": [
        {
          "output_type": "stream",
          "name": "stdout",
          "text": [
            "Index(['last_pymnt_d', 'last_credit_pull_d', 'sub_grade', 'term'], dtype='object')\n"
          ]
        }
      ],
      "source": [
        "# Lấy danh sách các feature từ selected_features\n",
        "selected_feature_names = selected_features['Feature'].tolist()\n",
        "\n",
        "# Lọc X_train chỉ giữ lại các feature trong selected_feature_names\n",
        "X_train_selected = X_train[selected_feature_names]\n",
        "X_val_selected = X_val[selected_feature_names]\n",
        "X_test_selected = X_test[selected_feature_names]\n",
        "\n",
        "# Hiển thị các cột đã được chọn\n",
        "print(X_train_selected.columns)"
      ]
    },
    {
      "cell_type": "code",
      "source": [
        "X_val_selected_dict[\"decision tree\"] = X_val_selected"
      ],
      "metadata": {
        "id": "NMloQBITkXjK"
      },
      "execution_count": 466,
      "outputs": []
    },
    {
      "cell_type": "code",
      "execution_count": 467,
      "metadata": {
        "id": "VrYIoqJiULFO",
        "outputId": "1633d0a6-c858-48fb-f815-7bc1365899c0",
        "colab": {
          "base_uri": "https://localhost:8080/"
        }
      },
      "outputs": [
        {
          "output_type": "stream",
          "name": "stdout",
          "text": [
            "Confusion Matrix:\n",
            "[[ 479  241]\n",
            " [1043 3391]]\n",
            "\n",
            "Classification Report:\n",
            "              precision    recall  f1-score   support\n",
            "\n",
            "           0       0.31      0.67      0.43       720\n",
            "           1       0.93      0.76      0.84      4434\n",
            "\n",
            "    accuracy                           0.75      5154\n",
            "   macro avg       0.62      0.72      0.63      5154\n",
            "weighted avg       0.85      0.75      0.78      5154\n",
            "\n",
            "\n",
            "Accuracy Score:\n",
            "0.7508731082654249\n",
            "ROC AUC Score:\n",
            "0.7150249962411668\n"
          ]
        }
      ],
      "source": [
        "# Train the model\n",
        "dt_model.fit(X_train_selected, y_train)\n",
        "\n",
        "y_val_pred = dt_model.predict(X_val_selected)\n",
        "\n",
        "# Evaluate the model\n",
        "print(\"Confusion Matrix:\")\n",
        "print(confusion_matrix(y_val, y_val_pred))\n",
        "print(\"\\nClassification Report:\")\n",
        "print(classification_report(y_val, y_val_pred))\n",
        "print(\"\\nAccuracy Score:\")\n",
        "print(accuracy_score(y_val, y_val_pred))\n",
        "print(\"ROC AUC Score:\")\n",
        "print(roc_auc_score(y_val, y_val_pred))"
      ]
    },
    {
      "cell_type": "code",
      "execution_count": 468,
      "metadata": {
        "id": "HM258VsTULFP",
        "outputId": "aa5a4244-b87d-4bd5-ea25-cae6468de440",
        "colab": {
          "base_uri": "https://localhost:8080/"
        }
      },
      "outputs": [
        {
          "output_type": "stream",
          "name": "stdout",
          "text": [
            "Confusion Matrix:\n",
            "[[1072  491]\n",
            " [2284 7198]]\n",
            "\n",
            "Classification Report:\n",
            "              precision    recall  f1-score   support\n",
            "\n",
            "           0       0.32      0.69      0.44      1563\n",
            "           1       0.94      0.76      0.84      9482\n",
            "\n",
            "    accuracy                           0.75     11045\n",
            "   macro avg       0.63      0.72      0.64     11045\n",
            "weighted avg       0.85      0.75      0.78     11045\n",
            "\n",
            "\n",
            "Accuracy Score:\n",
            "0.7487550928021729\n",
            "ROC AUC Score:\n",
            "0.7224915363088873\n"
          ]
        }
      ],
      "source": [
        "y_test_pred = dt_model.predict(X_test_selected)\n",
        "\n",
        "# Evaluate the model\n",
        "print(\"Confusion Matrix:\")\n",
        "print(confusion_matrix(y_test, y_test_pred))\n",
        "print(\"\\nClassification Report:\")\n",
        "print(classification_report(y_test, y_test_pred))\n",
        "print(\"\\nAccuracy Score:\")\n",
        "print(accuracy_score(y_test, y_test_pred))\n",
        "print(\"ROC AUC Score:\")\n",
        "print(roc_auc_score(y_test, y_test_pred))"
      ]
    },
    {
      "cell_type": "markdown",
      "metadata": {
        "id": "efibcX-oULFP"
      },
      "source": [
        "Logistic Regression Model"
      ]
    },
    {
      "cell_type": "code",
      "execution_count": 497,
      "metadata": {
        "id": "NGadIWnJULFQ",
        "outputId": "38bd389e-de29-46de-ae13-5de272020a49",
        "colab": {
          "base_uri": "https://localhost:8080/"
        }
      },
      "outputs": [
        {
          "output_type": "stream",
          "name": "stdout",
          "text": [
            "Validation Set:\n",
            "Confusion Matrix:\n",
            "[[ 449  271]\n",
            " [1488 2946]]\n",
            "\n",
            "Classification Report:\n",
            "              precision    recall  f1-score   support\n",
            "\n",
            "           0       0.23      0.62      0.34       720\n",
            "           1       0.92      0.66      0.77      4434\n",
            "\n",
            "    accuracy                           0.66      5154\n",
            "   macro avg       0.57      0.64      0.55      5154\n",
            "weighted avg       0.82      0.66      0.71      5154\n",
            "\n",
            "\n",
            "Accuracy Score:\n",
            "0.6587116802483508\n",
            "ROC AUC Score:\n",
            "0.644011238911442\n"
          ]
        }
      ],
      "source": [
        "logistic_model = LogisticRegression(class_weight='balanced', random_state=42, penalty='l2', solver='liblinear')\n",
        "\n",
        "logistic_model.fit(X_train, y_train)\n",
        "\n",
        "y_val_pred = logistic_model.predict(X_val)\n",
        "print(\"Validation Set:\")\n",
        "print(\"Confusion Matrix:\")\n",
        "print(confusion_matrix(y_val, y_val_pred))\n",
        "print(\"\\nClassification Report:\")\n",
        "print(classification_report(y_val, y_val_pred))\n",
        "print(\"\\nAccuracy Score:\")\n",
        "print(accuracy_score(y_val, y_val_pred))\n",
        "print(\"ROC AUC Score:\")\n",
        "print(roc_auc_score(y_val, y_val_pred))"
      ]
    },
    {
      "cell_type": "markdown",
      "metadata": {
        "id": "0AdBmdQOULFQ"
      },
      "source": [
        "HyperTunning"
      ]
    },
    {
      "cell_type": "code",
      "execution_count": 498,
      "metadata": {
        "id": "X2IViqWjULFR"
      },
      "outputs": [],
      "source": [
        "param_grid = {\n",
        "    'penalty': ['l1', 'l2', 'elasticnet', 'none'],\n",
        "    'C': [0.01, 0.1, 1, 10, 100],\n",
        "    'solver': ['newton-cg', 'lbfgs', 'liblinear', 'sag', 'saga'],\n",
        "    'max_iter': [100, 200, 300],\n",
        "    'class_weight': ['balanced']\n",
        "}"
      ]
    },
    {
      "cell_type": "code",
      "execution_count": 499,
      "metadata": {
        "id": "TCyWHi6sULFR",
        "outputId": "4b7d101c-386d-4413-a4d8-121c3bdc53e4",
        "colab": {
          "base_uri": "https://localhost:8080/"
        }
      },
      "outputs": [
        {
          "output_type": "stream",
          "name": "stdout",
          "text": [
            "Best parameters found:  {'C': 0.1, 'class_weight': 'balanced', 'max_iter': 100, 'penalty': 'l1', 'solver': 'liblinear'}\n"
          ]
        }
      ],
      "source": [
        "# Tạo đối tượng LogisticRegression\n",
        "model = LogisticRegression()\n",
        "\n",
        "# Sử dụng GridSearchCV để tìm các tham số tốt nhất\n",
        "grid_search = GridSearchCV(estimator=model, param_grid=param_grid, scoring=make_scorer(recall_score,pos_label=0),cv=5, n_jobs=-1)\n",
        "\n",
        "# Huấn luyện mô hình\n",
        "grid_search.fit(X_train, y_train)\n",
        "\n",
        "# In ra các tham số tốt nhất\n",
        "print(\"Best parameters found: \", grid_search.best_params_)"
      ]
    },
    {
      "cell_type": "code",
      "execution_count": 500,
      "metadata": {
        "id": "DoN7BwC5ULFS",
        "outputId": "15353f5e-2918-4b7b-bd9a-fe1a6ec6f816",
        "colab": {
          "base_uri": "https://localhost:8080/"
        }
      },
      "outputs": [
        {
          "output_type": "stream",
          "name": "stdout",
          "text": [
            "Classification Report:\n",
            "              precision    recall  f1-score   support\n",
            "\n",
            "           0       0.24      0.61      0.34      1563\n",
            "           1       0.91      0.67      0.77      9482\n",
            "\n",
            "    accuracy                           0.66     11045\n",
            "   macro avg       0.57      0.64      0.56     11045\n",
            "weighted avg       0.82      0.66      0.71     11045\n",
            "\n",
            "Accuracy Score:\n",
            "0.6636487098234495\n",
            "ROC AUC Score:\n",
            "0.6427341605463724\n"
          ]
        }
      ],
      "source": [
        "# Dự đoán và đánh giá mô hình\n",
        "best_model = grid_search.best_estimator_\n",
        "y_pred = best_model.predict(X_test)\n",
        "\n",
        "print(\"Classification Report:\")\n",
        "print(classification_report(y_test, y_pred))\n",
        "print(\"Accuracy Score:\")\n",
        "print(accuracy_score(y_test, y_pred))\n",
        "print(\"ROC AUC Score:\")\n",
        "print(roc_auc_score(y_test, y_pred))"
      ]
    },
    {
      "cell_type": "code",
      "execution_count": 501,
      "metadata": {
        "id": "D6U4TxmFULFS",
        "outputId": "5f0450da-f351-4890-edd3-35726b8313f8",
        "colab": {
          "base_uri": "https://localhost:8080/"
        }
      },
      "outputs": [
        {
          "output_type": "stream",
          "name": "stdout",
          "text": [
            "Validation Set:\n",
            "Confusion Matrix:\n",
            "[[ 450  270]\n",
            " [1454 2980]]\n",
            "\n",
            "Classification Report:\n",
            "              precision    recall  f1-score   support\n",
            "\n",
            "           0       0.24      0.62      0.34       720\n",
            "           1       0.92      0.67      0.78      4434\n",
            "\n",
            "    accuracy                           0.67      5154\n",
            "   macro avg       0.58      0.65      0.56      5154\n",
            "weighted avg       0.82      0.67      0.72      5154\n",
            "\n",
            "\n",
            "Accuracy Score:\n",
            "0.6655025223127667\n",
            "ROC AUC Score:\n",
            "0.6485396932792062\n"
          ]
        }
      ],
      "source": [
        "y_val_pred = best_model.predict(X_val)\n",
        "\n",
        "# Evaluate the model\n",
        "print(\"Validation Set:\")\n",
        "print(\"Confusion Matrix:\")\n",
        "print(confusion_matrix(y_val, y_val_pred))\n",
        "print(\"\\nClassification Report:\")\n",
        "print(classification_report(y_val, y_val_pred))\n",
        "print(\"\\nAccuracy Score:\")\n",
        "print(accuracy_score(y_val, y_val_pred))\n",
        "print(\"ROC AUC Score:\")\n",
        "print(roc_auc_score(y_val, y_val_pred))"
      ]
    },
    {
      "cell_type": "markdown",
      "metadata": {
        "id": "wBP1MWL1ULFT"
      },
      "source": [
        "Feature Selection"
      ]
    },
    {
      "cell_type": "code",
      "execution_count": 502,
      "metadata": {
        "id": "0hX6LJ4HULFT",
        "outputId": "3ce57c0f-3ed1-48fb-d239-ffd931042029",
        "colab": {
          "base_uri": "https://localhost:8080/"
        }
      },
      "outputs": [
        {
          "output_type": "stream",
          "name": "stdout",
          "text": [
            "Feature Weights:\n",
            "                 Feature        Weight\n",
            "20  pub_rec_bankruptcies  1.951366e-02\n",
            "9                pub_rec  1.652549e-02\n",
            "16    total_rec_late_fee  4.271861e-03\n",
            "29      earliest_cr_line  1.351388e-03\n",
            "13           total_pymnt  1.094194e-03\n",
            "28              zip_code  7.620824e-04\n",
            "30          last_pymnt_d  4.590996e-04\n",
            "22             sub_grade  3.473815e-04\n",
            "21                  term  4.286423e-05\n",
            "0              loan_amnt  4.167881e-05\n",
            "27                 title  3.948270e-05\n",
            "19       last_pymnt_amnt  1.732480e-05\n",
            "10             revol_bal  3.783994e-06\n",
            "4             annual_inc  1.835264e-07\n",
            "26               purpose -5.587838e-06\n",
            "24        home_ownership -3.050381e-05\n",
            "25   verification_status -4.962084e-05\n",
            "1            funded_amnt -5.015014e-05\n",
            "31    last_credit_pull_d -7.507070e-05\n",
            "23             emp_title -1.420747e-04\n"
          ]
        }
      ],
      "source": [
        "weights = logistic_model.coef_[0]\n",
        "\n",
        "# Tạo DataFrame chứa các feature và trọng số tương ứng\n",
        "weights_df = pd.DataFrame({\n",
        "    'Feature': X_train.columns,\n",
        "    'Weight': weights\n",
        "})\n",
        "\n",
        "# Sắp xếp theo trọng số giảm dần\n",
        "weights_df = weights_df.sort_values(by='Weight', ascending=False)\n",
        "\n",
        "# Hiển thị các feature quan trọng\n",
        "print(\"Feature Weights:\")\n",
        "print(weights_df.head(20))"
      ]
    },
    {
      "cell_type": "code",
      "execution_count": 503,
      "metadata": {
        "id": "ofGdDxMGULFU",
        "outputId": "098d844f-3b54-4765-cd24-73edc9d2c135",
        "colab": {
          "base_uri": "https://localhost:8080/"
        }
      },
      "outputs": [
        {
          "output_type": "stream",
          "name": "stdout",
          "text": [
            "Selected Features: Index(['loan_amnt', 'funded_amnt', 'int_rate', 'emp_length', 'dti',\n",
            "       'delinq_2yrs', 'inq_last_6mths', 'open_acc', 'pub_rec', 'revol_util',\n",
            "       'total_acc', 'total_pymnt', 'total_rec_prncp', 'total_rec_int',\n",
            "       'total_rec_late_fee', 'recoveries', 'collection_recovery_fee',\n",
            "       'last_pymnt_amnt', 'pub_rec_bankruptcies', 'term', 'sub_grade',\n",
            "       'emp_title', 'home_ownership', 'verification_status', 'title',\n",
            "       'zip_code', 'earliest_cr_line', 'last_pymnt_d', 'last_credit_pull_d'],\n",
            "      dtype='object')\n",
            "X_train_selected shape: (20616, 29)\n"
          ]
        }
      ],
      "source": [
        "feature_weights = logistic_model.coef_[0]\n",
        "\n",
        "# Chọn đặc trưng có trọng số lớn (chẳng hạn chỉ chọn những đặc trưng có trọng số > 0)\n",
        "selected_features = np.abs(feature_weights) > 1e-5  # Ngưỡng có thể thay đổi\n",
        "\n",
        "# Chọn ra X_train_selected\n",
        "X_train_selected = X_train.loc[:, selected_features]\n",
        "\n",
        "# In ra các đặc trưng được chọn\n",
        "print(\"Selected Features:\", X_train.columns[selected_features])\n",
        "\n",
        "# In ra X_train_selected\n",
        "print(\"X_train_selected shape:\", X_train_selected.shape)"
      ]
    },
    {
      "cell_type": "code",
      "execution_count": 504,
      "metadata": {
        "id": "LEGdBdTVULFU"
      },
      "outputs": [],
      "source": [
        "X_val_selected = X_val.loc[:, selected_features]\n",
        "X_test_selected = X_test.loc[:, selected_features]"
      ]
    },
    {
      "cell_type": "code",
      "source": [
        "X_val_selected_dict[\"logistic\"] = X_val_selected"
      ],
      "metadata": {
        "id": "0GrhsAeyk1kd"
      },
      "execution_count": 505,
      "outputs": []
    },
    {
      "cell_type": "code",
      "execution_count": 506,
      "metadata": {
        "id": "UBeB1GHfULFV",
        "outputId": "957cb0a9-c035-4595-ebfb-d9938388e95b",
        "colab": {
          "base_uri": "https://localhost:8080/"
        }
      },
      "outputs": [
        {
          "output_type": "stream",
          "name": "stdout",
          "text": [
            "Validation Set:\n",
            "Confusion Matrix:\n",
            "[[ 451  269]\n",
            " [1455 2979]]\n",
            "\n",
            "Classification Report:\n",
            "              precision    recall  f1-score   support\n",
            "\n",
            "           0       0.24      0.63      0.34       720\n",
            "           1       0.92      0.67      0.78      4434\n",
            "\n",
            "    accuracy                           0.67      5154\n",
            "   macro avg       0.58      0.65      0.56      5154\n",
            "weighted avg       0.82      0.67      0.72      5154\n",
            "\n",
            "\n",
            "Accuracy Score:\n",
            "0.6655025223127667\n",
            "ROC AUC Score:\n",
            "0.6491213727259058\n"
          ]
        }
      ],
      "source": [
        "best_model.fit(X_train_selected, y_train)\n",
        "\n",
        "y_val_pred = best_model.predict(X_val_selected)\n",
        "\n",
        "# Evaluate the model\n",
        "print(\"Validation Set:\")\n",
        "print(\"Confusion Matrix:\")\n",
        "print(confusion_matrix(y_val, y_val_pred))\n",
        "print(\"\\nClassification Report:\")\n",
        "print(classification_report(y_val, y_val_pred))\n",
        "print(\"\\nAccuracy Score:\")\n",
        "print(accuracy_score(y_val, y_val_pred))\n",
        "print(\"ROC AUC Score:\")\n",
        "print(roc_auc_score(y_val, y_val_pred))"
      ]
    },
    {
      "cell_type": "markdown",
      "metadata": {
        "id": "tZkKsD4sULFV"
      },
      "source": [
        "Pytorch"
      ]
    },
    {
      "cell_type": "code",
      "execution_count": 507,
      "metadata": {
        "id": "43uTG5MWULFW"
      },
      "outputs": [],
      "source": [
        "# Define the neural network architecture\n",
        "class NeuralNetwork(nn.Module):\n",
        "    def __init__(self, input_size, hidden_size, num_classes):\n",
        "        super(NeuralNetwork, self).__init__()\n",
        "        self.fc1 = nn.Linear(input_size, hidden_size)\n",
        "        self.relu = nn.ReLU()\n",
        "        self.fc2 = nn.Linear(hidden_size, num_classes)\n",
        "\n",
        "    def forward(self, x):\n",
        "        out = self.fc1(x)\n",
        "        out = self.relu(out)\n",
        "        out = self.fc2(out)\n",
        "        return out"
      ]
    },
    {
      "cell_type": "code",
      "execution_count": 508,
      "metadata": {
        "id": "ng2TaS9TULFW"
      },
      "outputs": [],
      "source": [
        "scaler = StandardScaler()\n",
        "X_train = scaler.fit_transform(X_train)\n",
        "X_val = scaler.transform(X_val)\n",
        "# Convert the data to PyTorch tensors\n",
        "X_train_tensor = torch.tensor(X_train, dtype=torch.float32)\n",
        "y_train_tensor = torch.tensor(y_train.values, dtype=torch.long)  # Use long type for CrossEntropyLoss\n",
        "X_val_tensor = torch.tensor(X_val, dtype=torch.float32)\n",
        "y_val_tensor = torch.tensor(y_val.values, dtype=torch.long)  # Use long type for CrossEntropyLoss"
      ]
    },
    {
      "cell_type": "code",
      "source": [
        "if torch.cuda.is_available():\n",
        "    device = torch.device(\"cuda\")\n",
        "else:\n",
        "    device = torch.device(\"cpu\")"
      ],
      "metadata": {
        "id": "IlPxKLUab5rQ"
      },
      "execution_count": 509,
      "outputs": []
    },
    {
      "cell_type": "code",
      "execution_count": 510,
      "metadata": {
        "id": "JyRJq_MbULFX"
      },
      "outputs": [],
      "source": [
        "# Chuyển đổi dữ liệu sang GPU\n",
        "X_train_tensor = X_train_tensor.to(device)\n",
        "X_val_tensor = X_val_tensor.to(device)\n",
        "y_train_tensor = y_train_tensor.to(device)\n",
        "y_val_tensor = y_val_tensor.to(device)"
      ]
    },
    {
      "cell_type": "code",
      "execution_count": 511,
      "metadata": {
        "id": "EciRoJWjULFX",
        "outputId": "9e296acb-6382-42f0-c9a7-051a319d45d7",
        "colab": {
          "base_uri": "https://localhost:8080/"
        }
      },
      "outputs": [
        {
          "output_type": "stream",
          "name": "stdout",
          "text": [
            "Using device: cpu\n"
          ]
        }
      ],
      "source": [
        "device = torch.device('cuda' if torch.cuda.is_available() else 'cpu')\n",
        "print(f'Using device: {device}')"
      ]
    },
    {
      "cell_type": "code",
      "execution_count": 512,
      "metadata": {
        "id": "piiTcN3cULFX"
      },
      "outputs": [],
      "source": [
        "# Khởi tạo mô hình\n",
        "input_size = X_train.shape[1]\n",
        "hidden_size = 64\n",
        "num_classes = len(y_train.unique())\n",
        "model = NeuralNetwork(input_size, hidden_size, num_classes).to(device)"
      ]
    },
    {
      "cell_type": "code",
      "execution_count": 513,
      "metadata": {
        "id": "F8mqw4e0ULFY"
      },
      "outputs": [],
      "source": [
        "\n",
        "class_weights = torch.tensor([6.0, 1.0], dtype=torch.float32).to(device) # Tăng trọng số cho lớp 0 lên 6 lần so với lớp 1\n",
        "\n",
        "# Chuyển criterion sang GPU\n",
        "criterion = nn.CrossEntropyLoss(weight=class_weights).to(device)\n",
        "\n",
        "# Khởi tạo optimizer\n",
        "optimizer = optim.Adam(model.parameters(), lr=0.001)\n"
      ]
    },
    {
      "cell_type": "code",
      "execution_count": 514,
      "metadata": {
        "id": "b1wxo6d-ULFY",
        "outputId": "578a3a0b-724f-4d3d-8fbc-2b63bc212e0d",
        "colab": {
          "base_uri": "https://localhost:8080/"
        }
      },
      "outputs": [
        {
          "output_type": "stream",
          "name": "stdout",
          "text": [
            "Epoch [10/100], Loss: 0.6923\n",
            "Recall Score:  0.6908777969018933\n",
            "Epoch [20/100], Loss: 0.6748\n",
            "Recall Score:  0.5504302925989673\n",
            "Epoch [30/100], Loss: 0.6607\n",
            "Recall Score:  0.6296041308089501\n",
            "Epoch [40/100], Loss: 0.6487\n",
            "Recall Score:  0.6227194492254733\n",
            "Epoch [50/100], Loss: 0.6388\n",
            "Recall Score:  0.6065404475043029\n",
            "Epoch [60/100], Loss: 0.6314\n",
            "Recall Score:  0.619277108433735\n",
            "Epoch [70/100], Loss: 0.6262\n",
            "Recall Score:  0.6209982788296041\n",
            "Epoch [80/100], Loss: 0.6224\n",
            "Recall Score:  0.6220309810671256\n",
            "Epoch [90/100], Loss: 0.6190\n",
            "Recall Score:  0.6244406196213426\n",
            "Epoch [100/100], Loss: 0.6156\n",
            "Recall Score:  0.6271944922547332\n"
          ]
        }
      ],
      "source": [
        "# Huấn luyện mô hình\n",
        "num_epochs = 100\n",
        "for epoch in range(num_epochs):\n",
        "    # Forward pass\n",
        "    outputs = model(X_train_tensor)\n",
        "    loss = criterion(outputs, y_train_tensor)\n",
        "\n",
        "    # Backward pass and optimization\n",
        "    optimizer.zero_grad()\n",
        "    loss.backward()\n",
        "    optimizer.step()\n",
        "\n",
        "    if (epoch+1) % 10 == 0:\n",
        "        print(f'Epoch [{epoch+1}/{num_epochs}], Loss: {loss.item():.4f}')\n",
        "        print(\"Recall Score: \", recall_score(y_train, model(X_train_tensor).argmax(dim=1).cpu().detach().numpy(), pos_label=0))\n"
      ]
    },
    {
      "cell_type": "code",
      "execution_count": 515,
      "metadata": {
        "id": "uG7s1v_qULFY",
        "outputId": "f97e5cc3-3c02-47c0-c493-0106f9c6fbf6",
        "colab": {
          "base_uri": "https://localhost:8080/"
        }
      },
      "outputs": [
        {
          "output_type": "stream",
          "name": "stdout",
          "text": [
            "Confusion Matrix:\n",
            "[[ 433  287]\n",
            " [1338 3096]]\n",
            "\n",
            "Classification Report:\n",
            "              precision    recall  f1-score   support\n",
            "\n",
            "           0       0.24      0.60      0.35       720\n",
            "           1       0.92      0.70      0.79      4434\n",
            "\n",
            "    accuracy                           0.68      5154\n",
            "   macro avg       0.58      0.65      0.57      5154\n",
            "weighted avg       0.82      0.68      0.73      5154\n",
            "\n",
            "\n",
            "Accuracy Score:\n",
            "0.6847109041521149\n",
            "\n",
            "Recall Score for class 0:\n",
            "0.6013888888888889\n"
          ]
        }
      ],
      "source": [
        "# Đánh giá mô hình\n",
        "# Dự đoán trên tập kiểm tra\n",
        "model.eval()\n",
        "with torch.no_grad():\n",
        "    outputs = model(X_val_tensor)\n",
        "    _, predicted = torch.max(outputs.data, 1)\n",
        "\n",
        "# Chuyển đổi tensor thành numpy array\n",
        "y_val_np = y_val_tensor.cpu().numpy()\n",
        "predicted = predicted.cpu().numpy()\n",
        "\n",
        "# Đánh giá mô hình\n",
        "print(\"Confusion Matrix:\")\n",
        "print(confusion_matrix(y_val_np, predicted))\n",
        "print(\"\\nClassification Report:\")\n",
        "print(classification_report(y_val_np, predicted))\n",
        "print(\"\\nAccuracy Score:\")\n",
        "print(accuracy_score(y_val_np, predicted))\n",
        "print(\"\\nRecall Score for class 0:\")\n",
        "print(recall_score(y_val_np, predicted, pos_label=0))"
      ]
    },
    {
      "cell_type": "code",
      "execution_count": 516,
      "metadata": {
        "id": "-rnwJiXpULFZ",
        "outputId": "a4768f47-29e6-42b9-9d6d-30835993c4df",
        "colab": {
          "base_uri": "https://localhost:8080/"
        }
      },
      "outputs": [
        {
          "output_type": "stream",
          "name": "stdout",
          "text": [
            "Confusion Matrix:\n",
            "[[ 941  622]\n",
            " [2822 6660]]\n",
            "\n",
            "Classification Report:\n",
            "              precision    recall  f1-score   support\n",
            "\n",
            "           0       0.25      0.60      0.35      1563\n",
            "           1       0.91      0.70      0.79      9482\n",
            "\n",
            "    accuracy                           0.69     11045\n",
            "   macro avg       0.58      0.65      0.57     11045\n",
            "weighted avg       0.82      0.69      0.73     11045\n",
            "\n",
            "\n",
            "Accuracy Score:\n",
            "0.6881846989588049\n",
            "\n",
            "ROC AUC Score:\n",
            "0.6522154041269966\n"
          ]
        }
      ],
      "source": [
        "#Model Evaluation\n",
        "X_test = scaler.transform(X_test)\n",
        "# Predict on the test set\n",
        "X_test_tensor = torch.tensor(X_test, dtype=torch.float32).to(device)\n",
        "y_test_tensor = torch.tensor(y_test.values, dtype=torch.long).to(device)\n",
        "\n",
        "model.eval()\n",
        "with torch.no_grad():\n",
        "    outputs = model(X_test_tensor)\n",
        "    _, predicted = torch.max(outputs.data, 1)\n",
        "\n",
        "# Convert the tensors to numpy arrays\n",
        "y_test_np = y_test_tensor.cpu().numpy()\n",
        "predicted = predicted.cpu().numpy()\n",
        "\n",
        "# Evaluate the model\n",
        "print(\"Confusion Matrix:\")\n",
        "print(confusion_matrix(y_test_np, predicted))\n",
        "print(\"\\nClassification Report:\")\n",
        "print(classification_report(y_test_np, predicted))\n",
        "print(\"\\nAccuracy Score:\")\n",
        "print(accuracy_score(y_test_np, predicted))\n",
        "print(\"\\nROC AUC Score:\")\n",
        "print(roc_auc_score(y_test_np, predicted))"
      ]
    },
    {
      "cell_type": "markdown",
      "metadata": {
        "id": "27yz6qlcULFZ"
      },
      "source": [
        "HyperTunning for Pytorch"
      ]
    },
    {
      "cell_type": "code",
      "execution_count": 517,
      "metadata": {
        "id": "w402nm1WULFZ"
      },
      "outputs": [],
      "source": [
        "# Create TensorDatasets\n",
        "train_dataset = TensorDataset(X_train_tensor, y_train_tensor)\n",
        "val_dataset = TensorDataset(X_val_tensor, y_val_tensor)"
      ]
    },
    {
      "cell_type": "code",
      "execution_count": 518,
      "metadata": {
        "id": "L3_CWZAOULFZ"
      },
      "outputs": [],
      "source": [
        "def objective(trial):\n",
        "    # Hyperparameters to tune\n",
        "    lr = trial.suggest_loguniform('lr', 1e-5, 1e-2)\n",
        "    hidden_size = trial.suggest_int('hidden_size', 32, 256, step=32)\n",
        "    dropout = trial.suggest_uniform('dropout', 0.1, 0.5)\n",
        "    batch_size = trial.suggest_categorical('batch_size', [32, 64]) #Do máy tính không đủ tài nguyên nên chỉ chọn 2 giá trị\n",
        "    num_epochs = 10\n",
        "\n",
        "    # Initialize model with hyperparameters\n",
        "    train_loader = DataLoader(train_dataset, batch_size=batch_size, shuffle=True)\n",
        "    val_loader = DataLoader(val_dataset, batch_size=batch_size, shuffle=False)\n",
        "\n",
        "    # Initialize model, loss, and optimizer\n",
        "    input_size = X_train.shape[1]\n",
        "    num_classes = len(torch.unique(y_train_tensor))\n",
        "    model = NeuralNetwork(input_size, hidden_size, num_classes).to(device)\n",
        "    criterion = nn.CrossEntropyLoss(weight=class_weights)\n",
        "    optimizer = torch.optim.Adam(model.parameters(), lr=lr)\n",
        "\n",
        "    # Training loop\n",
        "    for epoch in range(num_epochs):\n",
        "        model.train()\n",
        "        for inputs, labels in train_loader:\n",
        "            inputs, labels = inputs.to(device), labels.to(device)\n",
        "            optimizer.zero_grad()\n",
        "            outputs = model(inputs)\n",
        "            loss = criterion(outputs, labels)\n",
        "            loss.backward()\n",
        "            optimizer.step()\n",
        "\n",
        "    # Validation loop\n",
        "    model.eval()\n",
        "    val_preds = []\n",
        "    val_labels = []\n",
        "    with torch.no_grad():\n",
        "        for inputs, labels in val_loader:\n",
        "            inputs, labels = inputs.to(device), labels.to(device)\n",
        "            outputs = model(inputs)\n",
        "            preds = torch.argmax(outputs, dim=1)\n",
        "            val_preds.extend(preds.cpu().numpy())\n",
        "            val_labels.extend(labels.cpu().numpy())\n",
        "\n",
        "    # Calculate recall for class 0\n",
        "    recall_0 = recall_score(val_labels, val_preds, pos_label=0)\n",
        "    return recall_0  # Optuna will maximize this metric\n"
      ]
    },
    {
      "cell_type": "code",
      "execution_count": 519,
      "metadata": {
        "id": "CKqJCh9aULFa",
        "outputId": "89a11437-fd57-4434-c383-bc7d5bba268a",
        "colab": {
          "base_uri": "https://localhost:8080/"
        }
      },
      "outputs": [
        {
          "output_type": "stream",
          "name": "stderr",
          "text": [
            "[I 2024-11-29 17:00:48,561] A new study created in memory with name: no-name-47e204e8-fcbf-4c6d-99f9-b691cd7a40cc\n",
            "[I 2024-11-29 17:00:56,897] Trial 0 finished with value: 0.5569444444444445 and parameters: {'lr': 0.0023690565804759317, 'hidden_size': 160, 'dropout': 0.45208708515750995, 'batch_size': 64}. Best is trial 0 with value: 0.5569444444444445.\n",
            "[I 2024-11-29 17:01:04,122] Trial 1 finished with value: 0.5722222222222222 and parameters: {'lr': 0.0012261234079482303, 'hidden_size': 192, 'dropout': 0.17289850169224924, 'batch_size': 64}. Best is trial 1 with value: 0.5722222222222222.\n",
            "[I 2024-11-29 17:01:17,140] Trial 2 finished with value: 0.6013888888888889 and parameters: {'lr': 0.0001634803070366433, 'hidden_size': 256, 'dropout': 0.4103439499220204, 'batch_size': 32}. Best is trial 2 with value: 0.6013888888888889.\n",
            "[I 2024-11-29 17:01:25,087] Trial 3 finished with value: 0.5402777777777777 and parameters: {'lr': 0.0007719144695069958, 'hidden_size': 256, 'dropout': 0.2720676741848465, 'batch_size': 64}. Best is trial 2 with value: 0.6013888888888889.\n",
            "[I 2024-11-29 17:01:32,703] Trial 4 finished with value: 0.5847222222222223 and parameters: {'lr': 0.002543678703881124, 'hidden_size': 192, 'dropout': 0.2704209733259497, 'batch_size': 64}. Best is trial 2 with value: 0.6013888888888889.\n",
            "[I 2024-11-29 17:01:45,316] Trial 5 finished with value: 0.5875 and parameters: {'lr': 0.0007476714693606955, 'hidden_size': 192, 'dropout': 0.23918937036342192, 'batch_size': 32}. Best is trial 2 with value: 0.6013888888888889.\n",
            "[I 2024-11-29 17:01:52,119] Trial 6 finished with value: 0.5458333333333333 and parameters: {'lr': 3.776644282275008e-05, 'hidden_size': 32, 'dropout': 0.4356878724904919, 'batch_size': 64}. Best is trial 2 with value: 0.6013888888888889.\n",
            "[I 2024-11-29 17:02:00,530] Trial 7 finished with value: 0.5958333333333333 and parameters: {'lr': 0.0011922479205571993, 'hidden_size': 224, 'dropout': 0.21142014531005296, 'batch_size': 64}. Best is trial 2 with value: 0.6013888888888889.\n",
            "[I 2024-11-29 17:02:13,272] Trial 8 finished with value: 0.5847222222222223 and parameters: {'lr': 6.960675228535089e-05, 'hidden_size': 160, 'dropout': 0.3644546082635911, 'batch_size': 32}. Best is trial 2 with value: 0.6013888888888889.\n",
            "[I 2024-11-29 17:02:25,553] Trial 9 finished with value: 0.6041666666666666 and parameters: {'lr': 0.007010253436620141, 'hidden_size': 192, 'dropout': 0.2682753203312403, 'batch_size': 32}. Best is trial 9 with value: 0.6041666666666666.\n",
            "[I 2024-11-29 17:02:37,084] Trial 10 finished with value: 0.5888888888888889 and parameters: {'lr': 0.006693777459099871, 'hidden_size': 96, 'dropout': 0.11094817780771138, 'batch_size': 32}. Best is trial 9 with value: 0.6041666666666666.\n",
            "[I 2024-11-29 17:02:49,998] Trial 11 finished with value: 0.5666666666666667 and parameters: {'lr': 0.00012986434011101679, 'hidden_size': 256, 'dropout': 0.35629779351165136, 'batch_size': 32}. Best is trial 9 with value: 0.6041666666666666.\n",
            "[I 2024-11-29 17:03:02,585] Trial 12 finished with value: 0.5513888888888889 and parameters: {'lr': 1.4975731578738476e-05, 'hidden_size': 96, 'dropout': 0.3625815832045626, 'batch_size': 32}. Best is trial 9 with value: 0.6041666666666666.\n",
            "[I 2024-11-29 17:03:15,368] Trial 13 finished with value: 0.5736111111111111 and parameters: {'lr': 0.00025970155025343747, 'hidden_size': 256, 'dropout': 0.49858871989862014, 'batch_size': 32}. Best is trial 9 with value: 0.6041666666666666.\n",
            "[I 2024-11-29 17:03:28,168] Trial 14 finished with value: 0.6180555555555556 and parameters: {'lr': 0.0002354577995735057, 'hidden_size': 224, 'dropout': 0.3288257181404158, 'batch_size': 32}. Best is trial 14 with value: 0.6180555555555556.\n",
            "[I 2024-11-29 17:03:39,541] Trial 15 finished with value: 0.5805555555555556 and parameters: {'lr': 0.008994749779312554, 'hidden_size': 128, 'dropout': 0.31864913822938323, 'batch_size': 32}. Best is trial 14 with value: 0.6180555555555556.\n",
            "[I 2024-11-29 17:03:51,548] Trial 16 finished with value: 0.575 and parameters: {'lr': 0.0003718138712428814, 'hidden_size': 224, 'dropout': 0.31150115528337136, 'batch_size': 32}. Best is trial 14 with value: 0.6180555555555556.\n",
            "[I 2024-11-29 17:04:04,195] Trial 17 finished with value: 0.5569444444444445 and parameters: {'lr': 3.2679438674525846e-05, 'hidden_size': 224, 'dropout': 0.17771822883599592, 'batch_size': 32}. Best is trial 14 with value: 0.6180555555555556.\n",
            "[I 2024-11-29 17:04:17,472] Trial 18 finished with value: 0.5847222222222223 and parameters: {'lr': 0.00044626447976412994, 'hidden_size': 128, 'dropout': 0.10572850556655283, 'batch_size': 32}. Best is trial 14 with value: 0.6180555555555556.\n",
            "[I 2024-11-29 17:04:31,518] Trial 19 finished with value: 0.6305555555555555 and parameters: {'lr': 0.004009117706833209, 'hidden_size': 192, 'dropout': 0.2739404169353259, 'batch_size': 32}. Best is trial 19 with value: 0.6305555555555555.\n",
            "[I 2024-11-29 17:04:42,610] Trial 20 finished with value: 0.5444444444444444 and parameters: {'lr': 0.003337301950533943, 'hidden_size': 32, 'dropout': 0.34631956984554835, 'batch_size': 32}. Best is trial 19 with value: 0.6305555555555555.\n",
            "[I 2024-11-29 17:04:54,435] Trial 21 finished with value: 0.6180555555555556 and parameters: {'lr': 0.004934824354869995, 'hidden_size': 192, 'dropout': 0.2532856552042282, 'batch_size': 32}. Best is trial 19 with value: 0.6305555555555555.\n",
            "[I 2024-11-29 17:05:07,119] Trial 22 finished with value: 0.6111111111111112 and parameters: {'lr': 0.004825980655072217, 'hidden_size': 224, 'dropout': 0.21392271349195638, 'batch_size': 32}. Best is trial 19 with value: 0.6305555555555555.\n",
            "[I 2024-11-29 17:05:19,448] Trial 23 finished with value: 0.5333333333333333 and parameters: {'lr': 0.00136765245116197, 'hidden_size': 160, 'dropout': 0.3034245191451701, 'batch_size': 32}. Best is trial 19 with value: 0.6305555555555555.\n",
            "[I 2024-11-29 17:05:31,387] Trial 24 finished with value: 0.6180555555555556 and parameters: {'lr': 0.00016165007133053897, 'hidden_size': 192, 'dropout': 0.2408477914488087, 'batch_size': 32}. Best is trial 19 with value: 0.6305555555555555.\n",
            "[I 2024-11-29 17:05:43,573] Trial 25 finished with value: 0.5958333333333333 and parameters: {'lr': 0.0019556230943237047, 'hidden_size': 224, 'dropout': 0.1604555830868134, 'batch_size': 32}. Best is trial 19 with value: 0.6305555555555555.\n",
            "[I 2024-11-29 17:05:55,363] Trial 26 finished with value: 0.5430555555555555 and parameters: {'lr': 0.004248283115715673, 'hidden_size': 160, 'dropout': 0.32951524338873944, 'batch_size': 32}. Best is trial 19 with value: 0.6305555555555555.\n",
            "[I 2024-11-29 17:06:06,559] Trial 27 finished with value: 0.5583333333333333 and parameters: {'lr': 0.0004820941561077076, 'hidden_size': 128, 'dropout': 0.4014644638500664, 'batch_size': 32}. Best is trial 19 with value: 0.6305555555555555.\n",
            "[I 2024-11-29 17:06:18,154] Trial 28 finished with value: 0.5513888888888889 and parameters: {'lr': 0.009998038832265053, 'hidden_size': 192, 'dropout': 0.2738270908500642, 'batch_size': 32}. Best is trial 19 with value: 0.6305555555555555.\n",
            "[I 2024-11-29 17:06:26,072] Trial 29 finished with value: 0.5902777777777778 and parameters: {'lr': 8.569914242697816e-05, 'hidden_size': 160, 'dropout': 0.39223208535881826, 'batch_size': 64}. Best is trial 19 with value: 0.6305555555555555.\n",
            "[I 2024-11-29 17:06:38,249] Trial 30 finished with value: 0.5708333333333333 and parameters: {'lr': 0.00212084780122895, 'hidden_size': 224, 'dropout': 0.23748460173387986, 'batch_size': 32}. Best is trial 19 with value: 0.6305555555555555.\n",
            "[I 2024-11-29 17:06:50,404] Trial 31 finished with value: 0.5736111111111111 and parameters: {'lr': 0.00018650356837169953, 'hidden_size': 192, 'dropout': 0.2907109511068986, 'batch_size': 32}. Best is trial 19 with value: 0.6305555555555555.\n",
            "[I 2024-11-29 17:07:01,613] Trial 32 finished with value: 0.5930555555555556 and parameters: {'lr': 0.00010690811668613507, 'hidden_size': 192, 'dropout': 0.237986849021454, 'batch_size': 32}. Best is trial 19 with value: 0.6305555555555555.\n",
            "[I 2024-11-29 17:07:13,144] Trial 33 finished with value: 0.6027777777777777 and parameters: {'lr': 5.0996420718161255e-05, 'hidden_size': 192, 'dropout': 0.217194904250898, 'batch_size': 32}. Best is trial 19 with value: 0.6305555555555555.\n",
            "[I 2024-11-29 17:07:20,974] Trial 34 finished with value: 0.6069444444444444 and parameters: {'lr': 0.0002216719423909542, 'hidden_size': 160, 'dropout': 0.17469895110442557, 'batch_size': 64}. Best is trial 19 with value: 0.6305555555555555.\n",
            "[I 2024-11-29 17:07:33,624] Trial 35 finished with value: 0.6180555555555556 and parameters: {'lr': 0.0007744736534635186, 'hidden_size': 256, 'dropout': 0.25297073536965126, 'batch_size': 32}. Best is trial 19 with value: 0.6305555555555555.\n",
            "[I 2024-11-29 17:07:46,202] Trial 36 finished with value: 0.6083333333333333 and parameters: {'lr': 0.0005951073525859252, 'hidden_size': 224, 'dropout': 0.2013387834932185, 'batch_size': 32}. Best is trial 19 with value: 0.6305555555555555.\n",
            "[I 2024-11-29 17:07:53,169] Trial 37 finished with value: 0.6013888888888889 and parameters: {'lr': 0.00029800516419618524, 'hidden_size': 192, 'dropout': 0.275242494937025, 'batch_size': 64}. Best is trial 19 with value: 0.6305555555555555.\n",
            "[I 2024-11-29 17:08:05,912] Trial 38 finished with value: 0.6041666666666666 and parameters: {'lr': 0.0001313223840947157, 'hidden_size': 256, 'dropout': 0.14672968982827989, 'batch_size': 32}. Best is trial 19 with value: 0.6305555555555555.\n",
            "[I 2024-11-29 17:08:14,426] Trial 39 finished with value: 0.5819444444444445 and parameters: {'lr': 0.0010448284277424324, 'hidden_size': 224, 'dropout': 0.3325234060310861, 'batch_size': 64}. Best is trial 19 with value: 0.6305555555555555.\n",
            "[I 2024-11-29 17:08:26,714] Trial 40 finished with value: 0.5444444444444444 and parameters: {'lr': 0.0016396946624734675, 'hidden_size': 192, 'dropout': 0.2880633229054433, 'batch_size': 32}. Best is trial 19 with value: 0.6305555555555555.\n",
            "[I 2024-11-29 17:08:39,204] Trial 41 finished with value: 0.5916666666666667 and parameters: {'lr': 0.0038413377315371453, 'hidden_size': 256, 'dropout': 0.2379217608927498, 'batch_size': 32}. Best is trial 19 with value: 0.6305555555555555.\n",
            "[I 2024-11-29 17:08:52,268] Trial 42 finished with value: 0.5875 and parameters: {'lr': 0.000818686976693231, 'hidden_size': 256, 'dropout': 0.25288867834421097, 'batch_size': 32}. Best is trial 19 with value: 0.6305555555555555.\n",
            "[I 2024-11-29 17:09:04,609] Trial 43 finished with value: 0.575 and parameters: {'lr': 0.00285374108817592, 'hidden_size': 224, 'dropout': 0.2528001033024565, 'batch_size': 32}. Best is trial 19 with value: 0.6305555555555555.\n",
            "[I 2024-11-29 17:09:17,047] Trial 44 finished with value: 0.5666666666666667 and parameters: {'lr': 0.00018502896043703408, 'hidden_size': 256, 'dropout': 0.3808707892062354, 'batch_size': 32}. Best is trial 19 with value: 0.6305555555555555.\n",
            "[I 2024-11-29 17:09:28,984] Trial 45 finished with value: 0.5680555555555555 and parameters: {'lr': 0.0058861090135397445, 'hidden_size': 192, 'dropout': 0.25667170080053126, 'batch_size': 32}. Best is trial 19 with value: 0.6305555555555555.\n",
            "[I 2024-11-29 17:09:40,804] Trial 46 finished with value: 0.6097222222222223 and parameters: {'lr': 0.0009083718352588106, 'hidden_size': 64, 'dropout': 0.19132542716753853, 'batch_size': 32}. Best is trial 19 with value: 0.6305555555555555.\n",
            "[I 2024-11-29 17:09:47,928] Trial 47 finished with value: 0.575 and parameters: {'lr': 0.0005957461050267198, 'hidden_size': 224, 'dropout': 0.22238914571295892, 'batch_size': 64}. Best is trial 19 with value: 0.6305555555555555.\n",
            "[I 2024-11-29 17:09:59,523] Trial 48 finished with value: 0.5736111111111111 and parameters: {'lr': 6.0122225758103805e-05, 'hidden_size': 192, 'dropout': 0.30354604916693784, 'batch_size': 32}. Best is trial 19 with value: 0.6305555555555555.\n",
            "[I 2024-11-29 17:10:12,055] Trial 49 finished with value: 0.5472222222222223 and parameters: {'lr': 0.00032525741710063855, 'hidden_size': 256, 'dropout': 0.28846176386762035, 'batch_size': 32}. Best is trial 19 with value: 0.6305555555555555.\n"
          ]
        },
        {
          "output_type": "stream",
          "name": "stdout",
          "text": [
            "Best parameters: {'lr': 0.004009117706833209, 'hidden_size': 192, 'dropout': 0.2739404169353259, 'batch_size': 32}\n",
            "Best recall for class 0: 0.6305555555555555\n"
          ]
        }
      ],
      "source": [
        "study = optuna.create_study(direction='maximize')  # Maximize recall for class 0\n",
        "study.optimize(objective, n_trials=50)  # Run 50 trials\n",
        "\n",
        "# Output the best parameters\n",
        "print(\"Best parameters:\", study.best_params)\n",
        "print(\"Best recall for class 0:\", study.best_value)"
      ]
    },
    {
      "cell_type": "code",
      "execution_count": 520,
      "metadata": {
        "id": "gJ1YsPH3ULFa",
        "outputId": "88394849-4f65-4dfd-edf5-609bfcd6507f",
        "colab": {
          "base_uri": "https://localhost:8080/"
        }
      },
      "outputs": [
        {
          "output_type": "stream",
          "name": "stdout",
          "text": [
            "Epoch [10/100], Loss: 0.5096\n",
            "Recall Score:  0.6777969018932875\n",
            "Epoch [20/100], Loss: 0.6390\n",
            "Recall Score:  0.7287435456110155\n",
            "Epoch [30/100], Loss: 0.2672\n",
            "Recall Score:  0.8351118760757315\n",
            "Epoch [40/100], Loss: 0.4399\n",
            "Recall Score:  0.8368330464716007\n",
            "Epoch [50/100], Loss: 0.2326\n",
            "Recall Score:  0.866092943201377\n",
            "Epoch [60/100], Loss: 0.3834\n",
            "Recall Score:  0.8750430292598967\n",
            "Epoch [70/100], Loss: 0.5764\n",
            "Recall Score:  0.8757314974182444\n",
            "Epoch [80/100], Loss: 0.1087\n",
            "Recall Score:  0.9249569707401033\n",
            "Epoch [90/100], Loss: 0.0807\n",
            "Recall Score:  0.9056798623063683\n",
            "Epoch [100/100], Loss: 0.6237\n",
            "Recall Score:  0.9163511187607574\n"
          ]
        }
      ],
      "source": [
        "best_params = study.best_params\n",
        "\n",
        "# Create DataLoader with the best batch size\n",
        "train_loader = DataLoader(train_dataset, batch_size=best_params['batch_size'], shuffle=True)\n",
        "\n",
        "# Initialize the model with the best parameters\n",
        "model = NeuralNetwork(\n",
        "    input_size=X_train.shape[1],\n",
        "    hidden_size=best_params['hidden_size'],\n",
        "    num_classes=len(torch.unique(y_train_tensor))\n",
        ").to(device)\n",
        "\n",
        "optimizer = torch.optim.Adam(model.parameters(), lr=best_params['lr'])\n",
        "criterion = nn.CrossEntropyLoss(weight=class_weights)\n",
        "\n",
        "# Final training loop\n",
        "for epoch in range(100):  # You can choose more epochs here for final training\n",
        "    model.train().to(device)\n",
        "    for inputs, labels in train_loader:\n",
        "        inputs, labels = inputs.to(device), labels.to(device)\n",
        "        optimizer.zero_grad()\n",
        "        outputs = model(inputs)\n",
        "        loss = criterion(outputs, labels)\n",
        "        loss.backward()\n",
        "        optimizer.step()\n",
        "    if (epoch+1) % 10 == 0:\n",
        "        print(f'Epoch [{epoch+1}/{num_epochs}], Loss: {loss.item():.4f}')\n",
        "        print(\"Recall Score: \", recall_score(y_train, model(X_train_tensor).argmax(dim=1).cpu().detach().numpy(), pos_label=0))"
      ]
    },
    {
      "cell_type": "code",
      "source": [
        "X_val_selected_dict[\"neural network\"] = X_test_tensor"
      ],
      "metadata": {
        "id": "RAkJG5zMlhp4"
      },
      "execution_count": 533,
      "outputs": []
    },
    {
      "cell_type": "code",
      "execution_count": 522,
      "metadata": {
        "id": "_4EtHpT8ULFa",
        "outputId": "36d0d362-a0f2-4d79-a3e0-475bb8bb7884",
        "colab": {
          "base_uri": "https://localhost:8080/"
        }
      },
      "outputs": [
        {
          "output_type": "stream",
          "name": "stdout",
          "text": [
            "Confusion Matrix:\n",
            "[[1562    1]\n",
            " [9472   10]]\n",
            "\n",
            "Classification Report:\n",
            "              precision    recall  f1-score   support\n",
            "\n",
            "           0       0.14      1.00      0.25      1563\n",
            "           1       0.91      0.00      0.00      9482\n",
            "\n",
            "    accuracy                           0.14     11045\n",
            "   macro avg       0.53      0.50      0.13     11045\n",
            "weighted avg       0.80      0.14      0.04     11045\n",
            "\n",
            "\n",
            "Accuracy Score:\n",
            "0.14232684472612042\n",
            "\n",
            "ROC AUC Score:\n",
            "0.5002074172797082\n"
          ]
        }
      ],
      "source": [
        "#Model Evaluation\n",
        "X_test = scaler.transform(X_test)\n",
        "# Predict on the test set\n",
        "X_test_tensor = torch.tensor(X_test, dtype=torch.float32).to(device)\n",
        "y_test_tensor = torch.tensor(y_test.values, dtype=torch.long).to(device)\n",
        "\n",
        "model.eval()\n",
        "with torch.no_grad():\n",
        "    outputs = model(X_test_tensor)\n",
        "    _, predicted = torch.max(outputs.data, 1)\n",
        "\n",
        "# Convert the tensors to numpy arrays\n",
        "y_test_np = y_test_tensor.cpu().numpy()\n",
        "predicted = predicted.cpu().numpy()\n",
        "\n",
        "# Evaluate the model\n",
        "print(\"Confusion Matrix:\")\n",
        "print(confusion_matrix(y_test_np, predicted))\n",
        "print(\"\\nClassification Report:\")\n",
        "print(classification_report(y_test_np, predicted))\n",
        "print(\"\\nAccuracy Score:\")\n",
        "print(accuracy_score(y_test_np, predicted))\n",
        "print(\"\\nROC AUC Score:\")\n",
        "print(roc_auc_score(y_test_np, predicted))"
      ]
    },
    {
      "cell_type": "markdown",
      "source": [
        "# 4. Explainability"
      ],
      "metadata": {
        "id": "hoyUsoQgMFCX"
      }
    },
    {
      "cell_type": "code",
      "source": [
        "decision_tree_model = dt_model\n",
        "logistic_model = best_model\n",
        "neural_network_model = model"
      ],
      "metadata": {
        "id": "XpPFQYZImvdq"
      },
      "execution_count": 526,
      "outputs": []
    },
    {
      "cell_type": "code",
      "source": [
        "print(X_val_selected_dict['decision tree'].shape)"
      ],
      "metadata": {
        "colab": {
          "base_uri": "https://localhost:8080/"
        },
        "id": "DfjuMhnSGF0u",
        "outputId": "618d145c-010d-49e5-b40f-fd335b9a2049"
      },
      "execution_count": 472,
      "outputs": [
        {
          "output_type": "stream",
          "name": "stdout",
          "text": [
            "(5154, 4)\n"
          ]
        }
      ]
    },
    {
      "cell_type": "code",
      "source": [
        "import matplotlib.pyplot as plt"
      ],
      "metadata": {
        "id": "NPwIzyNzKYLo"
      },
      "execution_count": 364,
      "outputs": []
    },
    {
      "cell_type": "markdown",
      "source": [
        "**GLOBAL EXPLAINABILTIY**"
      ],
      "metadata": {
        "id": "DT2_IxKYtujF"
      }
    },
    {
      "cell_type": "markdown",
      "source": [
        "**decision tree**"
      ],
      "metadata": {
        "id": "dqErL77-p77Y"
      }
    },
    {
      "cell_type": "code",
      "source": [
        "plt.clf()\n",
        "# SHAP values for Decision Tree\n",
        "explainer_dt = shap.TreeExplainer(decision_tree_model,\n",
        "                                  data = X_val_selected_dict['decision tree'])\n",
        "\n",
        "shap_values_dt = explainer_dt.shap_values(X_val_selected_dict['decision tree'])\n",
        "\n",
        "shap.summary_plot(shap_values_dt[:,:,0],\n",
        "                  X_val_selected_dict['decision tree'],\n",
        "                  max_display = 10)\n",
        "\n",
        "plt.show()\n",
        "display(plt.gcf())\n"
      ],
      "metadata": {
        "id": "IkvQXp49rQ4I",
        "colab": {
          "base_uri": "https://localhost:8080/",
          "height": 317
        },
        "outputId": "894febf7-7d25-4f89-8365-c1a05160e4ed"
      },
      "execution_count": 496,
      "outputs": [
        {
          "output_type": "display_data",
          "data": {
            "text/plain": [
              "<Figure size 800x310 with 2 Axes>"
            ],
            "image/png": "[encoded data removed]"
          },
          "metadata": {}
        }
      ]
    },
    {
      "cell_type": "markdown",
      "source": [
        "**\"last_credit_pull-d\" :** ta nhận thấy rằng tiêu chí này thường, nếu giá trị thấp thì thường sẽ củng cố cho dự đoán lớp \"0\" - loan rejected (giảm khả năng được chấp thuận), về mặt ý nghĩa, thuộc tính này biểu thị cho việc nếu khách hàng đã yêu cầu khoản vay gần đây (dẫn tới giá trị của thuộc tính cao), thường có xu hướng tài chính kém ổn định hơn.\n",
        "\n",
        "**Thuộc tính \"last_pymnt_d\" (tháng mà người vay đã thực hiện khoản thanh toán cuối cùng cho khoản vay của họ.):** hai thuộc tính này cũng có xu hướng tương tự khi chúng thể hiện việc tình trạng nợ hoặc khả năng trả nợ chưa tốt, trong khi thời gian xa hơn (giá trị thuộc tính sẽ thấp hơn) có thể phản ảnh tình trạng tài chính ổn định hơn.\n",
        "\n",
        "Còn đối với hai tiêu chí \"term\" (kỳ hạn khoản vay) và \"sub_grade\" (xếp hạng tính dụng con) ít có đóng góp hơn vào sự dự đoán trong việc từ chối khoản vay, nhưng nhìn chung, nếu"
      ],
      "metadata": {
        "id": "hdE8k2ahQ-pZ"
      }
    },
    {
      "cell_type": "markdown",
      "source": [
        "**Logistic model**"
      ],
      "metadata": {
        "id": "RDi56zT8pwfS"
      }
    },
    {
      "cell_type": "code",
      "source": [
        "print(X_val_selected_dict['logistic'].shape)\n",
        "print(X_val_selected_dict['decision tree'].shape)"
      ],
      "metadata": {
        "colab": {
          "base_uri": "https://localhost:8080/"
        },
        "id": "JufNWQwpe2B8",
        "outputId": "a61fe96e-9a52-477e-a5a2-0547e4bfd8d4"
      },
      "execution_count": 529,
      "outputs": [
        {
          "output_type": "stream",
          "name": "stdout",
          "text": [
            "(5154, 29)\n",
            "(5154, 4)\n"
          ]
        }
      ]
    },
    {
      "cell_type": "code",
      "source": [
        "plt.clf()\n",
        "# SHAP values for Decision Tree\n",
        "# explainer_dt = shap.LinearExplainer(logistic_model,\n",
        "#                                   data = X_val_selected_dict['logistic'])\n",
        "explainer_lr = shap.LinearExplainer(logistic_model,\n",
        "                                    masker=shap.maskers.Independent(X_val_selected_dict['logistic']))\n",
        "\n",
        "shap_values_lr = explainer_dt.shap_values(X_val_selected_dict['logistic'])\n",
        "\n",
        "shap.summary_plot(shap_values_lr[:,:],\n",
        "                  X_val_selected_dict['logistic'],\n",
        "                  max_display = 10)\n",
        "\n",
        "plt.show()\n",
        "display(plt.gcf())"
      ],
      "metadata": {
        "colab": {
          "base_uri": "https://localhost:8080/",
          "height": 557
        },
        "id": "RS6DZXWlTPe_",
        "outputId": "e2f1ded4-f72e-45b3-8d99-9db484ec4284"
      },
      "execution_count": 530,
      "outputs": [
        {
          "output_type": "display_data",
          "data": {
            "text/plain": [
              "<Figure size 800x550 with 2 Axes>"
            ],
            "image/png": "[encoded data removed]"
          },
          "metadata": {}
        }
      ]
    },
    {
      "cell_type": "markdown",
      "source": [
        "Dựa vào \"term\", đây là feature có ảnh hưởng nhất đối với logistic model, chúng phản ánh việc các hồ sơ vay nếu có thời hạn dài hơn (36 tháng) thì thường có tỉ lệ được chấp nhận vay (loan approval) cao hơn so với các khoản vay ngắn hạn.\n",
        "\n",
        "Dựa vào biểu đồ, ta thấy rằng hai tiêu chí \"funded_amnt\" và \"loan_amnt\" có ảnh hưởng tương đối đến việc loan rejection và loan approval. Nếu như \"funded_amnt\" càng lớn, tức người vay có nhu cầu tài chính cao hơn đi kèm với nhiều rủi ro hơn, thường có xu hướng dẫn đến loan rejected, còn ngược lại, với giá trị SHAP của loan_amnt có thể cho thấy rằng các khoản vay với số tiền yêu cầu cao hơn có thể được xem là hợp lý và có khả năng được chấp nhận. Điều này có thể giải thích tại sao giá trị SHAP của loan_amnt có thể dương và cao. Ngoài ra thì\n",
        "Sub Grade (sub_grade): Phân loại phụ của khoản vay do LC gán - giá trị cao hơn có thể cho thấy người vay có hồ sơ tín dụng tốt hơn.\n",
        "\n",
        "Ngoài ra các tiêu chí như (last_credit_pull_d), (earliest_cr_line), (zip_code), (last_pymnt_d), (emp_title), (revol_util) cũng cố các thông tin về củng cố liên quan đến người vay :      \n",
        "\n",
        "1. Last Credit Pull Date (last_credit_pull_d): Tháng gần nhất mà LC kiểm tra tín dụng của khoản vay này. Thông tin này có thể cho thấy tình trạng tài chính hiện tại của người vay.\n",
        "\n",
        "2. Earliest Credit Line (earliest_cr_line): Tháng mà dòng tín dụng đầu tiên của người vay được mở. Giá trị cao hơn có thể cho thấy người vay có lịch sử tín dụng lâu dài hơn.\n",
        "\n",
        "3. Zip Code (zip_code): Mã bưu điện của người vay. Thông tin này có thể được sử dụng để đánh giá rủi ro dựa trên vị trí địa lý.\n",
        "\n",
        "4. Last Payment Date (last_pymnt_d): Tháng gần nhất mà khoản thanh toán đã được nhận. Thông tin này có thể cho thấy người vay có thực hiện thanh toán đúng hạn hay không.\n",
        "\n",
        "5. Employment Title (emp_title): Chức danh công việc của người vay. Thông tin này có thể cho thấy mức độ ổn định trong công việc của người vay.\n",
        "\n",
        "6. Revolving Utilization (revol_util): Tỷ lệ sử dụng tín dụng quay vòng. Giá trị cao hơn có thể cho thấy người vay đang sử dụng nhiều tín dụng hơn so với hạn mức tín dụng của họ."
      ],
      "metadata": {
        "id": "0z7qcbWbgWcn"
      }
    },
    {
      "cell_type": "code",
      "source": [
        "plt.clf()\n",
        "model.eval()\n",
        "# SHAP values for Decision Tree\n",
        "explainer_dt = shap.DeepExplainer(neural_network_model,\n",
        "                                  data = X_val_selected_dict[\"neural network\"])\n",
        "\n",
        "shap_values_dt = explainer_dt.shap_values(X_val_selected_dict[\"neural network\"])\n",
        "\n",
        "shap.summary_plot(shap_values_dt[:,:,0],\n",
        "                  X_val_selected_dict[\"neural network\"],\n",
        "                  max_display = 10)\n",
        "\n",
        "plt.show()\n",
        "display(plt.gcf())"
      ],
      "metadata": {
        "id": "Cb7-b1HHTerg"
      },
      "execution_count": null,
      "outputs": []
    },
    {
      "cell_type": "markdown",
      "source": [
        "Local interpretability"
      ],
      "metadata": {
        "id": "Ax-O6v3rpJSn"
      }
    },
    {
      "cell_type": "code",
      "source": [
        "random_idx = np.random.randint(len(X_train))\n",
        "random_idx"
      ],
      "metadata": {
        "id": "Lwvr2qBWcYZp"
      },
      "execution_count": null,
      "outputs": []
    },
    {
      "cell_type": "code",
      "source": [
        "shap.waterfall_plot(shap_explainer_values[random_idx])"
      ],
      "metadata": {
        "id": "A9bPE-W7pa4H"
      },
      "execution_count": null,
      "outputs": []
    },
    {
      "cell_type": "code",
      "source": [
        "shap.force_plot(shap_explainer_values[random_idx])"
      ],
      "metadata": {
        "id": "zYDLT2Qgpmv3"
      },
      "execution_count": null,
      "outputs": []
    }
  ],
  "metadata": {
    "colab": {
      "provenance": []
    },
    "kernelspec": {
      "display_name": "Python 3",
      "name": "python3"
    },
    "language_info": {
      "codemirror_mode": {
        "name": "ipython",
        "version": 3
      },
      "file_extension": ".py",
      "mimetype": "text/x-python",
      "name": "python",
      "nbconvert_exporter": "python",
      "pygments_lexer": "ipython3",
      "version": "3.12.6"
    }
  },
  "nbformat": 4,
  "nbformat_minor": 0
}