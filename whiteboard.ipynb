{
 "cells": [
  {
   "cell_type": "code",
   "execution_count": 1,
   "metadata": {},
   "outputs": [],
   "source": [
    "import pandas as pd "
   ]
  },
  {
   "cell_type": "code",
   "execution_count": 2,
   "metadata": {},
   "outputs": [
    {
     "name": "stderr",
     "output_type": "stream",
     "text": [
      "C:\\Users\\DAT\\AppData\\Local\\Temp\\ipykernel_21152\\3592418794.py:1: DtypeWarning: Columns (47) have mixed types. Specify dtype option on import or set low_memory=False.\n",
      "  loan = pd.read_csv(\"loan.csv\")\n"
     ]
    }
   ],
   "source": [
    "loan = pd.read_csv(\"loan.csv\")"
   ]
  },
  {
   "cell_type": "code",
   "execution_count": 34,
   "metadata": {},
   "outputs": [
    {
     "data": {
      "text/html": [
       "<div>\n",
       "<style scoped>\n",
       "    .dataframe tbody tr th:only-of-type {\n",
       "        vertical-align: middle;\n",
       "    }\n",
       "\n",
       "    .dataframe tbody tr th {\n",
       "        vertical-align: top;\n",
       "    }\n",
       "\n",
       "    .dataframe thead th {\n",
       "        text-align: right;\n",
       "    }\n",
       "</style>\n",
       "<table border=\"1\" class=\"dataframe\">\n",
       "  <thead>\n",
       "    <tr style=\"text-align: right;\">\n",
       "      <th></th>\n",
       "      <th>last_credit_pull_d</th>\n",
       "      <th>last_pymnt_d</th>\n",
       "      <th>term</th>\n",
       "      <th>sub_grade</th>\n",
       "    </tr>\n",
       "  </thead>\n",
       "  <tbody>\n",
       "    <tr>\n",
       "      <th>0</th>\n",
       "      <td>May-16</td>\n",
       "      <td>Jan-15</td>\n",
       "      <td>36 months</td>\n",
       "      <td>B2</td>\n",
       "    </tr>\n",
       "    <tr>\n",
       "      <th>2</th>\n",
       "      <td>May-16</td>\n",
       "      <td>Jun-14</td>\n",
       "      <td>36 months</td>\n",
       "      <td>C5</td>\n",
       "    </tr>\n",
       "    <tr>\n",
       "      <th>3</th>\n",
       "      <td>Apr-16</td>\n",
       "      <td>Jan-15</td>\n",
       "      <td>36 months</td>\n",
       "      <td>C1</td>\n",
       "    </tr>\n",
       "    <tr>\n",
       "      <th>5</th>\n",
       "      <td>Jan-16</td>\n",
       "      <td>Jan-15</td>\n",
       "      <td>36 months</td>\n",
       "      <td>A4</td>\n",
       "    </tr>\n",
       "    <tr>\n",
       "      <th>6</th>\n",
       "      <td>May-16</td>\n",
       "      <td>May-16</td>\n",
       "      <td>60 months</td>\n",
       "      <td>C5</td>\n",
       "    </tr>\n",
       "    <tr>\n",
       "      <th>...</th>\n",
       "      <td>...</td>\n",
       "      <td>...</td>\n",
       "      <td>...</td>\n",
       "      <td>...</td>\n",
       "    </tr>\n",
       "    <tr>\n",
       "      <th>39712</th>\n",
       "      <td>Jun-10</td>\n",
       "      <td>Jul-10</td>\n",
       "      <td>36 months</td>\n",
       "      <td>A4</td>\n",
       "    </tr>\n",
       "    <tr>\n",
       "      <th>39713</th>\n",
       "      <td>Jul-10</td>\n",
       "      <td>Jul-10</td>\n",
       "      <td>36 months</td>\n",
       "      <td>C1</td>\n",
       "    </tr>\n",
       "    <tr>\n",
       "      <th>39714</th>\n",
       "      <td>Jun-07</td>\n",
       "      <td>Apr-08</td>\n",
       "      <td>36 months</td>\n",
       "      <td>A4</td>\n",
       "    </tr>\n",
       "    <tr>\n",
       "      <th>39715</th>\n",
       "      <td>Jun-07</td>\n",
       "      <td>Jan-08</td>\n",
       "      <td>36 months</td>\n",
       "      <td>A2</td>\n",
       "    </tr>\n",
       "    <tr>\n",
       "      <th>39716</th>\n",
       "      <td>Jun-10</td>\n",
       "      <td>Jun-10</td>\n",
       "      <td>36 months</td>\n",
       "      <td>E2</td>\n",
       "    </tr>\n",
       "  </tbody>\n",
       "</table>\n",
       "<p>32950 rows × 4 columns</p>\n",
       "</div>"
      ],
      "text/plain": [
       "      last_credit_pull_d last_pymnt_d        term sub_grade\n",
       "0                 May-16       Jan-15   36 months        B2\n",
       "2                 May-16       Jun-14   36 months        C5\n",
       "3                 Apr-16       Jan-15   36 months        C1\n",
       "5                 Jan-16       Jan-15   36 months        A4\n",
       "6                 May-16       May-16   60 months        C5\n",
       "...                  ...          ...         ...       ...\n",
       "39712             Jun-10       Jul-10   36 months        A4\n",
       "39713             Jul-10       Jul-10   36 months        C1\n",
       "39714             Jun-07       Apr-08   36 months        A4\n",
       "39715             Jun-07       Jan-08   36 months        A2\n",
       "39716             Jun-10       Jun-10   36 months        E2\n",
       "\n",
       "[32950 rows x 4 columns]"
      ]
     },
     "execution_count": 34,
     "metadata": {},
     "output_type": "execute_result"
    }
   ],
   "source": [
    "filter = ['last_credit_pull_d','last_pymnt_d','term','sub_grade']\n",
    "a = loan[loan.loan_status == 'Fully Paid']\n",
    "a[filter]"
   ]
  },
  {
   "cell_type": "code",
   "execution_count": null,
   "metadata": {},
   "outputs": [],
   "source": []
  }
 ],
 "metadata": {
  "kernelspec": {
   "display_name": "base",
   "language": "python",
   "name": "python3"
  },
  "language_info": {
   "codemirror_mode": {
    "name": "ipython",
    "version": 3
   },
   "file_extension": ".py",
   "mimetype": "text/x-python",
   "name": "python",
   "nbconvert_exporter": "python",
   "pygments_lexer": "ipython3",
   "version": "3.12.4"
  }
 },
 "nbformat": 4,
 "nbformat_minor": 2
}
